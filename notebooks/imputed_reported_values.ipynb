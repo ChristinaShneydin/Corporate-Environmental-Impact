{
 "cells": [
  {
   "cell_type": "code",
   "execution_count": null,
   "id": "3e416823",
   "metadata": {},
   "outputs": [],
   "source": [
    "import pandas as pd\n",
    "\n",
    "file_path = r\"C:\\Users\\chris\\Corporate_Environmental_Impact\\data\\raw\\Scope-3-Environmental-Impact-Data-2022.xlsx\"\n",
    "\n",
    "df = pd.read_excel(file_path, sheet_name=\"0%\")"
   ]
  },
  {
   "cell_type": "code",
   "execution_count": null,
   "id": "6b9f41a2",
   "metadata": {},
   "outputs": [],
   "source": [
    "print(df.columns)\n"
   ]
  },
  {
   "cell_type": "code",
   "execution_count": null,
   "id": "a65d6a55",
   "metadata": {},
   "outputs": [],
   "source": [
    "# Check null/nan values\n",
    "print(df.isnull().sum())\n",
    "\n",
    "# Drop rows with missing values\n",
    "df=df.dropna()\n",
    "\n",
    "print(df.isnull().sum())\n"
   ]
  },
  {
   "cell_type": "code",
   "execution_count": null,
   "id": "4d38ade3",
   "metadata": {},
   "outputs": [],
   "source": [
    "# Filter if Scope 3 values are reported by companies (Imputed = 0) or predicted (Imputed=1)\n",
    "\n",
    "imputed_cols=[\"Business Travel Imputed\", \"Capital Goods Imputed\", \"Downstream Leased Assets Imputed\",\"Downstream Transportation and Distribution Imputed\", \"Employee Commuting Imputed\", \"End of Life Treatment of Sold Products Imputed\",\n",
    "               \"Franchises Imputed\", \"Fuel-and-energy-related activities (not included in Scope 1 or 2) Imputed\", \"Investments Imputed\", \"Processing of Sold Products Imputed\", \"Purchased Goods and Services Imputed\", \n",
    "               \"Upstream Leased Assets Imputed\", \"Upstream Transportation and Distribution Imputed\", \"Use of Sold Products Imputed\", \"Waste Generated in Operations Imputed\"]\n",
    "\n",
    "\n",
    "# Filter for all 15 columns reported\n",
    "col_fully_reported=(df[imputed_cols] == 0).all(axis=1)\n",
    "\n",
    "df_fully_reported=df[col_fully_reported]\n",
    "\n",
    "print(df_fully_reported.shape)\n",
    "\n",
    "# Filter for 10 cols reported\n",
    "mask = (df[imputed_cols] == 0).sum(axis=1) >= 10\n",
    "df_filtered_10 = df[mask]\n",
    "\n",
    "print(df_filtered_10.shape)\n",
    "\n",
    "mask = (df[imputed_cols] == 0).sum(axis=1) >= 8\n",
    "df_filtered_8 = df[mask]\n",
    "\n",
    "print(df_filtered_8.shape)\n",
    "\n",
    "mask = (df[imputed_cols] == 0).sum(axis=1) >= 5\n",
    "df_filtered_5 = df[mask]\n",
    "\n",
    "print(df_filtered_5.shape)\n",
    "\n",
    "\n"
   ]
  },
  {
   "cell_type": "code",
   "execution_count": null,
   "id": "ea32c73e",
   "metadata": {},
   "outputs": [],
   "source": [
    "# Which companies report more than others?\n",
    "\n",
    "# Imputed Columns grouped by Industry\n",
    "df['Num_Imputed'] = df[imputed_cols].sum(axis=1)\n",
    "branch_avg_imputed = df.groupby(\"Industry (Exiobase)\")[\"Num_Imputed\"].mean().sort_values(ascending=False)\n",
    "branch_avg_imputed"
   ]
  },
  {
   "cell_type": "code",
   "execution_count": null,
   "id": "ce74ec6e",
   "metadata": {},
   "outputs": [],
   "source": []
  },
  {
   "cell_type": "code",
   "execution_count": null,
   "id": "022ffd39",
   "metadata": {},
   "outputs": [],
   "source": [
    "import matplotlib.pyplot as plt\n",
    "\n",
    "branch_avg_imputed.plot(kind=\"barh\", figsize=(8,10), title=\"Durchschnittl. Anzahl geschätzter Umweltkategorien pro Branche\")\n",
    "plt.xlabel(\"Durchschnittliche Anzahl geschätzter Kategorien (Imputed)\")\n",
    "plt.ylabel(\"Branche\")\n",
    "plt.tight_layout()\n",
    "plt.show()"
   ]
  },
  {
   "cell_type": "code",
   "execution_count": null,
   "id": "a2a3e959",
   "metadata": {},
   "outputs": [],
   "source": [
    "df['Num_Imputed'] = df[imputed_cols].sum(axis=1)\n",
    "df.groupby('Industry (Exiobase)')[['Num_Imputed', 'Total GHG Environmental Impact (Scope 1, 2, 3)']].mean().sort_values(by='Num_Imputed')\n"
   ]
  },
  {
   "cell_type": "code",
   "execution_count": null,
   "id": "2a9a1236",
   "metadata": {},
   "outputs": [],
   "source": [
    "\n",
    "# Anzahl nicht imputierter Werte berechnen\n",
    "df['Num_Imputed'] = df[imputed_cols].sum(axis=1)\n",
    "df['Num_Reported'] = len(imputed_cols) - df['Num_Imputed']\n",
    "\n",
    "# Mittelwerte pro Branche berechnen\n",
    "industry_summary = df.groupby('Industry (Exiobase)').agg({\n",
    "    'Num_Reported': 'mean',\n",
    "    'Total GHG Environmental Impact (Scope 1, 2, 3)': 'mean',\n",
    "    'Company Name': 'count' \n",
    "}).rename(columns={'Company Name': 'Count'})\n",
    "\n",
    "# Bubble Chart zeichnen\n",
    "plt.figure(figsize=(12, 8))\n",
    "plt.scatter(\n",
    "    industry_summary['Num_Reported'],\n",
    "    industry_summary['Total GHG Environmental Impact (Scope 1, 2, 3)'],\n",
    "    s=industry_summary['Count'] * 5,  # Bubble-Größe skalieren\n",
    "    alpha=0.6,\n",
    "    c='skyblue',\n",
    "    edgecolors='grey',\n",
    "    linewidths=0.5\n",
    ")\n",
    "\n",
    "plt.xlabel('Durchschnittlich gemeldete Werte pro Branche')\n",
    "plt.ylabel('Durchschnittlicher GHG Impact (Scope 1,2,3)')\n",
    "plt.title('Branchen: GHG Impact vs. Transparenz (Reporting)')\n",
    "plt.grid(True)\n",
    "plt.tight_layout()\n",
    "\n",
    "plt.show()\n"
   ]
  },
  {
   "cell_type": "code",
   "execution_count": null,
   "id": "9ccdbc64",
   "metadata": {},
   "outputs": [],
   "source": [
    "# Anzahl der Jahre der Aufzeichnungen\n",
    "print(df['Year'].unique())\n"
   ]
  },
  {
   "cell_type": "code",
   "execution_count": null,
   "id": "83c895c3",
   "metadata": {},
   "outputs": [],
   "source": [
    "# Wieviele Unternehmen aus Deutschland gibt es?\n",
    "\n",
    "# Filter erstellen, strip/öpwer, um unterschiedloche Schreibweisen auszuschließen\n",
    "df['Country'] = df['Country'].str.strip().str.lower()\n",
    "maske = (df['Country'] == 'germany')\n",
    "\n",
    "\n",
    "# Gefilterte Daten anzeigen\n",
    "df_print = df[maske]\n",
    "print(df_print)\n"
   ]
  }
 ],
 "metadata": {
  "kernelspec": {
   "display_name": ".venv",
   "language": "python",
   "name": "python3"
  },
  "language_info": {
   "codemirror_mode": {
    "name": "ipython",
    "version": 3
   },
   "file_extension": ".py",
   "mimetype": "text/x-python",
   "name": "python",
   "nbconvert_exporter": "python",
   "pygments_lexer": "ipython3",
   "version": "3.13.3"
  }
 },
 "nbformat": 4,
 "nbformat_minor": 5
}
