{
 "cells": [
  {
   "cell_type": "code",
   "execution_count": null,
   "id": "3e416823",
   "metadata": {},
   "outputs": [],
   "source": [
    "import pandas as pd\n",
    "\n",
    "file_path = r\"C:\\Users\\chris\\Corporate_Environmental_Impact\\data\\raw\\Scope-3-Environmental-Impact-Data-2022.xlsx\"\n",
    "\n",
    "df = pd.read_excel(file_path, sheet_name=\"0%\")\n",
    "\n",
    "print(df.head())\n",
    "df.shape"
   ]
  },
  {
   "cell_type": "code",
   "execution_count": null,
   "id": "4d38ade3",
   "metadata": {},
   "outputs": [],
   "source": []
  }
 ],
 "metadata": {
  "kernelspec": {
   "display_name": ".venv",
   "language": "python",
   "name": "python3"
  },
  "language_info": {
   "name": "python",
   "version": "3.13.3"
  }
 },
 "nbformat": 4,
 "nbformat_minor": 5
}
