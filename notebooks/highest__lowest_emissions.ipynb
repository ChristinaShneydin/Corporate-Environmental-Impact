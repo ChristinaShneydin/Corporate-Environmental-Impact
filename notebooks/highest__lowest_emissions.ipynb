{
 "cells": [
  {
   "cell_type": "code",
   "execution_count": 2,
   "id": "7ad798e8",
   "metadata": {},
   "outputs": [
    {
     "name": "stdout",
     "output_type": "stream",
     "text": [
      "Year                                                                           0\n",
      "Company Name                                                                   0\n",
      "Country                                                                        0\n",
      "Industry (Exiobase)                                                            0\n",
      "GHG Intensity (Sales)                                                          5\n",
      "GHG Intensity (Op Income)                                                    341\n",
      "Total GHG Environmental Impact (Scope 1, 2, 3)                                 0\n",
      "Scope 1                                                                        0\n",
      "Scope 2                                                                        0\n",
      "Scope 3                                                                        0\n",
      "Business Travel                                                                0\n",
      "Business Travel Set                                                            0\n",
      "Business Travel Imputed                                                        0\n",
      "Capital Goods                                                                  0\n",
      "Capital Goods Set                                                              0\n",
      "Capital Goods Imputed                                                          0\n",
      "Downstream Leased Assets                                                       0\n",
      "Downstream Leased Assets Set                                                   0\n",
      "Downstream Leased Assets Imputed                                               0\n",
      "Downstream Transportation and Distribution                                     0\n",
      "Downstream Transportation and Distribution Set                                 0\n",
      "Downstream Transportation and Distribution Imputed                             0\n",
      "Employee Commuting                                                             0\n",
      "Employee Commuting Set                                                         0\n",
      "Employee Commuting Imputed                                                     0\n",
      "End of Life Treatment of Sold Products                                         0\n",
      "End of Life Treatment of Sold Products Set                                     0\n",
      "End of Life Treatment of Sold Products Imputed                                 0\n",
      "Franchises                                                                     0\n",
      "Franchises Set                                                                 0\n",
      "Franchises Imputed                                                             0\n",
      "Fuel-and-energy-related activities (not included in Scope 1 or 2)              0\n",
      "Fuel-and-energy-related activities (not included in Scope 1 or 2) Set          0\n",
      "Fuel-and-energy-related activities (not included in Scope 1 or 2) Imputed      0\n",
      "Investments                                                                    0\n",
      "Investments Set                                                                0\n",
      "Investments Imputed                                                            0\n",
      "Processing of Sold Products                                                    0\n",
      "Processing of Sold Products Set                                                0\n",
      "Processing of Sold Products Imputed                                            0\n",
      "Purchased Goods and Services                                                   0\n",
      "Purchased Goods and Services Set                                               0\n",
      "Purchased Goods and Services Imputed                                           0\n",
      "Upstream Leased Assets                                                         0\n",
      "Upstream Leased Assets Set                                                     0\n",
      "Upstream Leased Assets Imputed                                                 0\n",
      "Upstream Transportation and Distribution                                       0\n",
      "Upstream Transportation and Distribution Set                                   0\n",
      "Upstream Transportation and Distribution Imputed                               0\n",
      "Use of Sold Products                                                           0\n",
      "Use of Sold Products Set                                                       0\n",
      "Use of Sold Products Imputed                                                   0\n",
      "Waste Generated in Operations                                                  0\n",
      "Waste Generated in Operations Set                                              0\n",
      "Waste Generated in Operations Imputed                                          0\n",
      "dtype: int64\n",
      "Index(['Year', 'Company Name', 'Country', 'Industry (Exiobase)',\n",
      "       'GHG Intensity (Sales)', 'GHG Intensity (Op Income)',\n",
      "       'Total GHG Environmental Impact (Scope 1, 2, 3)', 'Scope 1', 'Scope 2',\n",
      "       'Scope 3 ', 'Business Travel', 'Capital Goods',\n",
      "       'Downstream Transportation and Distribution', 'Employee Commuting',\n",
      "       'End of Life Treatment of Sold Products', 'Franchises',\n",
      "       'Fuel-and-energy-related activities (not included in Scope 1 or 2)',\n",
      "       'Investments', 'Processing of Sold Products',\n",
      "       'Purchased Goods and Services',\n",
      "       'Upstream Transportation and Distribution', 'Use of Sold Products',\n",
      "       'Waste Generated in Operations'],\n",
      "      dtype='object')\n"
     ]
    },
    {
     "data": {
      "text/html": [
       "<div>\n",
       "<style scoped>\n",
       "    .dataframe tbody tr th:only-of-type {\n",
       "        vertical-align: middle;\n",
       "    }\n",
       "\n",
       "    .dataframe tbody tr th {\n",
       "        vertical-align: top;\n",
       "    }\n",
       "\n",
       "    .dataframe thead th {\n",
       "        text-align: right;\n",
       "    }\n",
       "</style>\n",
       "<table border=\"1\" class=\"dataframe\">\n",
       "  <thead>\n",
       "    <tr style=\"text-align: right;\">\n",
       "      <th></th>\n",
       "      <th>Year</th>\n",
       "      <th>GHG Intensity (Sales)</th>\n",
       "      <th>GHG Intensity (Op Income)</th>\n",
       "      <th>Total GHG Environmental Impact (Scope 1, 2, 3)</th>\n",
       "      <th>Scope 1</th>\n",
       "      <th>Scope 2</th>\n",
       "      <th>Scope 3</th>\n",
       "      <th>Business Travel</th>\n",
       "      <th>Capital Goods</th>\n",
       "      <th>Downstream Transportation and Distribution</th>\n",
       "      <th>Employee Commuting</th>\n",
       "      <th>End of Life Treatment of Sold Products</th>\n",
       "      <th>Franchises</th>\n",
       "      <th>Fuel-and-energy-related activities (not included in Scope 1 or 2)</th>\n",
       "      <th>Investments</th>\n",
       "      <th>Processing of Sold Products</th>\n",
       "      <th>Purchased Goods and Services</th>\n",
       "      <th>Upstream Transportation and Distribution</th>\n",
       "      <th>Use of Sold Products</th>\n",
       "      <th>Waste Generated in Operations</th>\n",
       "    </tr>\n",
       "  </thead>\n",
       "  <tbody>\n",
       "    <tr>\n",
       "      <th>count</th>\n",
       "      <td>8672.000000</td>\n",
       "      <td>8672.000000</td>\n",
       "      <td>8672.000000</td>\n",
       "      <td>8.672000e+03</td>\n",
       "      <td>8.672000e+03</td>\n",
       "      <td>8.672000e+03</td>\n",
       "      <td>8.672000e+03</td>\n",
       "      <td>8.672000e+03</td>\n",
       "      <td>8.672000e+03</td>\n",
       "      <td>8.672000e+03</td>\n",
       "      <td>8.672000e+03</td>\n",
       "      <td>8.672000e+03</td>\n",
       "      <td>8.672000e+03</td>\n",
       "      <td>8.672000e+03</td>\n",
       "      <td>8.672000e+03</td>\n",
       "      <td>8.672000e+03</td>\n",
       "      <td>8.672000e+03</td>\n",
       "      <td>8.672000e+03</td>\n",
       "      <td>8.672000e+03</td>\n",
       "      <td>8.672000e+03</td>\n",
       "    </tr>\n",
       "    <tr>\n",
       "      <th>mean</th>\n",
       "      <td>2015.801891</td>\n",
       "      <td>-0.588776</td>\n",
       "      <td>-11.402280</td>\n",
       "      <td>-7.710142e+09</td>\n",
       "      <td>-1.092805e+09</td>\n",
       "      <td>-2.289068e+08</td>\n",
       "      <td>-6.388430e+09</td>\n",
       "      <td>-7.965346e+06</td>\n",
       "      <td>-6.974595e+07</td>\n",
       "      <td>-9.687343e+07</td>\n",
       "      <td>-1.318875e+07</td>\n",
       "      <td>-1.098518e+08</td>\n",
       "      <td>-6.681545e+06</td>\n",
       "      <td>-2.461024e+08</td>\n",
       "      <td>-8.667819e+07</td>\n",
       "      <td>-6.095466e+08</td>\n",
       "      <td>-8.827874e+08</td>\n",
       "      <td>-9.595450e+07</td>\n",
       "      <td>-4.124770e+09</td>\n",
       "      <td>-1.082024e+07</td>\n",
       "    </tr>\n",
       "    <tr>\n",
       "      <th>std</th>\n",
       "      <td>2.276971</td>\n",
       "      <td>2.100577</td>\n",
       "      <td>142.246921</td>\n",
       "      <td>2.377177e+10</td>\n",
       "      <td>4.171874e+09</td>\n",
       "      <td>9.828335e+08</td>\n",
       "      <td>2.189212e+10</td>\n",
       "      <td>2.052009e+07</td>\n",
       "      <td>2.422768e+08</td>\n",
       "      <td>5.020922e+08</td>\n",
       "      <td>4.986095e+07</td>\n",
       "      <td>5.711034e+08</td>\n",
       "      <td>8.594748e+07</td>\n",
       "      <td>1.825240e+09</td>\n",
       "      <td>2.107182e+09</td>\n",
       "      <td>6.495969e+09</td>\n",
       "      <td>4.040470e+09</td>\n",
       "      <td>6.692221e+08</td>\n",
       "      <td>1.752739e+10</td>\n",
       "      <td>4.803965e+07</td>\n",
       "    </tr>\n",
       "    <tr>\n",
       "      <th>min</th>\n",
       "      <td>2012.000000</td>\n",
       "      <td>-78.088543</td>\n",
       "      <td>-10592.403045</td>\n",
       "      <td>-3.282679e+11</td>\n",
       "      <td>-8.111019e+10</td>\n",
       "      <td>-5.452905e+10</td>\n",
       "      <td>-3.167183e+11</td>\n",
       "      <td>-5.611047e+08</td>\n",
       "      <td>-1.086743e+10</td>\n",
       "      <td>-1.835087e+10</td>\n",
       "      <td>-1.193904e+09</td>\n",
       "      <td>-1.441848e+10</td>\n",
       "      <td>-3.496514e+09</td>\n",
       "      <td>-7.212674e+10</td>\n",
       "      <td>-1.150483e+11</td>\n",
       "      <td>-1.757591e+11</td>\n",
       "      <td>-1.379600e+11</td>\n",
       "      <td>-2.828235e+10</td>\n",
       "      <td>-2.921609e+11</td>\n",
       "      <td>-1.269644e+09</td>\n",
       "    </tr>\n",
       "    <tr>\n",
       "      <th>25%</th>\n",
       "      <td>2014.000000</td>\n",
       "      <td>-0.481228</td>\n",
       "      <td>-6.210165</td>\n",
       "      <td>-4.837028e+09</td>\n",
       "      <td>-2.253072e+08</td>\n",
       "      <td>-1.708296e+08</td>\n",
       "      <td>-3.285585e+09</td>\n",
       "      <td>-6.139012e+06</td>\n",
       "      <td>-5.763972e+07</td>\n",
       "      <td>-3.881552e+07</td>\n",
       "      <td>-8.378376e+06</td>\n",
       "      <td>-3.023471e+07</td>\n",
       "      <td>0.000000e+00</td>\n",
       "      <td>-4.778639e+07</td>\n",
       "      <td>0.000000e+00</td>\n",
       "      <td>-5.264077e+07</td>\n",
       "      <td>-5.524829e+08</td>\n",
       "      <td>-4.472684e+07</td>\n",
       "      <td>-1.255365e+09</td>\n",
       "      <td>-4.738771e+06</td>\n",
       "    </tr>\n",
       "    <tr>\n",
       "      <th>50%</th>\n",
       "      <td>2016.000000</td>\n",
       "      <td>-0.167914</td>\n",
       "      <td>-1.834792</td>\n",
       "      <td>-1.045216e+09</td>\n",
       "      <td>-3.182221e+07</td>\n",
       "      <td>-4.743479e+07</td>\n",
       "      <td>-8.193584e+08</td>\n",
       "      <td>-1.750019e+06</td>\n",
       "      <td>-1.740900e+07</td>\n",
       "      <td>-9.254395e+06</td>\n",
       "      <td>-2.432200e+06</td>\n",
       "      <td>-5.148823e+06</td>\n",
       "      <td>0.000000e+00</td>\n",
       "      <td>-8.998233e+06</td>\n",
       "      <td>0.000000e+00</td>\n",
       "      <td>-1.820715e+07</td>\n",
       "      <td>-9.904682e+07</td>\n",
       "      <td>-8.524466e+06</td>\n",
       "      <td>-2.398979e+08</td>\n",
       "      <td>-1.178435e+06</td>\n",
       "    </tr>\n",
       "    <tr>\n",
       "      <th>75%</th>\n",
       "      <td>2018.000000</td>\n",
       "      <td>-0.064248</td>\n",
       "      <td>-0.593180</td>\n",
       "      <td>-2.427676e+08</td>\n",
       "      <td>-4.838896e+06</td>\n",
       "      <td>-1.103823e+07</td>\n",
       "      <td>-1.886043e+08</td>\n",
       "      <td>-5.117396e+05</td>\n",
       "      <td>-5.623817e+06</td>\n",
       "      <td>-2.666166e+06</td>\n",
       "      <td>-6.569673e+05</td>\n",
       "      <td>-9.042776e+05</td>\n",
       "      <td>0.000000e+00</td>\n",
       "      <td>-2.083660e+06</td>\n",
       "      <td>0.000000e+00</td>\n",
       "      <td>-6.727471e+06</td>\n",
       "      <td>-1.115581e+07</td>\n",
       "      <td>-2.517195e+06</td>\n",
       "      <td>-3.613705e+07</td>\n",
       "      <td>-2.185680e+05</td>\n",
       "    </tr>\n",
       "    <tr>\n",
       "      <th>max</th>\n",
       "      <td>2020.000000</td>\n",
       "      <td>-0.001264</td>\n",
       "      <td>-0.013839</td>\n",
       "      <td>-4.638598e+06</td>\n",
       "      <td>-2.210948e+02</td>\n",
       "      <td>-8.022581e+02</td>\n",
       "      <td>-4.123901e+06</td>\n",
       "      <td>-2.210948e+00</td>\n",
       "      <td>-5.085179e+01</td>\n",
       "      <td>-8.212091e+01</td>\n",
       "      <td>-3.158497e-01</td>\n",
       "      <td>-5.685294e+01</td>\n",
       "      <td>0.000000e+00</td>\n",
       "      <td>-2.526797e+00</td>\n",
       "      <td>0.000000e+00</td>\n",
       "      <td>-7.264542e+02</td>\n",
       "      <td>-7.896241e+01</td>\n",
       "      <td>-4.106046e+01</td>\n",
       "      <td>-3.158497e+00</td>\n",
       "      <td>-8.212091e+00</td>\n",
       "    </tr>\n",
       "  </tbody>\n",
       "</table>\n",
       "</div>"
      ],
      "text/plain": [
       "              Year  GHG Intensity (Sales)  GHG Intensity (Op Income)  \\\n",
       "count  8672.000000            8672.000000                8672.000000   \n",
       "mean   2015.801891              -0.588776                 -11.402280   \n",
       "std       2.276971               2.100577                 142.246921   \n",
       "min    2012.000000             -78.088543              -10592.403045   \n",
       "25%    2014.000000              -0.481228                  -6.210165   \n",
       "50%    2016.000000              -0.167914                  -1.834792   \n",
       "75%    2018.000000              -0.064248                  -0.593180   \n",
       "max    2020.000000              -0.001264                  -0.013839   \n",
       "\n",
       "       Total GHG Environmental Impact (Scope 1, 2, 3)       Scope 1  \\\n",
       "count                                    8.672000e+03  8.672000e+03   \n",
       "mean                                    -7.710142e+09 -1.092805e+09   \n",
       "std                                      2.377177e+10  4.171874e+09   \n",
       "min                                     -3.282679e+11 -8.111019e+10   \n",
       "25%                                     -4.837028e+09 -2.253072e+08   \n",
       "50%                                     -1.045216e+09 -3.182221e+07   \n",
       "75%                                     -2.427676e+08 -4.838896e+06   \n",
       "max                                     -4.638598e+06 -2.210948e+02   \n",
       "\n",
       "            Scope 2      Scope 3   Business Travel  Capital Goods  \\\n",
       "count  8.672000e+03  8.672000e+03     8.672000e+03   8.672000e+03   \n",
       "mean  -2.289068e+08 -6.388430e+09    -7.965346e+06  -6.974595e+07   \n",
       "std    9.828335e+08  2.189212e+10     2.052009e+07   2.422768e+08   \n",
       "min   -5.452905e+10 -3.167183e+11    -5.611047e+08  -1.086743e+10   \n",
       "25%   -1.708296e+08 -3.285585e+09    -6.139012e+06  -5.763972e+07   \n",
       "50%   -4.743479e+07 -8.193584e+08    -1.750019e+06  -1.740900e+07   \n",
       "75%   -1.103823e+07 -1.886043e+08    -5.117396e+05  -5.623817e+06   \n",
       "max   -8.022581e+02 -4.123901e+06    -2.210948e+00  -5.085179e+01   \n",
       "\n",
       "       Downstream Transportation and Distribution  Employee Commuting  \\\n",
       "count                                8.672000e+03        8.672000e+03   \n",
       "mean                                -9.687343e+07       -1.318875e+07   \n",
       "std                                  5.020922e+08        4.986095e+07   \n",
       "min                                 -1.835087e+10       -1.193904e+09   \n",
       "25%                                 -3.881552e+07       -8.378376e+06   \n",
       "50%                                 -9.254395e+06       -2.432200e+06   \n",
       "75%                                 -2.666166e+06       -6.569673e+05   \n",
       "max                                 -8.212091e+01       -3.158497e-01   \n",
       "\n",
       "       End of Life Treatment of Sold Products    Franchises  \\\n",
       "count                            8.672000e+03  8.672000e+03   \n",
       "mean                            -1.098518e+08 -6.681545e+06   \n",
       "std                              5.711034e+08  8.594748e+07   \n",
       "min                             -1.441848e+10 -3.496514e+09   \n",
       "25%                             -3.023471e+07  0.000000e+00   \n",
       "50%                             -5.148823e+06  0.000000e+00   \n",
       "75%                             -9.042776e+05  0.000000e+00   \n",
       "max                             -5.685294e+01  0.000000e+00   \n",
       "\n",
       "       Fuel-and-energy-related activities (not included in Scope 1 or 2)  \\\n",
       "count                                       8.672000e+03                   \n",
       "mean                                       -2.461024e+08                   \n",
       "std                                         1.825240e+09                   \n",
       "min                                        -7.212674e+10                   \n",
       "25%                                        -4.778639e+07                   \n",
       "50%                                        -8.998233e+06                   \n",
       "75%                                        -2.083660e+06                   \n",
       "max                                        -2.526797e+00                   \n",
       "\n",
       "        Investments  Processing of Sold Products  \\\n",
       "count  8.672000e+03                 8.672000e+03   \n",
       "mean  -8.667819e+07                -6.095466e+08   \n",
       "std    2.107182e+09                 6.495969e+09   \n",
       "min   -1.150483e+11                -1.757591e+11   \n",
       "25%    0.000000e+00                -5.264077e+07   \n",
       "50%    0.000000e+00                -1.820715e+07   \n",
       "75%    0.000000e+00                -6.727471e+06   \n",
       "max    0.000000e+00                -7.264542e+02   \n",
       "\n",
       "       Purchased Goods and Services  Upstream Transportation and Distribution  \\\n",
       "count                  8.672000e+03                              8.672000e+03   \n",
       "mean                  -8.827874e+08                             -9.595450e+07   \n",
       "std                    4.040470e+09                              6.692221e+08   \n",
       "min                   -1.379600e+11                             -2.828235e+10   \n",
       "25%                   -5.524829e+08                             -4.472684e+07   \n",
       "50%                   -9.904682e+07                             -8.524466e+06   \n",
       "75%                   -1.115581e+07                             -2.517195e+06   \n",
       "max                   -7.896241e+01                             -4.106046e+01   \n",
       "\n",
       "       Use of Sold Products  Waste Generated in Operations  \n",
       "count          8.672000e+03                   8.672000e+03  \n",
       "mean          -4.124770e+09                  -1.082024e+07  \n",
       "std            1.752739e+10                   4.803965e+07  \n",
       "min           -2.921609e+11                  -1.269644e+09  \n",
       "25%           -1.255365e+09                  -4.738771e+06  \n",
       "50%           -2.398979e+08                  -1.178435e+06  \n",
       "75%           -3.613705e+07                  -2.185680e+05  \n",
       "max           -3.158497e+00                  -8.212091e+00  "
      ]
     },
     "execution_count": 2,
     "metadata": {},
     "output_type": "execute_result"
    }
   ],
   "source": [
    "import pandas as pd\n",
    "import matplotlib.pyplot as plt\n",
    "\n",
    "\n",
    "file_path = r\"C:\\Users\\chris\\Corporate_Environmental_Impact\\data\\raw\\Scope-3-Environmental-Impact-Data-2022.xlsx\"\n",
    "\n",
    "df = pd.read_excel(file_path, sheet_name=\"0%\")\n",
    "\n",
    "# Prüfen ob es fehlende Werte gibt\n",
    "print(df.isnull().sum())\n",
    "\n",
    "# Zeilen mit fehlenden Werten entfernen\n",
    "df=df.dropna()\n",
    "\n",
    "# Nicht relevante Spalten entfernen (Angaben ob Wert geschätzt oder für ML verwendet wurde)\n",
    "df = df.loc[:, ~df.columns.str.contains('Imputed|Set', case=False)]\n",
    "print(df.columns)\n",
    "\n",
    "# Nach Auffälligkeiten in den numerischen Wertenschauen\n",
    "df.describe()\n"
   ]
  },
  {
   "cell_type": "code",
   "execution_count": 3,
   "id": "778277cc",
   "metadata": {},
   "outputs": [
    {
     "name": "stdout",
     "output_type": "stream",
     "text": [
      "-328,267,922,499.31\n",
      "-4,638,597.67\n"
     ]
    },
    {
     "data": {
      "text/html": [
       "<div>\n",
       "<style scoped>\n",
       "    .dataframe tbody tr th:only-of-type {\n",
       "        vertical-align: middle;\n",
       "    }\n",
       "\n",
       "    .dataframe tbody tr th {\n",
       "        vertical-align: top;\n",
       "    }\n",
       "\n",
       "    .dataframe thead th {\n",
       "        text-align: right;\n",
       "    }\n",
       "</style>\n",
       "<table border=\"1\" class=\"dataframe\">\n",
       "  <thead>\n",
       "    <tr style=\"text-align: right;\">\n",
       "      <th></th>\n",
       "      <th>Year</th>\n",
       "      <th>Company Name</th>\n",
       "      <th>Country</th>\n",
       "      <th>Industry (Exiobase)</th>\n",
       "      <th>GHG Intensity (Sales)</th>\n",
       "      <th>GHG Intensity (Op Income)</th>\n",
       "      <th>Total GHG Environmental Impact (Scope 1, 2, 3)</th>\n",
       "      <th>Scope 1</th>\n",
       "      <th>Scope 2</th>\n",
       "      <th>Scope 3</th>\n",
       "      <th>...</th>\n",
       "      <th>Employee Commuting</th>\n",
       "      <th>End of Life Treatment of Sold Products</th>\n",
       "      <th>Franchises</th>\n",
       "      <th>Fuel-and-energy-related activities (not included in Scope 1 or 2)</th>\n",
       "      <th>Investments</th>\n",
       "      <th>Processing of Sold Products</th>\n",
       "      <th>Purchased Goods and Services</th>\n",
       "      <th>Upstream Transportation and Distribution</th>\n",
       "      <th>Use of Sold Products</th>\n",
       "      <th>Waste Generated in Operations</th>\n",
       "    </tr>\n",
       "  </thead>\n",
       "  <tbody>\n",
       "    <tr>\n",
       "      <th>7194</th>\n",
       "      <td>2013</td>\n",
       "      <td>ODONTOPREV SA</td>\n",
       "      <td>BRAZIL</td>\n",
       "      <td>Health and social work (85)</td>\n",
       "      <td>-0.010243</td>\n",
       "      <td>-0.041662</td>\n",
       "      <td>-4.638598e+06</td>\n",
       "      <td>-366973.647412</td>\n",
       "      <td>-147722.884064</td>\n",
       "      <td>-4.123901e+06</td>\n",
       "      <td>...</td>\n",
       "      <td>-43514.607093</td>\n",
       "      <td>-222358.157754</td>\n",
       "      <td>0.0</td>\n",
       "      <td>-55589.539438</td>\n",
       "      <td>0.0</td>\n",
       "      <td>-2.561541e+06</td>\n",
       "      <td>-166136.919003</td>\n",
       "      <td>-103598.687135</td>\n",
       "      <td>-364522.087874</td>\n",
       "      <td>-4106.045527</td>\n",
       "    </tr>\n",
       "  </tbody>\n",
       "</table>\n",
       "<p>1 rows × 23 columns</p>\n",
       "</div>"
      ],
      "text/plain": [
       "      Year   Company Name Country          Industry (Exiobase)  \\\n",
       "7194  2013  ODONTOPREV SA  BRAZIL  Health and social work (85)   \n",
       "\n",
       "      GHG Intensity (Sales)  GHG Intensity (Op Income)  \\\n",
       "7194              -0.010243                  -0.041662   \n",
       "\n",
       "      Total GHG Environmental Impact (Scope 1, 2, 3)        Scope 1  \\\n",
       "7194                                   -4.638598e+06 -366973.647412   \n",
       "\n",
       "            Scope 2      Scope 3   ...  Employee Commuting  \\\n",
       "7194 -147722.884064 -4.123901e+06  ...       -43514.607093   \n",
       "\n",
       "      End of Life Treatment of Sold Products  Franchises  \\\n",
       "7194                          -222358.157754         0.0   \n",
       "\n",
       "      Fuel-and-energy-related activities (not included in Scope 1 or 2)  \\\n",
       "7194                                      -55589.539438                   \n",
       "\n",
       "      Investments  Processing of Sold Products  Purchased Goods and Services  \\\n",
       "7194          0.0                -2.561541e+06                -166136.919003   \n",
       "\n",
       "      Upstream Transportation and Distribution  Use of Sold Products  \\\n",
       "7194                            -103598.687135        -364522.087874   \n",
       "\n",
       "      Waste Generated in Operations  \n",
       "7194                   -4106.045527  \n",
       "\n",
       "[1 rows x 23 columns]"
      ]
     },
     "execution_count": 3,
     "metadata": {},
     "output_type": "execute_result"
    }
   ],
   "source": [
    "min_emission=df['Total GHG Environmental Impact (Scope 1, 2, 3)'].min()\n",
    "print(f\"{min_emission:,.2f}\")\n",
    "\n",
    "max_emission=df['Total GHG Environmental Impact (Scope 1, 2, 3)'].max()\n",
    "print(f\"{max_emission:,.2f}\")\n",
    "\n",
    "# Zeile mit größtem GHG Impact\n",
    "min_row = df[df['Total GHG Environmental Impact (Scope 1, 2, 3)'] == min_emission]\n",
    "\n",
    "# Zeile mit niedrigstem GHG Impact\n",
    "max_row = df[df['Total GHG Environmental Impact (Scope 1, 2, 3)'] == max_emission]\n",
    "\n",
    "min_row\n",
    "max_row\n"
   ]
  },
  {
   "cell_type": "code",
   "execution_count": 4,
   "id": "33246586",
   "metadata": {},
   "outputs": [
    {
     "data": {
      "image/png": "[encoded data removed]",
      "text/plain": [
       "<Figure size 1300x800 with 1 Axes>"
      ]
     },
     "metadata": {},
     "output_type": "display_data"
    }
   ],
   "source": [
    "# Umwandlung in positive GHG-Werte, Gruppiert nach Industry/Branche\n",
    "top_10_industries = df.groupby('Industry (Exiobase)')['Total GHG Environmental Impact (Scope 1, 2, 3)'].mean().abs().sort_values(ascending=False).head(10)\n",
    "\n",
    "# Balkendiagramm erstellen\n",
    "plt.figure(figsize=(13, 8)) \n",
    "plt.style.use('seaborn-v0_8')\n",
    "\n",
    "bars = plt.barh(\n",
    "    top_10_industries.index, \n",
    "    top_10_industries, \n",
    ")\n",
    "# Werte im Balken anzeigen\n",
    "for bar in bars:\n",
    "    width = bar.get_width()\n",
    "    formatted_value = f'{width:,.0f}'\n",
    "    plt.text(width / 2, bar.get_y() + bar.get_height()/2, formatted_value, va='center', ha='center', fontsize=10, color='black')\n",
    "\n",
    "plt.xlabel('Durchschnittlicher GHG Impact (Scope 1, 2, 3) in USD')\n",
    "plt.title('Top 10 Branchen mit dem höchsten durchschnittlichen GHG Impact 2012-2020', fontsize=12)\n",
    "plt.grid(axis='x', linestyle='--', alpha=0.7)\n",
    "plt.gca().invert_yaxis()\n",
    "plt.tight_layout()\n",
    "plt.savefig('top_10_indrusties_emissions.png')\n",
    "plt.show()\n",
    "\n"
   ]
  },
  {
   "cell_type": "code",
   "execution_count": null,
   "id": "b54dc1f8",
   "metadata": {},
   "outputs": [
    {
     "name": "stderr",
     "output_type": "stream",
     "text": [
      "C:\\Users\\chris\\AppData\\Local\\Temp\\ipykernel_4120\\759430898.py:37: FutureWarning: Series.__getitem__ treating keys as positions is deprecated. In a future version, integer keys will always be treated as labels (consistent with DataFrame behavior). To access a value by position, use `ser.iloc[pos]`\n",
      "  total = scope1[i] + scope2[i] + scope3[i]\n"
     ]
    },
    {
     "data": {
      "image/png": "[encoded data removed]",
      "text/plain": [
       "<Figure size 1300x800 with 1 Axes>"
      ]
     },
     "metadata": {},
     "output_type": "display_data"
    }
   ],
   "source": [
    "import matplotlib.pyplot as plt\n",
    "import pandas as pd\n",
    "\n",
    "# Spaltennamen bereinigen\n",
    "df.columns = df.columns.str.strip()\n",
    "\n",
    "# relevante Spalten kopieren\n",
    "df_scope = df[['Industry (Exiobase)', 'Scope 1', 'Scope 2', 'Scope 3']].copy()\n",
    "\n",
    "# In positive Werte umwandeln\n",
    "df_scope[['Scope 1', 'Scope 2', 'Scope 3']] = df_scope[['Scope 1', 'Scope 2', 'Scope 3']].abs()\n",
    "\n",
    "# Gruppieren und Durchschnitt berechnen\n",
    "mean_by_industry = df_scope.groupby('Industry (Exiobase)').mean()\n",
    "\n",
    "# Gesamt-Impact berechnen\n",
    "mean_by_industry['Total'] = mean_by_industry[['Scope 1', 'Scope 2', 'Scope 3']].sum(axis=1)\n",
    "\n",
    "# Top 10 Industrien mit höchstem durchschnittlichem GHG Impact\n",
    "top_10 = mean_by_industry.sort_values(by='Total', ascending=False).head(10)\n",
    "\n",
    "# Fürs gestapelte Balkendiagramm vorbereiten\n",
    "industries = top_10.index\n",
    "scope1 = top_10['Scope 1']\n",
    "scope2 = top_10['Scope 2']\n",
    "scope3 = top_10['Scope 3']\n",
    "\n",
    "# Abbildung erstellen\n",
    "plt.figure(figsize=(13, 8))\n",
    "plt.style.use('seaborn-v0_8')\n",
    "\n",
    "bar1 = plt.barh(industries, scope1, label='Scope 1')\n",
    "bar2 = plt.barh(industries, scope2, left=scope1, label='Scope 2')\n",
    "bar3 = plt.barh(industries, scope3, left=scope1 + scope2, label='Scope 3')\n",
    "\n",
    "# Werte im Balken anzeigen (optional)\n",
    "for i in range(len(industries)):\n",
    "    total = scope1[i] + scope2[i] + scope3[i]\n",
    "    plt.text(total / 2, i, f'{int(total):,}', va='center', ha='center', fontsize=10, color='black')\n",
    "\n",
    "# Achsentitel und Legende\n",
    "plt.xlabel('Durchschnittlicher GHG Impact in USD')\n",
    "plt.title('Top 10 Branchen nach GHG Impact (aufgeteilt nach Scope 1, 2, 3)', fontsize=12)\n",
    "plt.legend()\n",
    "plt.grid(axis='x', linestyle='--', alpha=0.7)\n",
    "plt.gca().invert_yaxis()\n",
    "plt.tight_layout()\n",
    "plt.savefig('top_10_branches_scopes_stacked.png')\n",
    "plt.show()\n"
   ]
  },
  {
   "cell_type": "code",
   "execution_count": null,
   "id": "fbeffb33",
   "metadata": {},
   "outputs": [],
   "source": [
    "# print(top_10_industries)"
   ]
  },
  {
   "cell_type": "code",
   "execution_count": null,
   "id": "220dc190",
   "metadata": {},
   "outputs": [
    {
     "data": {
      "image/png": "[encoded data removed]",
      "text/plain": [
       "<Figure size 1500x800 with 1 Axes>"
      ]
     },
     "metadata": {},
     "output_type": "display_data"
    }
   ],
   "source": [
    "# Umwandlung in positive GHG-Werte, Gruppiert nach Industry/Branche\n",
    "top_10_low_emissions = df.groupby('Industry (Exiobase)')['Total GHG Environmental Impact (Scope 1, 2, 3)'].mean().abs().sort_values(ascending=True).head(10)\n",
    "\n",
    "# Balkendiagramm erstellen\n",
    "plt.figure(figsize=(15, 8)) \n",
    "plt.style.use('seaborn-v0_8')\n",
    "\n",
    "bars = plt.barh(\n",
    "    top_10_low_emissions.index, \n",
    "    top_10_low_emissions, \n",
    ")\n",
    "# Werte im Balken anzeigen\n",
    "for bar in bars:\n",
    "    width = bar.get_width()\n",
    "    formatted_value = f'{width:,.0f}'\n",
    "    plt.text(width / 2, bar.get_y() + bar.get_height()/2, formatted_value, va='center', ha='center', fontsize=10, color='black')\n",
    "\n",
    "plt.xlabel('Durchschnittlicher GHG Impact (Scope 1, 2, 3) in USD')\n",
    "plt.title('Top 10 Branchen mit dem niedrigsten durchschnittlichen GHG Impact 2012-2020', fontsize=12)\n",
    "plt.grid(axis='x', linestyle='--', alpha=0.7)\n",
    "plt.gca().invert_yaxis()\n",
    "plt.tight_layout()\n",
    "plt.savefig('top_10_low_emission_industries.png')\n",
    "plt.show()\n"
   ]
  },
  {
   "cell_type": "code",
   "execution_count": null,
   "id": "f00e76d5",
   "metadata": {},
   "outputs": [
    {
     "name": "stdout",
     "output_type": "stream",
     "text": [
      "Industry (Exiobase)\n",
      "Publishing, printing and reproduction of recorded media (22)                                                                            2.534639e+08\n",
      "Manufacture of furniture; manufacturing n.e.c. (36)                                                                                     3.679723e+08\n",
      "Research and development (73)                                                                                                           4.084997e+08\n",
      "Financial intermediation, except insurance and pension funding (65)                                                                     4.180099e+08\n",
      "Activities auxiliary to financial intermediation (67)                                                                                   4.272380e+08\n",
      "Manufacture of textiles (17)                                                                                                            4.820821e+08\n",
      "Manufacture of wood and of products of wood and cork, except furniture; manufacture of articles of straw and plaiting materials (20)    5.156013e+08\n",
      "Production of electricity by solar photovoltaic                                                                                         7.850503e+08\n",
      "Manufacture of wearing apparel; dressing and dyeing of fur (18)                                                                         8.982339e+08\n",
      "Recreational, cultural and sporting activities (92)                                                                                     1.188210e+09\n",
      "Name: Total GHG Environmental Impact (Scope 1, 2, 3), dtype: float64\n"
     ]
    }
   ],
   "source": [
    "print(top_10_low_emissions)"
   ]
  },
  {
   "cell_type": "code",
   "execution_count": null,
   "id": "c73dba3b",
   "metadata": {},
   "outputs": [
    {
     "data": {
      "application/vnd.plotly.v1+json": {
       "config": {
        "plotlyServerURL": "https://plot.ly"
       },
       "data": [
        {
         "line": {
          "width": 2
         },
         "mode": "lines",
         "name": "Publishing, printing and reproduction of recorded media (22)",
         "type": "scatter",
         "x": {
          "bdata": "3AfdB94H3wfgB+EH4gfjB+QH",
          "dtype": "i2"
         },
         "y": {
          "bdata": "hl85WxsRskGYqlZv2AixQRRL8toHBrFBRITcr4/tsEESOdL/f5eqQemsM+5H5KxBtW6A2FZ2p0GdXkkBotyoQYHGHEbqx4VB",
          "dtype": "f8"
         }
        },
        {
         "line": {
          "width": 2
         },
         "mode": "lines",
         "name": "Manufacture of furniture; manufacturing n.e.c. (36)",
         "type": "scatter",
         "x": {
          "bdata": "3AfdB94H3wfgB+EH4gfjBw==",
          "dtype": "i2"
         },
         "y": {
          "bdata": "lLMX1H8qlUGwHRMcrf+SQdBEAGShgZJBJHwY1l3vkkHUOy7NDFCQQRLRDpu1dp1BYztJctFOrUFJ5kSQlcLdQQ==",
          "dtype": "f8"
         }
        },
        {
         "line": {
          "width": 2
         },
         "mode": "lines",
         "name": "Research and development (73)",
         "type": "scatter",
         "x": {
          "bdata": "3AfdB94H3wfgB+EH4gfjBw==",
          "dtype": "i2"
         },
         "y": {
          "bdata": "zsEIp9QRsEEZCbKZ1JCqQW36hoESXrZBAaKML0IJtkEytiiCcdu7Qc/C/6rqbbtBI55vfZvTvkGwVCw2BGe+QQ==",
          "dtype": "f8"
         }
        },
        {
         "line": {
          "width": 2
         },
         "mode": "lines",
         "name": "Financial intermediation, except insurance and pension funding (65)",
         "type": "scatter",
         "x": {
          "bdata": "3AfdB94H3wfgB+EH4gfjBw==",
          "dtype": "i2"
         },
         "y": {
          "bdata": "kC8e8hoMrkGJJYHiHt+yQUgvoyOn5LNBZa2Pxe23skG0wt8fLfCzQZ42jH1lBLVBev0N/kpuu0E0m3ClIwbIQQ==",
          "dtype": "f8"
         }
        },
        {
         "line": {
          "width": 2
         },
         "mode": "lines",
         "name": "Activities auxiliary to financial intermediation (67)",
         "type": "scatter",
         "x": {
          "bdata": "3AfdB94H3wfgB+EH4gfjBw==",
          "dtype": "i2"
         },
         "y": {
          "bdata": "51LHZYPjuEGdqxMTwVy5QdPfQqAwu7lB8dXvDeuBt0GX5VZwE4y0Qb0M7LG3lrNBE7VY+q2BvkHoR1FxibS9QQ==",
          "dtype": "f8"
         }
        },
        {
         "line": {
          "width": 2
         },
         "mode": "lines",
         "name": "Manufacture of textiles (17)",
         "type": "scatter",
         "x": {
          "bdata": "3AfdB94H3wfgB+EH4gfjBw==",
          "dtype": "i2"
         },
         "y": {
          "bdata": "MMqeMEZMm0FNMGj+8iGaQfwdVwxkoYpBSnu/8ygGj0EGjOvs5I7WQchqPSd1FcxB1RlVyTV4pkGwQ6RMb2XSQQ==",
          "dtype": "f8"
         }
        },
        {
         "line": {
          "width": 2
         },
         "mode": "lines",
         "name": "Manufacture of wood and of products of wood and cork, except furniture; manufacture of articles of straw and plaiting materials (20)",
         "type": "scatter",
         "x": {
          "bdata": "3QfeB+IH4wc=",
          "dtype": "i2"
         },
         "y": {
          "bdata": "U0N1E6Aox0GOpAFtdTTBQUbmWbmu5LpBciXwx7kls0E=",
          "dtype": "f8"
         }
        },
        {
         "line": {
          "width": 2
         },
         "mode": "lines",
         "name": "Production of electricity by solar photovoltaic",
         "type": "scatter",
         "x": {
          "bdata": "3AfdB94H3wfgB+IH4wc=",
          "dtype": "i2"
         },
         "y": {
          "bdata": "gblgOJm+gEFb5z/7fQ+AQT/PvSI8zGRBkOik1wtWf0GiTW8eQNjMQSVrA+RtYtFBq/DN223V1UE=",
          "dtype": "f8"
         }
        },
        {
         "line": {
          "width": 2
         },
         "mode": "lines",
         "name": "Manufacture of wearing apparel; dressing and dyeing of fur (18)",
         "type": "scatter",
         "x": {
          "bdata": "3AfdB94H3wfgB+EH4gfjBw==",
          "dtype": "i2"
         },
         "y": {
          "bdata": "TrmGNGtowkGIM/Y/vKHDQbtSfblfYchBKwLpxtc2yEFPPr2XljrOQZnGDw5AKNFBIsml625N0kHMHWxQInLGQQ==",
          "dtype": "f8"
         }
        },
        {
         "line": {
          "width": 2
         },
         "mode": "lines",
         "name": "Recreational, cultural and sporting activities (92)",
         "type": "scatter",
         "x": {
          "bdata": "3AfdB94H3wfgB+EH4gfjB+QH",
          "dtype": "i2"
         },
         "y": {
          "bdata": "9ZyDB8nJ2EEnsCc7y83XQbLhSexnxdZBSQVt6SPV1EFYra/5ny+4QXydOoTI88dBa5iVRsvB2UGqoMaq52/FQXDKMypSlXBB",
          "dtype": "f8"
         }
        }
       ],
       "layout": {
        "legend": {
         "bgcolor": "rgba(255, 255, 255, 0)",
         "borderwidth": 0,
         "title": {
          "text": "Branche"
         },
         "traceorder": "normal",
         "x": 1.05,
         "y": 1
        },
        "showlegend": true,
        "template": {
         "data": {
          "bar": [
           {
            "error_x": {
             "color": "rgb(36,36,36)"
            },
            "error_y": {
             "color": "rgb(36,36,36)"
            },
            "marker": {
             "line": {
              "color": "rgb(234,234,242)",
              "width": 0.5
             },
             "pattern": {
              "fillmode": "overlay",
              "size": 10,
              "solidity": 0.2
             }
            },
            "type": "bar"
           }
          ],
          "barpolar": [
           {
            "marker": {
             "line": {
              "color": "rgb(234,234,242)",
              "width": 0.5
             },
             "pattern": {
              "fillmode": "overlay",
              "size": 10,
              "solidity": 0.2
             }
            },
            "type": "barpolar"
           }
          ],
          "carpet": [
           {
            "aaxis": {
             "endlinecolor": "rgb(36,36,36)",
             "gridcolor": "white",
             "linecolor": "white",
             "minorgridcolor": "white",
             "startlinecolor": "rgb(36,36,36)"
            },
            "baxis": {
             "endlinecolor": "rgb(36,36,36)",
             "gridcolor": "white",
             "linecolor": "white",
             "minorgridcolor": "white",
             "startlinecolor": "rgb(36,36,36)"
            },
            "type": "carpet"
           }
          ],
          "choropleth": [
           {
            "colorbar": {
             "outlinewidth": 0,
             "tickcolor": "rgb(36,36,36)",
             "ticklen": 8,
             "ticks": "outside",
             "tickwidth": 2
            },
            "type": "choropleth"
           }
          ],
          "contour": [
           {
            "colorbar": {
             "outlinewidth": 0,
             "tickcolor": "rgb(36,36,36)",
             "ticklen": 8,
             "ticks": "outside",
             "tickwidth": 2
            },
            "colorscale": [
             [
              0,
              "rgb(2,4,25)"
             ],
             [
              0.06274509803921569,
              "rgb(24,15,41)"
             ],
             [
              0.12549019607843137,
              "rgb(47,23,57)"
             ],
             [
              0.18823529411764706,
              "rgb(71,28,72)"
             ],
             [
              0.25098039215686274,
              "rgb(97,30,82)"
             ],
             [
              0.3137254901960784,
              "rgb(123,30,89)"
             ],
             [
              0.3764705882352941,
              "rgb(150,27,91)"
             ],
             [
              0.4392156862745098,
              "rgb(177,22,88)"
             ],
             [
              0.5019607843137255,
              "rgb(203,26,79)"
             ],
             [
              0.5647058823529412,
              "rgb(223,47,67)"
             ],
             [
              0.6274509803921569,
              "rgb(236,76,61)"
             ],
             [
              0.6901960784313725,
              "rgb(242,107,73)"
             ],
             [
              0.7529411764705882,
              "rgb(244,135,95)"
             ],
             [
              0.8156862745098039,
              "rgb(245,162,122)"
             ],
             [
              0.8784313725490196,
              "rgb(246,188,153)"
             ],
             [
              0.9411764705882353,
              "rgb(247,212,187)"
             ],
             [
              1,
              "rgb(250,234,220)"
             ]
            ],
            "type": "contour"
           }
          ],
          "contourcarpet": [
           {
            "colorbar": {
             "outlinewidth": 0,
             "tickcolor": "rgb(36,36,36)",
             "ticklen": 8,
             "ticks": "outside",
             "tickwidth": 2
            },
            "type": "contourcarpet"
           }
          ],
          "heatmap": [
           {
            "colorbar": {
             "outlinewidth": 0,
             "tickcolor": "rgb(36,36,36)",
             "ticklen": 8,
             "ticks": "outside",
             "tickwidth": 2
            },
            "colorscale": [
             [
              0,
              "rgb(2,4,25)"
             ],
             [
              0.06274509803921569,
              "rgb(24,15,41)"
             ],
             [
              0.12549019607843137,
              "rgb(47,23,57)"
             ],
             [
              0.18823529411764706,
              "rgb(71,28,72)"
             ],
             [
              0.25098039215686274,
              "rgb(97,30,82)"
             ],
             [
              0.3137254901960784,
              "rgb(123,30,89)"
             ],
             [
              0.3764705882352941,
              "rgb(150,27,91)"
             ],
             [
              0.4392156862745098,
              "rgb(177,22,88)"
             ],
             [
              0.5019607843137255,
              "rgb(203,26,79)"
             ],
             [
              0.5647058823529412,
              "rgb(223,47,67)"
             ],
             [
              0.6274509803921569,
              "rgb(236,76,61)"
             ],
             [
              0.6901960784313725,
              "rgb(242,107,73)"
             ],
             [
              0.7529411764705882,
              "rgb(244,135,95)"
             ],
             [
              0.8156862745098039,
              "rgb(245,162,122)"
             ],
             [
              0.8784313725490196,
              "rgb(246,188,153)"
             ],
             [
              0.9411764705882353,
              "rgb(247,212,187)"
             ],
             [
              1,
              "rgb(250,234,220)"
             ]
            ],
            "type": "heatmap"
           }
          ],
          "histogram": [
           {
            "marker": {
             "pattern": {
              "fillmode": "overlay",
              "size": 10,
              "solidity": 0.2
             }
            },
            "type": "histogram"
           }
          ],
          "histogram2d": [
           {
            "colorbar": {
             "outlinewidth": 0,
             "tickcolor": "rgb(36,36,36)",
             "ticklen": 8,
             "ticks": "outside",
             "tickwidth": 2
            },
            "colorscale": [
             [
              0,
              "rgb(2,4,25)"
             ],
             [
              0.06274509803921569,
              "rgb(24,15,41)"
             ],
             [
              0.12549019607843137,
              "rgb(47,23,57)"
             ],
             [
              0.18823529411764706,
              "rgb(71,28,72)"
             ],
             [
              0.25098039215686274,
              "rgb(97,30,82)"
             ],
             [
              0.3137254901960784,
              "rgb(123,30,89)"
             ],
             [
              0.3764705882352941,
              "rgb(150,27,91)"
             ],
             [
              0.4392156862745098,
              "rgb(177,22,88)"
             ],
             [
              0.5019607843137255,
              "rgb(203,26,79)"
             ],
             [
              0.5647058823529412,
              "rgb(223,47,67)"
             ],
             [
              0.6274509803921569,
              "rgb(236,76,61)"
             ],
             [
              0.6901960784313725,
              "rgb(242,107,73)"
             ],
             [
              0.7529411764705882,
              "rgb(244,135,95)"
             ],
             [
              0.8156862745098039,
              "rgb(245,162,122)"
             ],
             [
              0.8784313725490196,
              "rgb(246,188,153)"
             ],
             [
              0.9411764705882353,
              "rgb(247,212,187)"
             ],
             [
              1,
              "rgb(250,234,220)"
             ]
            ],
            "type": "histogram2d"
           }
          ],
          "histogram2dcontour": [
           {
            "colorbar": {
             "outlinewidth": 0,
             "tickcolor": "rgb(36,36,36)",
             "ticklen": 8,
             "ticks": "outside",
             "tickwidth": 2
            },
            "colorscale": [
             [
              0,
              "rgb(2,4,25)"
             ],
             [
              0.06274509803921569,
              "rgb(24,15,41)"
             ],
             [
              0.12549019607843137,
              "rgb(47,23,57)"
             ],
             [
              0.18823529411764706,
              "rgb(71,28,72)"
             ],
             [
              0.25098039215686274,
              "rgb(97,30,82)"
             ],
             [
              0.3137254901960784,
              "rgb(123,30,89)"
             ],
             [
              0.3764705882352941,
              "rgb(150,27,91)"
             ],
             [
              0.4392156862745098,
              "rgb(177,22,88)"
             ],
             [
              0.5019607843137255,
              "rgb(203,26,79)"
             ],
             [
              0.5647058823529412,
              "rgb(223,47,67)"
             ],
             [
              0.6274509803921569,
              "rgb(236,76,61)"
             ],
             [
              0.6901960784313725,
              "rgb(242,107,73)"
             ],
             [
              0.7529411764705882,
              "rgb(244,135,95)"
             ],
             [
              0.8156862745098039,
              "rgb(245,162,122)"
             ],
             [
              0.8784313725490196,
              "rgb(246,188,153)"
             ],
             [
              0.9411764705882353,
              "rgb(247,212,187)"
             ],
             [
              1,
              "rgb(250,234,220)"
             ]
            ],
            "type": "histogram2dcontour"
           }
          ],
          "mesh3d": [
           {
            "colorbar": {
             "outlinewidth": 0,
             "tickcolor": "rgb(36,36,36)",
             "ticklen": 8,
             "ticks": "outside",
             "tickwidth": 2
            },
            "type": "mesh3d"
           }
          ],
          "parcoords": [
           {
            "line": {
             "colorbar": {
              "outlinewidth": 0,
              "tickcolor": "rgb(36,36,36)",
              "ticklen": 8,
              "ticks": "outside",
              "tickwidth": 2
             }
            },
            "type": "parcoords"
           }
          ],
          "pie": [
           {
            "automargin": true,
            "type": "pie"
           }
          ],
          "scatter": [
           {
            "fillpattern": {
             "fillmode": "overlay",
             "size": 10,
             "solidity": 0.2
            },
            "type": "scatter"
           }
          ],
          "scatter3d": [
           {
            "line": {
             "colorbar": {
              "outlinewidth": 0,
              "tickcolor": "rgb(36,36,36)",
              "ticklen": 8,
              "ticks": "outside",
              "tickwidth": 2
             }
            },
            "marker": {
             "colorbar": {
              "outlinewidth": 0,
              "tickcolor": "rgb(36,36,36)",
              "ticklen": 8,
              "ticks": "outside",
              "tickwidth": 2
             }
            },
            "type": "scatter3d"
           }
          ],
          "scattercarpet": [
           {
            "marker": {
             "colorbar": {
              "outlinewidth": 0,
              "tickcolor": "rgb(36,36,36)",
              "ticklen": 8,
              "ticks": "outside",
              "tickwidth": 2
             }
            },
            "type": "scattercarpet"
           }
          ],
          "scattergeo": [
           {
            "marker": {
             "colorbar": {
              "outlinewidth": 0,
              "tickcolor": "rgb(36,36,36)",
              "ticklen": 8,
              "ticks": "outside",
              "tickwidth": 2
             }
            },
            "type": "scattergeo"
           }
          ],
          "scattergl": [
           {
            "marker": {
             "colorbar": {
              "outlinewidth": 0,
              "tickcolor": "rgb(36,36,36)",
              "ticklen": 8,
              "ticks": "outside",
              "tickwidth": 2
             }
            },
            "type": "scattergl"
           }
          ],
          "scattermap": [
           {
            "marker": {
             "colorbar": {
              "outlinewidth": 0,
              "tickcolor": "rgb(36,36,36)",
              "ticklen": 8,
              "ticks": "outside",
              "tickwidth": 2
             }
            },
            "type": "scattermap"
           }
          ],
          "scattermapbox": [
           {
            "marker": {
             "colorbar": {
              "outlinewidth": 0,
              "tickcolor": "rgb(36,36,36)",
              "ticklen": 8,
              "ticks": "outside",
              "tickwidth": 2
             }
            },
            "type": "scattermapbox"
           }
          ],
          "scatterpolar": [
           {
            "marker": {
             "colorbar": {
              "outlinewidth": 0,
              "tickcolor": "rgb(36,36,36)",
              "ticklen": 8,
              "ticks": "outside",
              "tickwidth": 2
             }
            },
            "type": "scatterpolar"
           }
          ],
          "scatterpolargl": [
           {
            "marker": {
             "colorbar": {
              "outlinewidth": 0,
              "tickcolor": "rgb(36,36,36)",
              "ticklen": 8,
              "ticks": "outside",
              "tickwidth": 2
             }
            },
            "type": "scatterpolargl"
           }
          ],
          "scatterternary": [
           {
            "marker": {
             "colorbar": {
              "outlinewidth": 0,
              "tickcolor": "rgb(36,36,36)",
              "ticklen": 8,
              "ticks": "outside",
              "tickwidth": 2
             }
            },
            "type": "scatterternary"
           }
          ],
          "surface": [
           {
            "colorbar": {
             "outlinewidth": 0,
             "tickcolor": "rgb(36,36,36)",
             "ticklen": 8,
             "ticks": "outside",
             "tickwidth": 2
            },
            "colorscale": [
             [
              0,
              "rgb(2,4,25)"
             ],
             [
              0.06274509803921569,
              "rgb(24,15,41)"
             ],
             [
              0.12549019607843137,
              "rgb(47,23,57)"
             ],
             [
              0.18823529411764706,
              "rgb(71,28,72)"
             ],
             [
              0.25098039215686274,
              "rgb(97,30,82)"
             ],
             [
              0.3137254901960784,
              "rgb(123,30,89)"
             ],
             [
              0.3764705882352941,
              "rgb(150,27,91)"
             ],
             [
              0.4392156862745098,
              "rgb(177,22,88)"
             ],
             [
              0.5019607843137255,
              "rgb(203,26,79)"
             ],
             [
              0.5647058823529412,
              "rgb(223,47,67)"
             ],
             [
              0.6274509803921569,
              "rgb(236,76,61)"
             ],
             [
              0.6901960784313725,
              "rgb(242,107,73)"
             ],
             [
              0.7529411764705882,
              "rgb(244,135,95)"
             ],
             [
              0.8156862745098039,
              "rgb(245,162,122)"
             ],
             [
              0.8784313725490196,
              "rgb(246,188,153)"
             ],
             [
              0.9411764705882353,
              "rgb(247,212,187)"
             ],
             [
              1,
              "rgb(250,234,220)"
             ]
            ],
            "type": "surface"
           }
          ],
          "table": [
           {
            "cells": {
             "fill": {
              "color": "rgb(231,231,240)"
             },
             "line": {
              "color": "white"
             }
            },
            "header": {
             "fill": {
              "color": "rgb(183,183,191)"
             },
             "line": {
              "color": "white"
             }
            },
            "type": "table"
           }
          ]
         },
         "layout": {
          "annotationdefaults": {
           "arrowcolor": "rgb(67,103,167)"
          },
          "autotypenumbers": "strict",
          "coloraxis": {
           "colorbar": {
            "outlinewidth": 0,
            "tickcolor": "rgb(36,36,36)",
            "ticklen": 8,
            "ticks": "outside",
            "tickwidth": 2
           }
          },
          "colorscale": {
           "sequential": [
            [
             0,
             "rgb(2,4,25)"
            ],
            [
             0.06274509803921569,
             "rgb(24,15,41)"
            ],
            [
             0.12549019607843137,
             "rgb(47,23,57)"
            ],
            [
             0.18823529411764706,
             "rgb(71,28,72)"
            ],
            [
             0.25098039215686274,
             "rgb(97,30,82)"
            ],
            [
             0.3137254901960784,
             "rgb(123,30,89)"
            ],
            [
             0.3764705882352941,
             "rgb(150,27,91)"
            ],
            [
             0.4392156862745098,
             "rgb(177,22,88)"
            ],
            [
             0.5019607843137255,
             "rgb(203,26,79)"
            ],
            [
             0.5647058823529412,
             "rgb(223,47,67)"
            ],
            [
             0.6274509803921569,
             "rgb(236,76,61)"
            ],
            [
             0.6901960784313725,
             "rgb(242,107,73)"
            ],
            [
             0.7529411764705882,
             "rgb(244,135,95)"
            ],
            [
             0.8156862745098039,
             "rgb(245,162,122)"
            ],
            [
             0.8784313725490196,
             "rgb(246,188,153)"
            ],
            [
             0.9411764705882353,
             "rgb(247,212,187)"
            ],
            [
             1,
             "rgb(250,234,220)"
            ]
           ],
           "sequentialminus": [
            [
             0,
             "rgb(2,4,25)"
            ],
            [
             0.06274509803921569,
             "rgb(24,15,41)"
            ],
            [
             0.12549019607843137,
             "rgb(47,23,57)"
            ],
            [
             0.18823529411764706,
             "rgb(71,28,72)"
            ],
            [
             0.25098039215686274,
             "rgb(97,30,82)"
            ],
            [
             0.3137254901960784,
             "rgb(123,30,89)"
            ],
            [
             0.3764705882352941,
             "rgb(150,27,91)"
            ],
            [
             0.4392156862745098,
             "rgb(177,22,88)"
            ],
            [
             0.5019607843137255,
             "rgb(203,26,79)"
            ],
            [
             0.5647058823529412,
             "rgb(223,47,67)"
            ],
            [
             0.6274509803921569,
             "rgb(236,76,61)"
            ],
            [
             0.6901960784313725,
             "rgb(242,107,73)"
            ],
            [
             0.7529411764705882,
             "rgb(244,135,95)"
            ],
            [
             0.8156862745098039,
             "rgb(245,162,122)"
            ],
            [
             0.8784313725490196,
             "rgb(246,188,153)"
            ],
            [
             0.9411764705882353,
             "rgb(247,212,187)"
            ],
            [
             1,
             "rgb(250,234,220)"
            ]
           ]
          },
          "colorway": [
           "rgb(76,114,176)",
           "rgb(221,132,82)",
           "rgb(85,168,104)",
           "rgb(196,78,82)",
           "rgb(129,114,179)",
           "rgb(147,120,96)",
           "rgb(218,139,195)",
           "rgb(140,140,140)",
           "rgb(204,185,116)",
           "rgb(100,181,205)"
          ],
          "font": {
           "color": "rgb(36,36,36)"
          },
          "geo": {
           "bgcolor": "white",
           "lakecolor": "white",
           "landcolor": "rgb(234,234,242)",
           "showlakes": true,
           "showland": true,
           "subunitcolor": "white"
          },
          "hoverlabel": {
           "align": "left"
          },
          "hovermode": "closest",
          "paper_bgcolor": "white",
          "plot_bgcolor": "rgb(234,234,242)",
          "polar": {
           "angularaxis": {
            "gridcolor": "white",
            "linecolor": "white",
            "showgrid": true,
            "ticks": ""
           },
           "bgcolor": "rgb(234,234,242)",
           "radialaxis": {
            "gridcolor": "white",
            "linecolor": "white",
            "showgrid": true,
            "ticks": ""
           }
          },
          "scene": {
           "xaxis": {
            "backgroundcolor": "rgb(234,234,242)",
            "gridcolor": "white",
            "gridwidth": 2,
            "linecolor": "white",
            "showbackground": true,
            "showgrid": true,
            "ticks": "",
            "zerolinecolor": "white"
           },
           "yaxis": {
            "backgroundcolor": "rgb(234,234,242)",
            "gridcolor": "white",
            "gridwidth": 2,
            "linecolor": "white",
            "showbackground": true,
            "showgrid": true,
            "ticks": "",
            "zerolinecolor": "white"
           },
           "zaxis": {
            "backgroundcolor": "rgb(234,234,242)",
            "gridcolor": "white",
            "gridwidth": 2,
            "linecolor": "white",
            "showbackground": true,
            "showgrid": true,
            "ticks": "",
            "zerolinecolor": "white"
           }
          },
          "shapedefaults": {
           "fillcolor": "rgb(67,103,167)",
           "line": {
            "width": 0
           },
           "opacity": 0.5
          },
          "ternary": {
           "aaxis": {
            "gridcolor": "white",
            "linecolor": "white",
            "showgrid": true,
            "ticks": ""
           },
           "baxis": {
            "gridcolor": "white",
            "linecolor": "white",
            "showgrid": true,
            "ticks": ""
           },
           "bgcolor": "rgb(234,234,242)",
           "caxis": {
            "gridcolor": "white",
            "linecolor": "white",
            "showgrid": true,
            "ticks": ""
           }
          },
          "xaxis": {
           "automargin": true,
           "gridcolor": "white",
           "linecolor": "white",
           "showgrid": true,
           "ticks": "",
           "title": {
            "standoff": 15
           },
           "zerolinecolor": "white"
          },
          "yaxis": {
           "automargin": true,
           "gridcolor": "white",
           "linecolor": "white",
           "showgrid": true,
           "ticks": "",
           "title": {
            "standoff": 15
           },
           "zerolinecolor": "white"
          }
         }
        },
        "title": {
         "text": "Zeitlicher Verlauf des durchschnittlichen GHG Impacts (2012–2020) – Top 10 Branchen mit niedrigstem Impact"
        },
        "xaxis": {
         "title": {
          "text": "Jahr"
         }
        },
        "yaxis": {
         "title": {
          "text": "Durchschnittlicher GHG Impact in Milliarden (B)"
         }
        }
       }
      }
     },
     "metadata": {},
     "output_type": "display_data"
    }
   ],
   "source": [
    "import plotly.graph_objects as go\n",
    "\n",
    "# Series in Liste umwandeln\n",
    "top_10_low_emission_industries = top_10_low_emissions.index.tolist()\n",
    "\n",
    "# Top 10 Branchen mit niedrigem Impact auswählen\n",
    "df_filtered = df[df['Industry (Exiobase)'].isin(top_10_low_emission_industries)]\n",
    "\n",
    "# Gruppieren nach Jahr und Branche, Durchschnitt berechnen\n",
    "ghg_by_year = df_filtered.groupby(['Year', 'Industry (Exiobase)'])['Total GHG Environmental Impact (Scope 1, 2, 3)'].mean().abs().reset_index()\n",
    "\n",
    "# Leere Figur für Plotly\n",
    "fig = go.Figure()\n",
    "\n",
    "# Für jede Branche eine Linie hinzufügen\n",
    "for industry in top_10_low_emission_industries:\n",
    "    data = ghg_by_year[ghg_by_year['Industry (Exiobase)'] == industry]\n",
    "    fig.add_trace(go.Scatter(\n",
    "        x=data['Year'], \n",
    "        y=data['Total GHG Environmental Impact (Scope 1, 2, 3)'],\n",
    "        mode='lines',\n",
    "        name=industry, \n",
    "        line=dict(width=2), \n",
    "    ))\n",
    "\n",
    "# Layout\n",
    "fig.update_layout(\n",
    "    title='Zeitlicher Verlauf des durchschnittlichen GHG Impacts (2012–2020) – Top 10 Branchen mit niedrigstem Impact',\n",
    "    xaxis_title='Jahr',\n",
    "    yaxis_title='Durchschnittlicher GHG Impact in Milliarden (B)',\n",
    "    template='seaborn', \n",
    "    legend_title='Branche',\n",
    "    legend=dict(\n",
    "        x=1.05, \n",
    "        y=1,\n",
    "        traceorder='normal',\n",
    "        bgcolor='rgba(255, 255, 255, 0)',  \n",
    "        borderwidth=0,\n",
    "    ),\n",
    "    showlegend=True \n",
    ")\n",
    "fig.write_html(\"../ghg_trend_top_10_low_impact.html\")\n",
    "fig.show()\n"
   ]
  },
  {
   "cell_type": "code",
   "execution_count": null,
   "id": "a3a840a2",
   "metadata": {},
   "outputs": [
    {
     "name": "stdout",
     "output_type": "stream",
     "text": [
      "      Year             Company Name         Country  \\\n",
      "122   2019      NORTHLAND POWER INC          CANADA   \n",
      "475   2019      ATLANTICA YIELD PLC  UNITED KINGDOM   \n",
      "909   2019               SCATEC ASA          NORWAY   \n",
      "921   2019      MERIDIAN ENERGY LTD     NEW ZEALAND   \n",
      "1224  2019   ORMAT TECHNOLOGIES INC   UNITED STATES   \n",
      "1802  2018      ATLANTICA YIELD PLC  UNITED KINGDOM   \n",
      "2214  2018               SCATEC ASA          NORWAY   \n",
      "3827  2016           INFIGEN ENERGY       AUSTRALIA   \n",
      "4596  2016  ENERGY DEVELOPMENT CORP     PHILIPPINES   \n",
      "4981  2015           INFIGEN ENERGY       AUSTRALIA   \n",
      "5960  2015   ORMAT TECHNOLOGIES INC   UNITED STATES   \n",
      "6147  2014             AES TIETE SA          BRAZIL   \n",
      "7995  2013   ORMAT TECHNOLOGIES INC   UNITED STATES   \n",
      "8157  2012             AES TIETE SA          BRAZIL   \n",
      "8917  2012   ORMAT TECHNOLOGIES INC   UNITED STATES   \n",
      "\n",
      "                                  Industry (Exiobase)  GHG Intensity (Sales)  \\\n",
      "122   Production of electricity by solar photovoltaic              -2.384167   \n",
      "475   Production of electricity by solar photovoltaic              -1.827384   \n",
      "909   Production of electricity by solar photovoltaic              -0.843679   \n",
      "921   Production of electricity by solar photovoltaic              -0.093599   \n",
      "1224  Production of electricity by solar photovoltaic              -2.733740   \n",
      "1802  Production of electricity by solar photovoltaic              -2.156275   \n",
      "2214  Production of electricity by solar photovoltaic              -0.619639   \n",
      "3827  Production of electricity by solar photovoltaic              -0.257083   \n",
      "4596  Production of electricity by solar photovoltaic              -2.753835   \n",
      "4981  Production of electricity by solar photovoltaic              -0.084898   \n",
      "5960  Production of electricity by solar photovoltaic              -0.095972   \n",
      "6147  Production of electricity by solar photovoltaic              -0.009043   \n",
      "7995  Production of electricity by solar photovoltaic              -0.062575   \n",
      "8157  Production of electricity by solar photovoltaic              -0.045416   \n",
      "8917  Production of electricity by solar photovoltaic              -0.045508   \n",
      "\n",
      "      GHG Intensity (Op Income)  \\\n",
      "122                   -5.109966   \n",
      "475                   -4.544935   \n",
      "909                   -1.633217   \n",
      "921                   -0.581411   \n",
      "1224                 -10.523905   \n",
      "1802                  -6.333892   \n",
      "2214                  -1.223334   \n",
      "3827                  -0.652862   \n",
      "4596                  -6.324006   \n",
      "4981                  -0.391047   \n",
      "5960                  -0.349644   \n",
      "6147                  -0.038624   \n",
      "7995                  -0.335555   \n",
      "8157                  -0.069531   \n",
      "8917                  -0.287970   \n",
      "\n",
      "      Total GHG Environmental Impact (Scope 1, 2, 3)       Scope 1  \\\n",
      "122                                    -3.044852e+09 -5.334145e+08   \n",
      "475                                    -1.848311e+09 -4.842067e+08   \n",
      "909                                    -1.739319e+08 -5.830585e+05   \n",
      "921                                    -2.195910e+08 -3.471188e+05   \n",
      "1224                                   -2.039491e+09 -1.449532e+08   \n",
      "1802                                   -2.250768e+09 -5.720581e+08   \n",
      "2214                                   -8.253908e+07 -1.543431e+06   \n",
      "3827                                   -3.318517e+07 -1.269716e+05   \n",
      "4596                                   -1.902552e+09 -2.511308e+08   \n",
      "4981                                   -8.758591e+06 -1.471859e+05   \n",
      "5960                                   -5.695801e+07 -3.902667e+06   \n",
      "6147                                   -1.090403e+07 -7.169787e+04   \n",
      "7995                                   -3.368134e+07 -1.186963e+06   \n",
      "8157                                   -4.682200e+07 -4.263970e+04   \n",
      "8917                                   -2.340963e+07 -4.393469e+05   \n",
      "\n",
      "           Scope 2      Scope 3   ...  Employee Commuting  \\\n",
      "122  -4.519226e+07 -2.466245e+09  ...       -3.221666e+05   \n",
      "475  -3.699831e+07 -1.327106e+09  ...       -4.276604e+04   \n",
      "909  -1.598199e+06 -1.717507e+08  ...       -6.348578e+04   \n",
      "921  -7.321395e+05 -2.185117e+08  ...       -2.501529e+05   \n",
      "1224 -1.063589e+07 -1.883902e+09  ...       -3.396016e+04   \n",
      "1802 -4.567344e+07 -1.633036e+09  ...       -4.958840e+04   \n",
      "2214 -3.780405e+05 -8.061761e+07  ...       -6.348578e+04   \n",
      "3827 -8.404759e+05 -3.221773e+07  ...       -5.761098e+04   \n",
      "4596 -1.455214e+06 -1.649966e+09  ...       -1.691817e+06   \n",
      "4981 -8.066800e+05 -7.804725e+06  ...       -8.275261e+04   \n",
      "5960 -7.219976e+05 -5.233335e+07  ...       -2.242533e+04   \n",
      "6147 -5.618965e+05 -1.027044e+07  ...       -2.019859e+05   \n",
      "7995 -9.955581e+05 -3.149882e+07  ...       -3.396016e+04   \n",
      "8157 -1.535029e+05 -4.662586e+07  ...       -9.618885e+04   \n",
      "8917 -1.551769e+06 -2.141851e+07  ...       -1.045462e+05   \n",
      "\n",
      "      End of Life Treatment of Sold Products  Franchises  \\\n",
      "122                            -7.402568e+06         0.0   \n",
      "475                            -2.487632e+06         0.0   \n",
      "909                            -4.656319e+05         0.0   \n",
      "921                            -2.474366e+06         0.0   \n",
      "1224                           -2.404248e+06         0.0   \n",
      "1802                           -2.487632e+06         0.0   \n",
      "2214                           -5.562112e+05         0.0   \n",
      "3827                           -5.562112e+05         0.0   \n",
      "4596                           -7.402568e+06         0.0   \n",
      "4981                           -4.617722e+05         0.0   \n",
      "5960                           -6.672040e+05         0.0   \n",
      "6147                           -1.074521e+06         0.0   \n",
      "7995                           -8.215250e+05         0.0   \n",
      "8157                           -1.010719e+06         0.0   \n",
      "8917                           -5.960083e+05         0.0   \n",
      "\n",
      "      Fuel-and-energy-related activities (not included in Scope 1 or 2)  \\\n",
      "122                                       -7.864656e+06                   \n",
      "475                                       -1.805000e+08                   \n",
      "909                                       -1.288667e+05                   \n",
      "921                                       -1.933284e+08                   \n",
      "1224                                      -1.252912e+07                   \n",
      "1802                                      -2.113551e+08                   \n",
      "2214                                      -3.625322e+05                   \n",
      "3827                                      -1.579248e+04                   \n",
      "4596                                      -1.627889e+06                   \n",
      "4981                                      -7.201372e+04                   \n",
      "5960                                      -5.644233e+05                   \n",
      "6147                                      -3.867579e+05                   \n",
      "7995                                      -1.002842e+05                   \n",
      "8157                                      -8.243676e+04                   \n",
      "8917                                      -1.864461e+05                   \n",
      "\n",
      "       Investments  Processing of Sold Products  Purchased Goods and Services  \\\n",
      "122   0.000000e+00                -1.974060e+08                 -4.356514e+06   \n",
      "475  -2.402444e+07                -1.713784e+08                 -1.988738e+07   \n",
      "909   0.000000e+00                -6.593109e+07                 -6.913854e+07   \n",
      "921   0.000000e+00                -6.193812e+05                 -4.368201e+06   \n",
      "1224  0.000000e+00                -9.001715e+07                 -1.284004e+07   \n",
      "1802 -1.489061e+07                -1.713784e+08                 -2.089690e+07   \n",
      "2214  0.000000e+00                -6.593109e+07                 -2.027755e+05   \n",
      "3827  0.000000e+00                -2.238963e+07                 -3.366957e+05   \n",
      "4596  0.000000e+00                -1.659120e+08                 -3.932012e+06   \n",
      "4981  0.000000e+00                -2.501529e+06                 -4.377676e+05   \n",
      "5960  0.000000e+00                -2.540537e+07                 -3.445920e+05   \n",
      "6147  0.000000e+00                -1.251080e+06                 -1.419428e+06   \n",
      "7995  0.000000e+00                -9.664999e+06                 -4.377676e+05   \n",
      "8157  0.000000e+00                -4.278689e+07                 -1.406163e+05   \n",
      "8917  0.000000e+00                -9.820398e+06                 -2.875937e+05   \n",
      "\n",
      "      Upstream Transportation and Distribution  Use of Sold Products  \\\n",
      "122                              -1.804449e+06         -2.214380e+09   \n",
      "475                              -1.231814e+04         -9.162799e+08   \n",
      "909                              -2.416882e+06         -1.658211e+06   \n",
      "921                              -6.872257e+06         -5.003059e+06   \n",
      "1224                             -3.335057e+06         -1.740416e+09   \n",
      "1802                             -1.430799e+04         -1.199044e+09   \n",
      "2214                             -1.569773e+05         -1.658211e+06   \n",
      "3827                             -3.237459e+05         -1.469648e+06   \n",
      "4596                             -1.804449e+06         -1.457665e+09   \n",
      "4981                             -8.275261e+04         -6.102215e+05   \n",
      "5960                             -7.198340e+05         -1.066877e+07   \n",
      "6147                             -6.445228e+05         -1.671161e+06   \n",
      "7995                             -1.188858e+06         -1.671161e+06   \n",
      "8157                             -4.503574e+05         -7.614977e+05   \n",
      "8917                             -1.210800e+06         -1.658211e+06   \n",
      "\n",
      "      Waste Generated in Operations  \n",
      "122                  -298351.584963  \n",
      "475                  -257417.469559  \n",
      "909                    -6948.692430  \n",
      "921                   -17687.580730  \n",
      "1224                 -283948.840654  \n",
      "1802                 -298351.584963  \n",
      "2214                  -41439.474854  \n",
      "3827                 -242888.385387  \n",
      "4596                  -83633.830386  \n",
      "4981                 -198353.583905  \n",
      "5960                  -77699.015351  \n",
      "6147                 -187709.450501  \n",
      "7995                  -44534.801482  \n",
      "8157                  -46619.409211  \n",
      "8917                  -19898.528322  \n",
      "\n",
      "[15 rows x 23 columns]\n"
     ]
    }
   ],
   "source": [
    "# photovoltaic production untersuchen \n",
    "# Filter erstellen\n",
    "maske = (df['Industry (Exiobase)'] == 'Production of electricity by solar photovoltaic')\n",
    "\n",
    "# Gefilterte Daten anzeigen\n",
    "df_photovoltaic = df[maske]\n",
    "print(df_photovoltaic)\n",
    "\n",
    "# 15 Unternehmen insg. -> Hinzukommen neuer Unternehmen sorgt für starken Anstieg"
   ]
  },
  {
   "cell_type": "code",
   "execution_count": null,
   "id": "3c1d2deb",
   "metadata": {},
   "outputs": [
    {
     "name": "stdout",
     "output_type": "stream",
     "text": [
      "      Year                Company Name         Country  \\\n",
      "1011  2019      FORMOSA TAFFETA CO LTD          TAIWAN   \n",
      "2306  2018        ECLAT TEXTILE CO LTD          TAIWAN   \n",
      "3081  2017                  ARVIND LTD           INDIA   \n",
      "4662  2016      FORMOSA TAFFETA CO LTD          TAIWAN   \n",
      "5785  2015  YUNSA YUNLI SANAYI TICARET          TURKEY   \n",
      "6851  2014  YUNSA YUNLI SANAYI TICARET          TURKEY   \n",
      "7835  2013  YUNSA YUNLI SANAYI TICARET          TURKEY   \n",
      "8454  2012                FIBERWEB PLC  UNITED KINGDOM   \n",
      "8770  2012  YUNSA YUNLI SANAYI TICARET          TURKEY   \n",
      "\n",
      "               Industry (Exiobase)  GHG Intensity (Sales)  \\\n",
      "1011  Manufacture of textiles (17)              -1.004549   \n",
      "2306  Manufacture of textiles (17)              -0.209012   \n",
      "3081  Manufacture of textiles (17)              -0.661697   \n",
      "4662  Manufacture of textiles (17)              -1.232234   \n",
      "5785  Manufacture of textiles (17)              -0.719882   \n",
      "6851  Manufacture of textiles (17)              -0.408629   \n",
      "7835  Manufacture of textiles (17)              -0.871294   \n",
      "8454  Manufacture of textiles (17)              -0.271224   \n",
      "8770  Manufacture of textiles (17)              -0.674313   \n",
      "\n",
      "      GHG Intensity (Op Income)  \\\n",
      "1011                 -34.600451   \n",
      "2306                  -1.086497   \n",
      "3081                  -9.611419   \n",
      "4662                 -17.712541   \n",
      "5785                 -34.610129   \n",
      "6851                  -5.975600   \n",
      "7835                 -14.155446   \n",
      "8454                  -6.897818   \n",
      "8770                 -16.169390   \n",
      "\n",
      "      Total GHG Environmental Impact (Scope 1, 2, 3)       Scope 1  \\\n",
      "1011                                   -1.234550e+09 -1.096665e+08   \n",
      "2306                                   -1.884884e+08 -1.383550e+07   \n",
      "3081                                   -9.423366e+08 -1.059231e+08   \n",
      "4662                                   -1.513854e+09 -1.111144e+08   \n",
      "5785                                   -6.506217e+07 -3.403280e+06   \n",
      "6851                                   -5.584807e+07 -3.899164e+06   \n",
      "7835                                   -1.096081e+08 -3.697336e+06   \n",
      "8454                                   -1.323487e+08 -8.934755e+06   \n",
      "8770                                   -9.664309e+07 -4.097780e+06   \n",
      "\n",
      "           Scope 2      Scope 3   ...  Employee Commuting  \\\n",
      "1011 -3.102275e+07 -1.093861e+09  ...       -2.591957e+05   \n",
      "2306 -2.561959e+07 -1.490333e+08  ...       -1.203387e+05   \n",
      "3081 -1.000484e+08 -7.363651e+08  ...       -8.464771e+05   \n",
      "4662 -3.347727e+07 -1.369262e+09  ...       -2.591957e+05   \n",
      "5785 -7.306866e+06 -5.435203e+07  ...       -1.323410e+05   \n",
      "6851 -7.690939e+06 -4.425796e+07  ...       -1.329727e+05   \n",
      "7835 -1.006676e+07 -9.584403e+07  ...       -1.329727e+05   \n",
      "8454 -4.360936e+07 -7.980456e+07  ...       -2.779477e+05   \n",
      "8770 -1.094971e+07 -8.159560e+07  ...       -3.499935e+07   \n",
      "\n",
      "      End of Life Treatment of Sold Products  Franchises  \\\n",
      "1011                           -9.042776e+05         0.0   \n",
      "2306                           -2.085413e+06         0.0   \n",
      "3081                           -9.663420e+06         0.0   \n",
      "4662                           -1.356258e+06         0.0   \n",
      "5785                           -1.516078e+05         0.0   \n",
      "6851                           -1.812977e+05         0.0   \n",
      "7835                           -1.516078e+05         0.0   \n",
      "8454                           -6.477887e+05         0.0   \n",
      "8770                           -1.516078e+05         0.0   \n",
      "\n",
      "      Fuel-and-energy-related activities (not included in Scope 1 or 2)  \\\n",
      "1011                                      -2.539933e+07                   \n",
      "2306                                      -2.623131e+06                   \n",
      "3081                                      -1.161632e+07                   \n",
      "4662                                      -2.291963e+07                   \n",
      "5785                                      -4.322876e+05                   \n",
      "6851                                      -4.718794e+05                   \n",
      "7835                                      -4.722521e+07                   \n",
      "8454                                      -2.473735e+06                   \n",
      "8770                                      -4.718794e+05                   \n",
      "\n",
      "      Investments  Processing of Sold Products  Purchased Goods and Services  \\\n",
      "1011          0.0                -1.384388e+08                 -1.976667e+08   \n",
      "2306          0.0                -1.421323e+07                 -1.620309e+07   \n",
      "3081          0.0                -1.740663e+07                 -2.750406e+07   \n",
      "4662          0.0                -5.879513e+08                 -1.077205e+08   \n",
      "5785          0.0                -1.266178e+06                 -1.331906e+07   \n",
      "6851          0.0                -1.266178e+06                 -1.284004e+07   \n",
      "7835          0.0                -1.266178e+06                 -1.284004e+07   \n",
      "8454          0.0                -2.544769e+07                 -3.278930e+07   \n",
      "8770          0.0                -1.266178e+06                 -1.284004e+07   \n",
      "\n",
      "      Upstream Transportation and Distribution  Use of Sold Products  \\\n",
      "1011                             -5.879222e+06         -7.106842e+08   \n",
      "2306                             -3.702706e+06         -1.068775e+08   \n",
      "3081                             -5.925371e+06         -6.245008e+08   \n",
      "4662                             -5.879222e+06         -6.245008e+08   \n",
      "5785                             -3.853366e+05         -3.613705e+07   \n",
      "6851                             -4.548235e+05         -2.653137e+07   \n",
      "7835                             -3.853366e+05         -3.132028e+07   \n",
      "8454                             -2.179363e+02         -1.459067e+07   \n",
      "8770                             -3.556467e+05         -2.888066e+07   \n",
      "\n",
      "      Waste Generated in Operations  \n",
      "1011                  -3.589758e+05  \n",
      "2306                  -3.589758e+05  \n",
      "3081                  -1.263399e+06  \n",
      "4662                  -6.429183e+06  \n",
      "5785                  -1.651199e+05  \n",
      "6851                  -1.737173e+05  \n",
      "7835                  -1.879463e+05  \n",
      "8454                  -3.398542e+05  \n",
      "8770                  -1.876147e+05  \n",
      "\n",
      "[9 rows x 23 columns]\n"
     ]
    }
   ],
   "source": [
    "# Manufacture of textiles (17) untersuchen\n",
    "# Filter erstellen\n",
    "maske = (df['Industry (Exiobase)'] == 'Manufacture of textiles (17)')\n",
    "\n",
    "# Gefilterte Daten anzeigen\n",
    "df_textiles = df[maske]\n",
    "print(df_textiles)\n",
    "\n",
    "# Schwankungen entstehen durch fehlende Kontinuierlichkeit der berichtenden Unternehmen, sehr geringe Anzahl an Unternehmen"
   ]
  },
  {
   "cell_type": "code",
   "execution_count": null,
   "id": "a1f95d8f",
   "metadata": {},
   "outputs": [
    {
     "name": "stdout",
     "output_type": "stream",
     "text": [
      "      Year   Company Name        Country  \\\n",
      "271   2019     FISKARS OY        FINLAND   \n",
      "1603  2018     FISKARS OY        FINLAND   \n",
      "2496  2018  NEWELL BRANDS  UNITED STATES   \n",
      "7011  2014  NEWELL BRANDS  UNITED STATES   \n",
      "7985  2013  NEWELL BRANDS  UNITED STATES   \n",
      "\n",
      "                                    Industry (Exiobase)  \\\n",
      "271   Manufacture of wood and of products of wood an...   \n",
      "1603  Manufacture of wood and of products of wood an...   \n",
      "2496  Manufacture of wood and of products of wood an...   \n",
      "7011  Manufacture of wood and of products of wood an...   \n",
      "7985  Manufacture of wood and of products of wood an...   \n",
      "\n",
      "      GHG Intensity (Sales)  GHG Intensity (Op Income)  \\\n",
      "271               -0.262789                  -4.906587   \n",
      "1603              -0.372146                  -4.354029   \n",
      "2496              -0.049247                  -0.740494   \n",
      "7011              -0.100803                  -0.798591   \n",
      "7985              -0.136509                  -1.061435   \n",
      "\n",
      "      Total GHG Environmental Impact (Scope 1, 2, 3)       Scope 1  \\\n",
      "271                                    -3.212395e+08 -1.213463e+07   \n",
      "1603                                   -4.773458e+08 -1.265673e+07   \n",
      "2496                                   -4.250433e+08 -3.886486e+06   \n",
      "7011                                   -5.773012e+08 -6.885428e+06   \n",
      "7985                                   -7.770768e+08 -8.168696e+06   \n",
      "\n",
      "           Scope 2      Scope 3   ...  Employee Commuting  \\\n",
      "271  -1.081374e+07 -2.982911e+08  ...       -2.905817e+06   \n",
      "1603 -1.088639e+07 -4.538027e+08  ...       -1.616834e+06   \n",
      "2496 -5.769178e+07 -3.634651e+08  ...       -9.263870e+06   \n",
      "7011 -8.306995e+07 -4.873458e+08  ...       -3.070059e+06   \n",
      "7985 -9.008251e+07 -6.788256e+08  ...       -4.082673e+06   \n",
      "\n",
      "      End of Life Treatment of Sold Products  Franchises  \\\n",
      "271                            -8.312847e+05         0.0   \n",
      "1603                           -6.316993e+05         0.0   \n",
      "2496                           -1.180962e+07         0.0   \n",
      "7011                           -1.105474e+07         0.0   \n",
      "7985                           -1.105474e+07         0.0   \n",
      "\n",
      "      Fuel-and-energy-related activities (not included in Scope 1 or 2)  \\\n",
      "271                                       -1.547663e+06                   \n",
      "1603                                      -1.547663e+06                   \n",
      "2496                                      -6.439672e+06                   \n",
      "7011                                      -6.386164e+06                   \n",
      "7985                                      -7.333713e+06                   \n",
      "\n",
      "      Investments  Processing of Sold Products  Purchased Goods and Services  \\\n",
      "271           0.0                -1.664780e+07                 -4.004974e+07   \n",
      "1603          0.0                -3.063742e+07                 -4.898070e+07   \n",
      "2496          0.0                -1.094040e+07                 -1.917207e+08   \n",
      "7011          0.0                -1.385380e+07                 -3.933077e+07   \n",
      "7985          0.0                -1.094040e+07                 -3.933077e+07   \n",
      "\n",
      "      Upstream Transportation and Distribution  Use of Sold Products  \\\n",
      "271                              -8.212091e+06         -2.105192e+08   \n",
      "1603                             -8.212091e+06         -3.418485e+08   \n",
      "2496                             -2.014615e+07         -7.253235e+07   \n",
      "7011                             -1.831928e+07         -3.120966e+08   \n",
      "7985                             -2.156369e+07         -4.094122e+08   \n",
      "\n",
      "      Waste Generated in Operations  \n",
      "271                   -63169.931180  \n",
      "1603                 -290897.533084  \n",
      "2496                 -351540.667017  \n",
      "7011                 -429871.381680  \n",
      "7985                 -505359.449440  \n",
      "\n",
      "[5 rows x 23 columns]\n"
     ]
    }
   ],
   "source": [
    "# Untersuche Manufacture of wood and of products of wood and cork, except furniture; manufacture of articles of straw and plaiting materials (20)\n",
    "maske = (df['Industry (Exiobase)'] == 'Manufacture of wood and of products of wood and cork, except furniture; manufacture of articles of straw and plaiting materials (20)')\n",
    "\n",
    "# Gefilterte Daten anzeigen\n",
    "df_wood = df[maske]\n",
    "print(df_wood)\n",
    "\n",
    "# Zwei Unternehmen insg. -> sinkende Kosten bei diesen Unternehmen\n"
   ]
  },
  {
   "cell_type": "code",
   "execution_count": null,
   "id": "3faf76a6",
   "metadata": {},
   "outputs": [
    {
     "name": "stdout",
     "output_type": "stream",
     "text": [
      "      Year               Company Name        Country  \\\n",
      "12    2020       MEREDITH CORPORATION  UNITED STATES   \n",
      "104   2019                COGECO INC.         CANADA   \n",
      "157   2019                 APG SGA SA    SWITZERLAND   \n",
      "220   2019    PROSIEBENSAT.1 MEDIA SE        GERMANY   \n",
      "247   2019  ATRESMEDIA CORP DE MEDIOS          SPAIN   \n",
      "...    ...                        ...            ...   \n",
      "8682  2012                     SES SA     LUXEMBOURG   \n",
      "8701  2012              SCHIBSTED ASA         NORWAY   \n",
      "8910  2012           NEWS CORPORATION  UNITED STATES   \n",
      "8915  2012         OMNICOM GROUP INC.  UNITED STATES   \n",
      "8949  2012           TIME WARNER INC.  UNITED STATES   \n",
      "\n",
      "                                    Industry (Exiobase)  \\\n",
      "12    Publishing, printing and reproduction of recor...   \n",
      "104   Publishing, printing and reproduction of recor...   \n",
      "157   Publishing, printing and reproduction of recor...   \n",
      "220   Publishing, printing and reproduction of recor...   \n",
      "247   Publishing, printing and reproduction of recor...   \n",
      "...                                                 ...   \n",
      "8682  Publishing, printing and reproduction of recor...   \n",
      "8701  Publishing, printing and reproduction of recor...   \n",
      "8910  Publishing, printing and reproduction of recor...   \n",
      "8915  Publishing, printing and reproduction of recor...   \n",
      "8949  Publishing, printing and reproduction of recor...   \n",
      "\n",
      "      GHG Intensity (Sales)  GHG Intensity (Op Income)  \\\n",
      "12                -0.016035                  -0.137212   \n",
      "104               -0.048192                  -0.179163   \n",
      "157               -0.015859                  -0.099034   \n",
      "220               -0.029265                  -0.186742   \n",
      "247               -0.052096                  -0.329455   \n",
      "...                     ...                        ...   \n",
      "8682              -0.052038                  -0.120335   \n",
      "8701              -0.030130                  -0.293599   \n",
      "8910              -0.068169                  -1.973014   \n",
      "8915              -0.086014                  -0.677897   \n",
      "8949              -0.046271                  -0.213957   \n",
      "\n",
      "      Total GHG Environmental Impact (Scope 1, 2, 3)       Scope 1  \\\n",
      "12                                     -4.567790e+07 -1.253285e+06   \n",
      "104                                    -8.442771e+07 -3.754505e+06   \n",
      "157                                    -5.245749e+06 -4.058668e+05   \n",
      "220                                    -1.356608e+08 -6.664428e+05   \n",
      "247                                    -6.070478e+07 -5.653709e+05   \n",
      "...                                              ...           ...   \n",
      "8682                                   -1.254947e+08 -2.197998e+06   \n",
      "8701                                   -7.989974e+07 -6.316677e+05   \n",
      "8910                                   -5.899312e+08 -1.969638e+07   \n",
      "8915                                   -1.223061e+09 -2.131385e+07   \n",
      "8949                                   -1.329312e+09 -7.509957e+06   \n",
      "\n",
      "           Scope 2      Scope 3   ...  Employee Commuting  \\\n",
      "12   -8.747061e+06 -3.567755e+07  ...       -2.256335e+06   \n",
      "104  -6.531139e+06 -7.414206e+07  ...       -1.817083e+06   \n",
      "157  -1.064413e+05 -4.733441e+06  ...       -5.085179e+04   \n",
      "220  -3.334425e+06 -1.316599e+08  ...       -2.042893e+06   \n",
      "247  -2.419408e+06 -5.772000e+07  ...       -1.207556e+06   \n",
      "...            ...           ...  ...                 ...   \n",
      "8682 -6.467022e+06 -1.168297e+08  ...       -1.415458e+06   \n",
      "8701 -1.757356e+06 -7.751072e+07  ...       -1.965217e+06   \n",
      "8910 -1.187664e+08 -4.514684e+08  ...       -6.443333e+06   \n",
      "8915 -2.784625e+07 -1.173901e+09  ...       -1.222149e+07   \n",
      "8949 -6.127799e+07 -1.260524e+09  ...       -2.431663e+07   \n",
      "\n",
      "      End of Life Treatment of Sold Products  Franchises  \\\n",
      "12                             -1.703377e+06         0.0   \n",
      "104                            -4.421895e+03         0.0   \n",
      "157                            -1.516078e+05         0.0   \n",
      "220                            -1.394476e+06         0.0   \n",
      "247                            -3.900743e+05         0.0   \n",
      "...                                      ...         ...   \n",
      "8682                           -1.285192e+06         0.0   \n",
      "8701                           -7.596184e+05         0.0   \n",
      "8910                           -1.551769e+06         0.0   \n",
      "8915                           -1.848005e+07         0.0   \n",
      "8949                           -5.369444e+05         0.0   \n",
      "\n",
      "      Fuel-and-energy-related activities (not included in Scope 1 or 2)  \\\n",
      "12                                        -1.068519e+06                   \n",
      "104                                       -2.413723e+06                   \n",
      "157                                       -1.020194e+05                   \n",
      "220                                       -6.226344e+05                   \n",
      "247                                       -5.981561e+05                   \n",
      "...                                                 ...                   \n",
      "8682                                      -4.127334e+05                   \n",
      "8701                                      -4.274962e+05                   \n",
      "8910                                      -1.563898e+07                   \n",
      "8915                                      -7.936670e+06                   \n",
      "8949                                      -1.114318e+07                   \n",
      "\n",
      "       Investments  Processing of Sold Products  Purchased Goods and Services  \\\n",
      "12    0.000000e+00                -3.158497e+06                 -7.031129e+06   \n",
      "104   0.000000e+00                -1.385380e+07                 -4.558311e+07   \n",
      "157   0.000000e+00                -2.561541e+06                 -1.323410e+05   \n",
      "220   0.000000e+00                -1.385380e+07                 -5.145823e+06   \n",
      "247  -1.167478e+07                -2.187891e+06                 -2.473542e+07   \n",
      "...            ...                          ...                           ...   \n",
      "8682  0.000000e+00                -4.278689e+07                 -6.642318e+03   \n",
      "8701  0.000000e+00                -9.664999e+06                 -1.870234e+07   \n",
      "8910 -4.295871e+06                -4.029547e+07                 -7.455473e+07   \n",
      "8915  0.000000e+00                -2.823285e+07                 -8.120242e+07   \n",
      "8949  0.000000e+00                -1.263399e+08                 -6.546433e+08   \n",
      "\n",
      "      Upstream Transportation and Distribution  Use of Sold Products  \\\n",
      "12                               -3.086799e+06         -9.802078e+06   \n",
      "104                              -3.916536e+04         -6.127167e+06   \n",
      "157                              -6.632843e+03         -3.916536e+05   \n",
      "220                              -1.581775e+06         -9.725516e+07   \n",
      "247                              -9.412320e+04         -1.184585e+07   \n",
      "...                                        ...                   ...   \n",
      "8682                             -8.180506e+03         -1.434968e+07   \n",
      "8701                             -2.416882e+06         -3.613705e+07   \n",
      "8910                             -4.637305e+06         -8.768763e+07   \n",
      "8915                             -1.399214e+07         -9.232285e+08   \n",
      "8949                             -3.158497e+07         -3.120966e+08   \n",
      "\n",
      "      Waste Generated in Operations  \n",
      "12                    -9.409477e+04  \n",
      "104                   -1.711905e+05  \n",
      "157                   -1.263399e+04  \n",
      "220                   -1.543747e+05  \n",
      "247                   -1.111791e+04  \n",
      "...                             ...  \n",
      "8682                  -2.213790e+04  \n",
      "8701                  -1.122530e+05  \n",
      "8910                  -1.901099e+06  \n",
      "8915                  -5.972717e+05  \n",
      "8949                  -7.757268e+05  \n",
      "\n",
      "[152 rows x 23 columns]\n"
     ]
    }
   ],
   "source": [
    "# Untersuche Publishing, printing and reproduction of recorded media (22)\n",
    "\n",
    "# Filter erstellen\n",
    "maske = (df['Industry (Exiobase)'] == 'Publishing, printing and reproduction of recorded media (22)')\n",
    "\n",
    "# Gefilterte Daten anzeigen\n",
    "df_print = df[maske]\n",
    "print(df_print)\n",
    "\n",
    "# 152 Unternehmen, kontinuierlicher Abstieg"
   ]
  },
  {
   "cell_type": "code",
   "execution_count": null,
   "id": "7f837a66",
   "metadata": {},
   "outputs": [
    {
     "data": {
      "application/vnd.plotly.v1+json": {
       "config": {
        "plotlyServerURL": "https://plot.ly"
       },
       "data": [
        {
         "line": {
          "width": 2
         },
         "mode": "lines",
         "name": "Manufacture of basic iron and steel and of ferro-alloys and first products thereof",
         "type": "scatter",
         "x": {
          "bdata": "3AfdB94H3wfgB+EH4gfjBw==",
          "dtype": "i2"
         },
         "y": {
          "bdata": "DsW88mpJFEKcbjD0txQSQk5jfkVZcyJCu4wuDMEWJUKr2E6ZypwkQm7/vrsIfyVCYJCCG1bwJkLDLaDXeU8gQg==",
          "dtype": "f8"
         }
        },
        {
         "line": {
          "width": 2
         },
         "mode": "lines",
         "name": "Extraction of crude petroleum and services related to crude oil extraction, excluding surveying",
         "type": "scatter",
         "x": {
          "bdata": "3AfdB94H3wfgB+EH4gfjB+QH",
          "dtype": "i2"
         },
         "y": {
          "bdata": "2HAKVj2WJULEwZ1/QcciQrB7LqwxjCBCP+ygaaraJEKeEMNN9AMkQhD+oZmOwBpC5GV+zOn5F0J9XYc4qeMcQsgNXvhHrq5B",
          "dtype": "f8"
         }
        },
        {
         "line": {
          "width": 2
         },
         "mode": "lines",
         "name": "Manufacture of motor vehicles, trailers and semi-trailers (34)",
         "type": "scatter",
         "x": {
          "bdata": "3AfdB94H3wfgB+EH4gfjBw==",
          "dtype": "i2"
         },
         "y": {
          "bdata": "2dUNKmNDI0ICxEqqeTAkQhsrASLZziJC/BFX3hXmIEKS/mjQXswhQuBdEYtMdhlCdxkp4kc5G0LFgnmGxTEcQg==",
          "dtype": "f8"
         }
        },
        {
         "line": {
          "width": 2
         },
         "mode": "lines",
         "name": "Mining of coal and lignite; extraction of peat (10)",
         "type": "scatter",
         "x": {
          "bdata": "3AfdB94H3wfgB+EH4gfjBw==",
          "dtype": "i2"
         },
         "y": {
          "bdata": "5usV6bnTFUJLVo7xxLAVQm8XaOg2ExdCXFBLHpWLF0LsyChH0GsSQmBOxmSkMhZCH3f4PEH5MkKP8mjcrD4WQg==",
          "dtype": "f8"
         }
        },
        {
         "line": {
          "width": 2
         },
         "mode": "lines",
         "name": "Quarrying of sand and clay",
         "type": "scatter",
         "x": {
          "bdata": "3AfdB94H3wfgB+EH4gfjBw==",
          "dtype": "i2"
         },
         "y": {
          "bdata": "jMoqMq4FFkISYLcdFRAeQrejniXIjR5C/bzRYrwDGUIz750m8/IZQsH4DzmlChRCuOhrJS40F0LGrDUz1iMVQg==",
          "dtype": "f8"
         }
        },
        {
         "line": {
          "width": 2
         },
         "mode": "lines",
         "name": "Extraction of natural gas and services related to natural gas extraction, excluding surveying",
         "type": "scatter",
         "x": {
          "bdata": "3AfdB94H3wfgB+EH4gfjBw==",
          "dtype": "i2"
         },
         "y": {
          "bdata": "IF1uA59zDkLZMklT2vwUQh01Su4GSxNCSL9C8D8KEEJr1v+VVAYDQuDXhUAxRSBCYMXA7rAGGkK28i14/zUNQg==",
          "dtype": "f8"
         }
        },
        {
         "line": {
          "width": 2
         },
         "mode": "lines",
         "name": "Production of electricity nec",
         "type": "scatter",
         "x": {
          "bdata": "3AfdB94H3wfgB+EH4gfjBw==",
          "dtype": "i2"
         },
         "y": {
          "bdata": "5KKGcLK8GEJy5aCFXJ4ZQiiQv+W6BxZCJTaXgSB6EkJftx0lZTcRQjTZ6+xAtBJCSH03h61NEEIDnw8pBNINQg==",
          "dtype": "f8"
         }
        },
        {
         "line": {
          "width": 2
         },
         "mode": "lines",
         "name": "Production of electricity by nuclear",
         "type": "scatter",
         "x": {
          "bdata": "3AfdB94H3wfgB+EH4gfjB+QH",
          "dtype": "i2"
         },
         "y": {
          "bdata": "r6omzS03D0JyBf+OYMMaQuTZ0ePeRhxCeSIXG5LqE0Kboprb5lIUQmZQEBRQnhVC0YzqAUu9C0Jh+HOQLHgKQvT8z8x787tB",
          "dtype": "f8"
         }
        },
        {
         "line": {
          "width": 2
         },
         "mode": "lines",
         "name": "Petroleum Refinery",
         "type": "scatter",
         "x": {
          "bdata": "3AfdB94H3wfgB+EH4gfjBw==",
          "dtype": "i2"
         },
         "y": {
          "bdata": "TOvR7uwRGkKO0plFMuATQr6ExzVOMBBCsWt/bc7qD0KZ2GwRs/QKQvW4XV6mXghCich0U8YpCUJtixO2yQcFQg==",
          "dtype": "f8"
         }
        },
        {
         "line": {
          "width": 2
         },
         "mode": "lines",
         "name": "Production of electricity by petroleum and other oil derivatives",
         "type": "scatter",
         "x": {
          "bdata": "3AfdB94H3wfgB+EH4gfjBw==",
          "dtype": "i2"
         },
         "y": {
          "bdata": "aGKf8CQbCELYvh9tMdQHQgDhy+0m3AdCYJ/AZUk7CEK8ZxpeF18EQlZQaEGf5AhCPrnrfLVOD0KuTE6dFUgBQg==",
          "dtype": "f8"
         }
        }
       ],
       "layout": {
        "legend": {
         "bgcolor": "rgba(255, 255, 255, 0)",
         "borderwidth": 0,
         "title": {
          "text": "Branche"
         },
         "traceorder": "normal",
         "x": 1.05,
         "y": 1
        },
        "showlegend": true,
        "template": {
         "data": {
          "bar": [
           {
            "error_x": {
             "color": "rgb(36,36,36)"
            },
            "error_y": {
             "color": "rgb(36,36,36)"
            },
            "marker": {
             "line": {
              "color": "rgb(234,234,242)",
              "width": 0.5
             },
             "pattern": {
              "fillmode": "overlay",
              "size": 10,
              "solidity": 0.2
             }
            },
            "type": "bar"
           }
          ],
          "barpolar": [
           {
            "marker": {
             "line": {
              "color": "rgb(234,234,242)",
              "width": 0.5
             },
             "pattern": {
              "fillmode": "overlay",
              "size": 10,
              "solidity": 0.2
             }
            },
            "type": "barpolar"
           }
          ],
          "carpet": [
           {
            "aaxis": {
             "endlinecolor": "rgb(36,36,36)",
             "gridcolor": "white",
             "linecolor": "white",
             "minorgridcolor": "white",
             "startlinecolor": "rgb(36,36,36)"
            },
            "baxis": {
             "endlinecolor": "rgb(36,36,36)",
             "gridcolor": "white",
             "linecolor": "white",
             "minorgridcolor": "white",
             "startlinecolor": "rgb(36,36,36)"
            },
            "type": "carpet"
           }
          ],
          "choropleth": [
           {
            "colorbar": {
             "outlinewidth": 0,
             "tickcolor": "rgb(36,36,36)",
             "ticklen": 8,
             "ticks": "outside",
             "tickwidth": 2
            },
            "type": "choropleth"
           }
          ],
          "contour": [
           {
            "colorbar": {
             "outlinewidth": 0,
             "tickcolor": "rgb(36,36,36)",
             "ticklen": 8,
             "ticks": "outside",
             "tickwidth": 2
            },
            "colorscale": [
             [
              0,
              "rgb(2,4,25)"
             ],
             [
              0.06274509803921569,
              "rgb(24,15,41)"
             ],
             [
              0.12549019607843137,
              "rgb(47,23,57)"
             ],
             [
              0.18823529411764706,
              "rgb(71,28,72)"
             ],
             [
              0.25098039215686274,
              "rgb(97,30,82)"
             ],
             [
              0.3137254901960784,
              "rgb(123,30,89)"
             ],
             [
              0.3764705882352941,
              "rgb(150,27,91)"
             ],
             [
              0.4392156862745098,
              "rgb(177,22,88)"
             ],
             [
              0.5019607843137255,
              "rgb(203,26,79)"
             ],
             [
              0.5647058823529412,
              "rgb(223,47,67)"
             ],
             [
              0.6274509803921569,
              "rgb(236,76,61)"
             ],
             [
              0.6901960784313725,
              "rgb(242,107,73)"
             ],
             [
              0.7529411764705882,
              "rgb(244,135,95)"
             ],
             [
              0.8156862745098039,
              "rgb(245,162,122)"
             ],
             [
              0.8784313725490196,
              "rgb(246,188,153)"
             ],
             [
              0.9411764705882353,
              "rgb(247,212,187)"
             ],
             [
              1,
              "rgb(250,234,220)"
             ]
            ],
            "type": "contour"
           }
          ],
          "contourcarpet": [
           {
            "colorbar": {
             "outlinewidth": 0,
             "tickcolor": "rgb(36,36,36)",
             "ticklen": 8,
             "ticks": "outside",
             "tickwidth": 2
            },
            "type": "contourcarpet"
           }
          ],
          "heatmap": [
           {
            "colorbar": {
             "outlinewidth": 0,
             "tickcolor": "rgb(36,36,36)",
             "ticklen": 8,
             "ticks": "outside",
             "tickwidth": 2
            },
            "colorscale": [
             [
              0,
              "rgb(2,4,25)"
             ],
             [
              0.06274509803921569,
              "rgb(24,15,41)"
             ],
             [
              0.12549019607843137,
              "rgb(47,23,57)"
             ],
             [
              0.18823529411764706,
              "rgb(71,28,72)"
             ],
             [
              0.25098039215686274,
              "rgb(97,30,82)"
             ],
             [
              0.3137254901960784,
              "rgb(123,30,89)"
             ],
             [
              0.3764705882352941,
              "rgb(150,27,91)"
             ],
             [
              0.4392156862745098,
              "rgb(177,22,88)"
             ],
             [
              0.5019607843137255,
              "rgb(203,26,79)"
             ],
             [
              0.5647058823529412,
              "rgb(223,47,67)"
             ],
             [
              0.6274509803921569,
              "rgb(236,76,61)"
             ],
             [
              0.6901960784313725,
              "rgb(242,107,73)"
             ],
             [
              0.7529411764705882,
              "rgb(244,135,95)"
             ],
             [
              0.8156862745098039,
              "rgb(245,162,122)"
             ],
             [
              0.8784313725490196,
              "rgb(246,188,153)"
             ],
             [
              0.9411764705882353,
              "rgb(247,212,187)"
             ],
             [
              1,
              "rgb(250,234,220)"
             ]
            ],
            "type": "heatmap"
           }
          ],
          "histogram": [
           {
            "marker": {
             "pattern": {
              "fillmode": "overlay",
              "size": 10,
              "solidity": 0.2
             }
            },
            "type": "histogram"
           }
          ],
          "histogram2d": [
           {
            "colorbar": {
             "outlinewidth": 0,
             "tickcolor": "rgb(36,36,36)",
             "ticklen": 8,
             "ticks": "outside",
             "tickwidth": 2
            },
            "colorscale": [
             [
              0,
              "rgb(2,4,25)"
             ],
             [
              0.06274509803921569,
              "rgb(24,15,41)"
             ],
             [
              0.12549019607843137,
              "rgb(47,23,57)"
             ],
             [
              0.18823529411764706,
              "rgb(71,28,72)"
             ],
             [
              0.25098039215686274,
              "rgb(97,30,82)"
             ],
             [
              0.3137254901960784,
              "rgb(123,30,89)"
             ],
             [
              0.3764705882352941,
              "rgb(150,27,91)"
             ],
             [
              0.4392156862745098,
              "rgb(177,22,88)"
             ],
             [
              0.5019607843137255,
              "rgb(203,26,79)"
             ],
             [
              0.5647058823529412,
              "rgb(223,47,67)"
             ],
             [
              0.6274509803921569,
              "rgb(236,76,61)"
             ],
             [
              0.6901960784313725,
              "rgb(242,107,73)"
             ],
             [
              0.7529411764705882,
              "rgb(244,135,95)"
             ],
             [
              0.8156862745098039,
              "rgb(245,162,122)"
             ],
             [
              0.8784313725490196,
              "rgb(246,188,153)"
             ],
             [
              0.9411764705882353,
              "rgb(247,212,187)"
             ],
             [
              1,
              "rgb(250,234,220)"
             ]
            ],
            "type": "histogram2d"
           }
          ],
          "histogram2dcontour": [
           {
            "colorbar": {
             "outlinewidth": 0,
             "tickcolor": "rgb(36,36,36)",
             "ticklen": 8,
             "ticks": "outside",
             "tickwidth": 2
            },
            "colorscale": [
             [
              0,
              "rgb(2,4,25)"
             ],
             [
              0.06274509803921569,
              "rgb(24,15,41)"
             ],
             [
              0.12549019607843137,
              "rgb(47,23,57)"
             ],
             [
              0.18823529411764706,
              "rgb(71,28,72)"
             ],
             [
              0.25098039215686274,
              "rgb(97,30,82)"
             ],
             [
              0.3137254901960784,
              "rgb(123,30,89)"
             ],
             [
              0.3764705882352941,
              "rgb(150,27,91)"
             ],
             [
              0.4392156862745098,
              "rgb(177,22,88)"
             ],
             [
              0.5019607843137255,
              "rgb(203,26,79)"
             ],
             [
              0.5647058823529412,
              "rgb(223,47,67)"
             ],
             [
              0.6274509803921569,
              "rgb(236,76,61)"
             ],
             [
              0.6901960784313725,
              "rgb(242,107,73)"
             ],
             [
              0.7529411764705882,
              "rgb(244,135,95)"
             ],
             [
              0.8156862745098039,
              "rgb(245,162,122)"
             ],
             [
              0.8784313725490196,
              "rgb(246,188,153)"
             ],
             [
              0.9411764705882353,
              "rgb(247,212,187)"
             ],
             [
              1,
              "rgb(250,234,220)"
             ]
            ],
            "type": "histogram2dcontour"
           }
          ],
          "mesh3d": [
           {
            "colorbar": {
             "outlinewidth": 0,
             "tickcolor": "rgb(36,36,36)",
             "ticklen": 8,
             "ticks": "outside",
             "tickwidth": 2
            },
            "type": "mesh3d"
           }
          ],
          "parcoords": [
           {
            "line": {
             "colorbar": {
              "outlinewidth": 0,
              "tickcolor": "rgb(36,36,36)",
              "ticklen": 8,
              "ticks": "outside",
              "tickwidth": 2
             }
            },
            "type": "parcoords"
           }
          ],
          "pie": [
           {
            "automargin": true,
            "type": "pie"
           }
          ],
          "scatter": [
           {
            "fillpattern": {
             "fillmode": "overlay",
             "size": 10,
             "solidity": 0.2
            },
            "type": "scatter"
           }
          ],
          "scatter3d": [
           {
            "line": {
             "colorbar": {
              "outlinewidth": 0,
              "tickcolor": "rgb(36,36,36)",
              "ticklen": 8,
              "ticks": "outside",
              "tickwidth": 2
             }
            },
            "marker": {
             "colorbar": {
              "outlinewidth": 0,
              "tickcolor": "rgb(36,36,36)",
              "ticklen": 8,
              "ticks": "outside",
              "tickwidth": 2
             }
            },
            "type": "scatter3d"
           }
          ],
          "scattercarpet": [
           {
            "marker": {
             "colorbar": {
              "outlinewidth": 0,
              "tickcolor": "rgb(36,36,36)",
              "ticklen": 8,
              "ticks": "outside",
              "tickwidth": 2
             }
            },
            "type": "scattercarpet"
           }
          ],
          "scattergeo": [
           {
            "marker": {
             "colorbar": {
              "outlinewidth": 0,
              "tickcolor": "rgb(36,36,36)",
              "ticklen": 8,
              "ticks": "outside",
              "tickwidth": 2
             }
            },
            "type": "scattergeo"
           }
          ],
          "scattergl": [
           {
            "marker": {
             "colorbar": {
              "outlinewidth": 0,
              "tickcolor": "rgb(36,36,36)",
              "ticklen": 8,
              "ticks": "outside",
              "tickwidth": 2
             }
            },
            "type": "scattergl"
           }
          ],
          "scattermap": [
           {
            "marker": {
             "colorbar": {
              "outlinewidth": 0,
              "tickcolor": "rgb(36,36,36)",
              "ticklen": 8,
              "ticks": "outside",
              "tickwidth": 2
             }
            },
            "type": "scattermap"
           }
          ],
          "scattermapbox": [
           {
            "marker": {
             "colorbar": {
              "outlinewidth": 0,
              "tickcolor": "rgb(36,36,36)",
              "ticklen": 8,
              "ticks": "outside",
              "tickwidth": 2
             }
            },
            "type": "scattermapbox"
           }
          ],
          "scatterpolar": [
           {
            "marker": {
             "colorbar": {
              "outlinewidth": 0,
              "tickcolor": "rgb(36,36,36)",
              "ticklen": 8,
              "ticks": "outside",
              "tickwidth": 2
             }
            },
            "type": "scatterpolar"
           }
          ],
          "scatterpolargl": [
           {
            "marker": {
             "colorbar": {
              "outlinewidth": 0,
              "tickcolor": "rgb(36,36,36)",
              "ticklen": 8,
              "ticks": "outside",
              "tickwidth": 2
             }
            },
            "type": "scatterpolargl"
           }
          ],
          "scatterternary": [
           {
            "marker": {
             "colorbar": {
              "outlinewidth": 0,
              "tickcolor": "rgb(36,36,36)",
              "ticklen": 8,
              "ticks": "outside",
              "tickwidth": 2
             }
            },
            "type": "scatterternary"
           }
          ],
          "surface": [
           {
            "colorbar": {
             "outlinewidth": 0,
             "tickcolor": "rgb(36,36,36)",
             "ticklen": 8,
             "ticks": "outside",
             "tickwidth": 2
            },
            "colorscale": [
             [
              0,
              "rgb(2,4,25)"
             ],
             [
              0.06274509803921569,
              "rgb(24,15,41)"
             ],
             [
              0.12549019607843137,
              "rgb(47,23,57)"
             ],
             [
              0.18823529411764706,
              "rgb(71,28,72)"
             ],
             [
              0.25098039215686274,
              "rgb(97,30,82)"
             ],
             [
              0.3137254901960784,
              "rgb(123,30,89)"
             ],
             [
              0.3764705882352941,
              "rgb(150,27,91)"
             ],
             [
              0.4392156862745098,
              "rgb(177,22,88)"
             ],
             [
              0.5019607843137255,
              "rgb(203,26,79)"
             ],
             [
              0.5647058823529412,
              "rgb(223,47,67)"
             ],
             [
              0.6274509803921569,
              "rgb(236,76,61)"
             ],
             [
              0.6901960784313725,
              "rgb(242,107,73)"
             ],
             [
              0.7529411764705882,
              "rgb(244,135,95)"
             ],
             [
              0.8156862745098039,
              "rgb(245,162,122)"
             ],
             [
              0.8784313725490196,
              "rgb(246,188,153)"
             ],
             [
              0.9411764705882353,
              "rgb(247,212,187)"
             ],
             [
              1,
              "rgb(250,234,220)"
             ]
            ],
            "type": "surface"
           }
          ],
          "table": [
           {
            "cells": {
             "fill": {
              "color": "rgb(231,231,240)"
             },
             "line": {
              "color": "white"
             }
            },
            "header": {
             "fill": {
              "color": "rgb(183,183,191)"
             },
             "line": {
              "color": "white"
             }
            },
            "type": "table"
           }
          ]
         },
         "layout": {
          "annotationdefaults": {
           "arrowcolor": "rgb(67,103,167)"
          },
          "autotypenumbers": "strict",
          "coloraxis": {
           "colorbar": {
            "outlinewidth": 0,
            "tickcolor": "rgb(36,36,36)",
            "ticklen": 8,
            "ticks": "outside",
            "tickwidth": 2
           }
          },
          "colorscale": {
           "sequential": [
            [
             0,
             "rgb(2,4,25)"
            ],
            [
             0.06274509803921569,
             "rgb(24,15,41)"
            ],
            [
             0.12549019607843137,
             "rgb(47,23,57)"
            ],
            [
             0.18823529411764706,
             "rgb(71,28,72)"
            ],
            [
             0.25098039215686274,
             "rgb(97,30,82)"
            ],
            [
             0.3137254901960784,
             "rgb(123,30,89)"
            ],
            [
             0.3764705882352941,
             "rgb(150,27,91)"
            ],
            [
             0.4392156862745098,
             "rgb(177,22,88)"
            ],
            [
             0.5019607843137255,
             "rgb(203,26,79)"
            ],
            [
             0.5647058823529412,
             "rgb(223,47,67)"
            ],
            [
             0.6274509803921569,
             "rgb(236,76,61)"
            ],
            [
             0.6901960784313725,
             "rgb(242,107,73)"
            ],
            [
             0.7529411764705882,
             "rgb(244,135,95)"
            ],
            [
             0.8156862745098039,
             "rgb(245,162,122)"
            ],
            [
             0.8784313725490196,
             "rgb(246,188,153)"
            ],
            [
             0.9411764705882353,
             "rgb(247,212,187)"
            ],
            [
             1,
             "rgb(250,234,220)"
            ]
           ],
           "sequentialminus": [
            [
             0,
             "rgb(2,4,25)"
            ],
            [
             0.06274509803921569,
             "rgb(24,15,41)"
            ],
            [
             0.12549019607843137,
             "rgb(47,23,57)"
            ],
            [
             0.18823529411764706,
             "rgb(71,28,72)"
            ],
            [
             0.25098039215686274,
             "rgb(97,30,82)"
            ],
            [
             0.3137254901960784,
             "rgb(123,30,89)"
            ],
            [
             0.3764705882352941,
             "rgb(150,27,91)"
            ],
            [
             0.4392156862745098,
             "rgb(177,22,88)"
            ],
            [
             0.5019607843137255,
             "rgb(203,26,79)"
            ],
            [
             0.5647058823529412,
             "rgb(223,47,67)"
            ],
            [
             0.6274509803921569,
             "rgb(236,76,61)"
            ],
            [
             0.6901960784313725,
             "rgb(242,107,73)"
            ],
            [
             0.7529411764705882,
             "rgb(244,135,95)"
            ],
            [
             0.8156862745098039,
             "rgb(245,162,122)"
            ],
            [
             0.8784313725490196,
             "rgb(246,188,153)"
            ],
            [
             0.9411764705882353,
             "rgb(247,212,187)"
            ],
            [
             1,
             "rgb(250,234,220)"
            ]
           ]
          },
          "colorway": [
           "rgb(76,114,176)",
           "rgb(221,132,82)",
           "rgb(85,168,104)",
           "rgb(196,78,82)",
           "rgb(129,114,179)",
           "rgb(147,120,96)",
           "rgb(218,139,195)",
           "rgb(140,140,140)",
           "rgb(204,185,116)",
           "rgb(100,181,205)"
          ],
          "font": {
           "color": "rgb(36,36,36)"
          },
          "geo": {
           "bgcolor": "white",
           "lakecolor": "white",
           "landcolor": "rgb(234,234,242)",
           "showlakes": true,
           "showland": true,
           "subunitcolor": "white"
          },
          "hoverlabel": {
           "align": "left"
          },
          "hovermode": "closest",
          "paper_bgcolor": "white",
          "plot_bgcolor": "rgb(234,234,242)",
          "polar": {
           "angularaxis": {
            "gridcolor": "white",
            "linecolor": "white",
            "showgrid": true,
            "ticks": ""
           },
           "bgcolor": "rgb(234,234,242)",
           "radialaxis": {
            "gridcolor": "white",
            "linecolor": "white",
            "showgrid": true,
            "ticks": ""
           }
          },
          "scene": {
           "xaxis": {
            "backgroundcolor": "rgb(234,234,242)",
            "gridcolor": "white",
            "gridwidth": 2,
            "linecolor": "white",
            "showbackground": true,
            "showgrid": true,
            "ticks": "",
            "zerolinecolor": "white"
           },
           "yaxis": {
            "backgroundcolor": "rgb(234,234,242)",
            "gridcolor": "white",
            "gridwidth": 2,
            "linecolor": "white",
            "showbackground": true,
            "showgrid": true,
            "ticks": "",
            "zerolinecolor": "white"
           },
           "zaxis": {
            "backgroundcolor": "rgb(234,234,242)",
            "gridcolor": "white",
            "gridwidth": 2,
            "linecolor": "white",
            "showbackground": true,
            "showgrid": true,
            "ticks": "",
            "zerolinecolor": "white"
           }
          },
          "shapedefaults": {
           "fillcolor": "rgb(67,103,167)",
           "line": {
            "width": 0
           },
           "opacity": 0.5
          },
          "ternary": {
           "aaxis": {
            "gridcolor": "white",
            "linecolor": "white",
            "showgrid": true,
            "ticks": ""
           },
           "baxis": {
            "gridcolor": "white",
            "linecolor": "white",
            "showgrid": true,
            "ticks": ""
           },
           "bgcolor": "rgb(234,234,242)",
           "caxis": {
            "gridcolor": "white",
            "linecolor": "white",
            "showgrid": true,
            "ticks": ""
           }
          },
          "xaxis": {
           "automargin": true,
           "gridcolor": "white",
           "linecolor": "white",
           "showgrid": true,
           "ticks": "",
           "title": {
            "standoff": 15
           },
           "zerolinecolor": "white"
          },
          "yaxis": {
           "automargin": true,
           "gridcolor": "white",
           "linecolor": "white",
           "showgrid": true,
           "ticks": "",
           "title": {
            "standoff": 15
           },
           "zerolinecolor": "white"
          }
         }
        },
        "title": {
         "text": "Zeitlicher Verlauf des durchschnittlichen GHG Impacts (2012–2020) – Top 10 Branchen mit höchstem Impact"
        },
        "xaxis": {
         "title": {
          "text": "Jahr"
         }
        },
        "yaxis": {
         "title": {
          "text": "Durchschnittlicher GHG Impact in Milliarden (B)"
         }
        }
       }
      }
     },
     "metadata": {},
     "output_type": "display_data"
    }
   ],
   "source": [
    "# Zeitlicher Verlauf der Emissionen der TOP 10 Branchen mit höchstem Impact\n",
    "\n",
    "# Series in Liste umwandeln\n",
    "top_10_high_emission_industries = top_10_industries.index.tolist()\n",
    "\n",
    "# Top 10 Branchen mit niedrigem Impact auswählen\n",
    "df_filtered = df[df['Industry (Exiobase)'].isin(top_10_high_emission_industries)]\n",
    "\n",
    "# Gruppieren nach Jahr und Branche, Durchschnitt berechnen\n",
    "ghg_by_year = df_filtered.groupby(['Year', 'Industry (Exiobase)'])['Total GHG Environmental Impact (Scope 1, 2, 3)'].mean().abs().reset_index()\n",
    "\n",
    "# leere Figure\n",
    "fig = go.Figure()\n",
    "\n",
    "# Für jede Branche eine Linie hinzufügen\n",
    "for industry in top_10_high_emission_industries:\n",
    "    data = ghg_by_year[ghg_by_year['Industry (Exiobase)'] == industry]\n",
    "    fig.add_trace(go.Scatter(\n",
    "        x=data['Year'], \n",
    "        y=data['Total GHG Environmental Impact (Scope 1, 2, 3)'],\n",
    "        mode='lines',\n",
    "        name=industry, \n",
    "        line=dict(width=2), \n",
    "    ))\n",
    "\n",
    "# Layout anpassen\n",
    "fig.update_layout(\n",
    "    title='Zeitlicher Verlauf des durchschnittlichen GHG Impacts (2012–2020) – Top 10 Branchen mit höchstem Impact',\n",
    "    xaxis_title='Jahr',\n",
    "    yaxis_title='Durchschnittlicher GHG Impact in Milliarden (B)',\n",
    "    template='seaborn', \n",
    "    legend_title='Branche',\n",
    "    legend=dict(\n",
    "        x=1.05, \n",
    "        y=1,\n",
    "        traceorder='normal',\n",
    "        bgcolor='rgba(255, 255, 255, 0)',\n",
    "        borderwidth=0,\n",
    "    ),\n",
    "    showlegend=True \n",
    ")\n",
    "\n",
    "fig.write_html(\"../ghg_trend_top_10_high_impact.html\")\n",
    "\n",
    "fig.show()"
   ]
  },
  {
   "cell_type": "code",
   "execution_count": null,
   "id": "e3e422bb",
   "metadata": {},
   "outputs": [
    {
     "name": "stdout",
     "output_type": "stream",
     "text": [
      "      Year          Company Name        Country  \\\n",
      "2385  2018     CONSOL ENERGY INC  UNITED STATES   \n",
      "2615  2018  EXXARO RESOURCES LTD   SOUTH AFRICA   \n",
      "\n",
      "                                    Industry (Exiobase)  \\\n",
      "2385  Mining of coal and lignite; extraction of peat...   \n",
      "2615  Mining of coal and lignite; extraction of peat...   \n",
      "\n",
      "      GHG Intensity (Sales)  GHG Intensity (Op Income)  \\\n",
      "2385             -15.941945                 -89.411746   \n",
      "2615             -78.088543                -341.491687   \n",
      "\n",
      "      Total GHG Environmental Impact (Scope 1, 2, 3)       Scope 1  \\\n",
      "2385                                   -2.438008e+10 -2.281099e+09   \n",
      "2615                                   -1.386023e+11 -9.962277e+07   \n",
      "\n",
      "           Scope 2      Scope 3   ...  Employee Commuting  \\\n",
      "2385 -9.248741e+07 -2.200649e+10  ...       -3.598159e+06   \n",
      "2615 -1.743669e+08 -1.383284e+11  ...       -4.801546e+06   \n",
      "\n",
      "      End of Life Treatment of Sold Products  Franchises  \\\n",
      "2385                           -826578.54949         0.0   \n",
      "2615                           -826578.54949         0.0   \n",
      "\n",
      "      Fuel-and-energy-related activities (not included in Scope 1 or 2)  \\\n",
      "2385                                      -6.972381e+06                   \n",
      "2615                                      -2.636144e+07                   \n",
      "\n",
      "       Investments  Processing of Sold Products  Purchased Goods and Services  \\\n",
      "2385  0.000000e+00                -6.538088e+07                 -2.150126e+10   \n",
      "2615 -1.150483e+11                -3.981095e+07                 -1.516078e+05   \n",
      "\n",
      "      Upstream Transportation and Distribution  Use of Sold Products  \\\n",
      "2385                             -2.123944e+06         -4.188166e+08   \n",
      "2615                             -8.221567e+05         -2.303427e+10   \n",
      "\n",
      "      Waste Generated in Operations  \n",
      "2385                 -176559.957648  \n",
      "2615                  -16108.332451  \n",
      "\n",
      "[2 rows x 23 columns]\n",
      "      Year               Company Name        Country  \\\n",
      "1334  2019       EXXARO RESOURCES LTD   SOUTH AFRICA   \n",
      "2385  2018          CONSOL ENERGY INC  UNITED STATES   \n",
      "2615  2018       EXXARO RESOURCES LTD   SOUTH AFRICA   \n",
      "3580  2017          CONSOL ENERGY INC  UNITED STATES   \n",
      "3792  2017       EXXARO RESOURCES LTD   SOUTH AFRICA   \n",
      "4255  2016  PT INDO TAMBANGRAYA MEGAH      INDONESIA   \n",
      "4943  2016       EXXARO RESOURCES LTD   SOUTH AFRICA   \n",
      "6066  2015       EXXARO RESOURCES LTD   SOUTH AFRICA   \n",
      "7116  2014       EXXARO RESOURCES LTD   SOUTH AFRICA   \n",
      "8086  2013       EXXARO RESOURCES LTD   SOUTH AFRICA   \n",
      "9000  2012       EXXARO RESOURCES LTD   SOUTH AFRICA   \n",
      "\n",
      "                                    Industry (Exiobase)  \\\n",
      "1334  Mining of coal and lignite; extraction of peat...   \n",
      "2385  Mining of coal and lignite; extraction of peat...   \n",
      "2615  Mining of coal and lignite; extraction of peat...   \n",
      "3580  Mining of coal and lignite; extraction of peat...   \n",
      "3792  Mining of coal and lignite; extraction of peat...   \n",
      "4255  Mining of coal and lignite; extraction of peat...   \n",
      "4943  Mining of coal and lignite; extraction of peat...   \n",
      "6066  Mining of coal and lignite; extraction of peat...   \n",
      "7116  Mining of coal and lignite; extraction of peat...   \n",
      "8086  Mining of coal and lignite; extraction of peat...   \n",
      "9000  Mining of coal and lignite; extraction of peat...   \n",
      "\n",
      "      GHG Intensity (Sales)  GHG Intensity (Op Income)  \\\n",
      "1334             -12.997983                 -95.185340   \n",
      "2385             -15.941945                 -89.411746   \n",
      "2615             -78.088543                -341.491687   \n",
      "3580             -15.499196                -122.546331   \n",
      "3792             -14.150660                 -57.390045   \n",
      "4255             -11.156322                 -76.821679   \n",
      "4943             -16.057753                 -67.707601   \n",
      "6066             -21.347197                 -82.481898   \n",
      "7116             -17.480669                -219.862312   \n",
      "8086             -18.017625                -210.562559   \n",
      "9000             -16.207011                -128.782026   \n",
      "\n",
      "      Total GHG Environmental Impact (Scope 1, 2, 3)       Scope 1  \\\n",
      "1334                                   -2.388520e+10 -1.301346e+08   \n",
      "2385                                   -2.438008e+10 -2.281099e+09   \n",
      "2615                                   -1.386023e+11 -9.962277e+07   \n",
      "3580                                   -2.157600e+10 -1.952722e+09   \n",
      "3792                                   -2.609346e+10 -1.026274e+08   \n",
      "4255                                   -1.509351e+10 -2.560157e+08   \n",
      "4943                                   -2.446560e+10 -8.580277e+07   \n",
      "6066                                   -2.528151e+10 -7.428121e+07   \n",
      "7116                                   -2.477665e+10 -7.257025e+07   \n",
      "8086                                   -2.329000e+10 -7.438449e+07   \n",
      "9000                                   -2.343662e+10 -1.090948e+08   \n",
      "\n",
      "           Scope 2      Scope 3   ...  Employee Commuting  \\\n",
      "1334 -2.117347e+08 -2.354333e+10  ...       -5.794262e+06   \n",
      "2385 -9.248741e+07 -2.200649e+10  ...       -3.598159e+06   \n",
      "2615 -1.743669e+08 -1.383284e+11  ...       -4.801546e+06   \n",
      "3580 -1.250142e+08 -1.949826e+10  ...       -3.327476e+06   \n",
      "3792 -1.702556e+08 -2.582058e+10  ...       -4.859031e+06   \n",
      "4255 -3.854440e+05 -1.483711e+10  ...       -2.630017e+05   \n",
      "4943 -1.582375e+08 -2.422156e+10  ...       -4.944626e+06   \n",
      "6066 -1.648435e+08 -2.504239e+10  ...       -6.287303e+06   \n",
      "7116 -1.761253e+08 -2.452796e+10  ...       -6.767711e+06   \n",
      "8086 -1.680803e+08 -2.304754e+10  ...       -7.003019e+06   \n",
      "9000 -3.529332e+08 -2.297459e+10  ...       -8.272734e+06   \n",
      "\n",
      "      End of Life Treatment of Sold Products  Franchises  \\\n",
      "1334                           -4.402944e+05         0.0   \n",
      "2385                           -8.265785e+05         0.0   \n",
      "2615                           -8.265785e+05         0.0   \n",
      "3580                           -1.579248e+06         0.0   \n",
      "3792                           -9.042776e+05         0.0   \n",
      "4255                           -1.408847e+07         0.0   \n",
      "4943                           -9.042776e+05         0.0   \n",
      "6066                           -9.042776e+05         0.0   \n",
      "7116                           -8.635330e+05         0.0   \n",
      "8086                           -9.042776e+05         0.0   \n",
      "9000                           -4.402944e+05         0.0   \n",
      "\n",
      "      Fuel-and-energy-related activities (not included in Scope 1 or 2)  \\\n",
      "1334                                      -3.722920e+07                   \n",
      "2385                                      -6.972381e+06                   \n",
      "2615                                      -2.636144e+07                   \n",
      "3580                                      -6.972381e+06                   \n",
      "3792                                      -3.110298e+07                   \n",
      "4255                                      -5.644549e+06                   \n",
      "4943                                      -2.267074e+07                   \n",
      "6066                                      -2.361545e+07                   \n",
      "7116                                      -2.487000e+07                   \n",
      "8086                                      -2.992360e+07                   \n",
      "9000                                      -4.554489e+07                   \n",
      "\n",
      "       Investments  Processing of Sold Products  Purchased Goods and Services  \\\n",
      "1334 -8.540262e+08                -1.737173e+07                 -6.095898e+04   \n",
      "2385  0.000000e+00                -6.538088e+07                 -2.150126e+10   \n",
      "2615 -1.150483e+11                -3.981095e+07                 -1.516078e+05   \n",
      "3580  0.000000e+00                -8.457096e+07                 -1.851520e+10   \n",
      "3792 -1.381633e+09                -3.813284e+07                 -8.559526e+04   \n",
      "4255  0.000000e+00                -1.251617e+07                 -1.244353e+07   \n",
      "4943 -1.246407e+09                -3.981095e+07                 -3.644589e+06   \n",
      "6066 -1.474688e+09                -3.981095e+07                 -2.086503e+06   \n",
      "7116 -6.715043e+08                -3.813284e+07                 -1.582723e+06   \n",
      "8086 -7.466954e+08                -3.981095e+07                 -8.865900e+05   \n",
      "9000 -2.061150e+08                -3.981095e+07                 -7.119599e+07   \n",
      "\n",
      "      Upstream Transportation and Distribution  Use of Sold Products  \\\n",
      "1334                             -4.834711e+06         -2.240860e+10   \n",
      "2385                             -2.123944e+06         -4.188166e+08   \n",
      "2615                             -8.221567e+05         -2.303427e+10   \n",
      "3580                             -2.410249e+06         -8.759018e+08   \n",
      "3792                             -8.654281e+05         -2.413350e+10   \n",
      "4255                             -1.706536e+06         -1.478383e+10   \n",
      "4943                             -2.465838e+06         -2.261535e+10   \n",
      "6066                             -1.279191e+06         -2.332449e+10   \n",
      "7116                             -1.309513e+06         -2.359545e+10   \n",
      "8086                             -1.001559e+06         -2.200762e+10   \n",
      "9000                             -1.384328e+08         -2.227947e+10   \n",
      "\n",
      "      Waste Generated in Operations  \n",
      "1334                  -24320.423504  \n",
      "2385                 -176559.957648  \n",
      "2615                  -16108.332451  \n",
      "3580                 -193973.380877  \n",
      "3792                  -14529.084171  \n",
      "4255                 -333537.236630  \n",
      "4943                  -10107.188989  \n",
      "6066                  -12318.136580  \n",
      "7116                  -14529.084171  \n",
      "8086                  -17687.580730  \n",
      "9000                   -7097.141768  \n",
      "\n",
      "[11 rows x 23 columns]\n"
     ]
    }
   ],
   "source": [
    "# Untersuchen warum Mining of coal and lignite einen peak in 2018 hat\n",
    "# Filter erstellen\n",
    "maske = (\n",
    "    (df['Industry (Exiobase)'] == 'Mining of coal and lignite; extraction of peat (10)') &\n",
    "    (df['Year'] == 2018))\n",
    "\n",
    "# Gefilterte Daten anzeigen\n",
    "df_mining_2018 = df[maske]\n",
    "print(df_mining_2018)\n",
    "\n",
    "# Alle Unternehmen im Gesamtzeitraum anzeigen, um mit Ausreißer zu vergleichen\n",
    "maske = (df['Industry (Exiobase)'] == 'Mining of coal and lignite; extraction of peat (10)') \n",
    "\n",
    "df_mining_total = df[maske]\n",
    "print(df_mining_total)\n",
    "\n",
    "## Ausreißer ist auf ein Unternehnmen zurückzuführen -> möglicherweise durch neue Abbauprojekte\n",
    "## 11 Mining company Einträge, davon 8 von einem Unternehmen"
   ]
  }
 ],
 "metadata": {
  "kernelspec": {
   "display_name": ".venv",
   "language": "python",
   "name": "python3"
  },
  "language_info": {
   "codemirror_mode": {
    "name": "ipython",
    "version": 3
   },
   "file_extension": ".py",
   "mimetype": "text/x-python",
   "name": "python",
   "nbconvert_exporter": "python",
   "pygments_lexer": "ipython3",
   "version": "3.13.3"
  }
 },
 "nbformat": 4,
 "nbformat_minor": 5
}
