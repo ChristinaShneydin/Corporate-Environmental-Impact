{
 "cells": [
  {
   "cell_type": "code",
   "execution_count": 2,
   "id": "7ad798e8",
   "metadata": {},
   "outputs": [
    {
     "name": "stdout",
     "output_type": "stream",
     "text": [
      "Year                                                                         0\n",
      "Company Name                                                                 0\n",
      "Country                                                                      0\n",
      "Industry (Exiobase)                                                          0\n",
      "GHG Intensity (Sales)                                                        0\n",
      "GHG Intensity (Op Income)                                                    0\n",
      "Total GHG Environmental Impact (Scope 1, 2, 3)                               0\n",
      "Scope 1                                                                      0\n",
      "Scope 2                                                                      0\n",
      "Scope 3                                                                      0\n",
      "Business Travel                                                              0\n",
      "Business Travel Set                                                          0\n",
      "Business Travel Imputed                                                      0\n",
      "Capital Goods                                                                0\n",
      "Capital Goods Set                                                            0\n",
      "Capital Goods Imputed                                                        0\n",
      "Downstream Leased Assets                                                     0\n",
      "Downstream Leased Assets Set                                                 0\n",
      "Downstream Leased Assets Imputed                                             0\n",
      "Downstream Transportation and Distribution                                   0\n",
      "Downstream Transportation and Distribution Set                               0\n",
      "Downstream Transportation and Distribution Imputed                           0\n",
      "Employee Commuting                                                           0\n",
      "Employee Commuting Set                                                       0\n",
      "Employee Commuting Imputed                                                   0\n",
      "End of Life Treatment of Sold Products                                       0\n",
      "End of Life Treatment of Sold Products Set                                   0\n",
      "End of Life Treatment of Sold Products Imputed                               0\n",
      "Franchises                                                                   0\n",
      "Franchises Set                                                               0\n",
      "Franchises Imputed                                                           0\n",
      "Fuel-and-energy-related activities (not included in Scope 1 or 2)            0\n",
      "Fuel-and-energy-related activities (not included in Scope 1 or 2) Set        0\n",
      "Fuel-and-energy-related activities (not included in Scope 1 or 2) Imputed    0\n",
      "Investments                                                                  0\n",
      "Investments Set                                                              0\n",
      "Investments Imputed                                                          0\n",
      "Processing of Sold Products                                                  0\n",
      "Processing of Sold Products Set                                              0\n",
      "Processing of Sold Products Imputed                                          0\n",
      "Purchased Goods and Services                                                 0\n",
      "Purchased Goods and Services Set                                             0\n",
      "Purchased Goods and Services Imputed                                         0\n",
      "Upstream Leased Assets                                                       0\n",
      "Upstream Leased Assets Set                                                   0\n",
      "Upstream Leased Assets Imputed                                               0\n",
      "Upstream Transportation and Distribution                                     0\n",
      "Upstream Transportation and Distribution Set                                 0\n",
      "Upstream Transportation and Distribution Imputed                             0\n",
      "Use of Sold Products                                                         0\n",
      "Use of Sold Products Set                                                     0\n",
      "Use of Sold Products Imputed                                                 0\n",
      "Waste Generated in Operations                                                0\n",
      "Waste Generated in Operations Set                                            0\n",
      "Waste Generated in Operations Imputed                                        0\n",
      "dtype: int64\n"
     ]
    },
    {
     "data": {
      "text/html": [
       "<div>\n",
       "<style scoped>\n",
       "    .dataframe tbody tr th:only-of-type {\n",
       "        vertical-align: middle;\n",
       "    }\n",
       "\n",
       "    .dataframe tbody tr th {\n",
       "        vertical-align: top;\n",
       "    }\n",
       "\n",
       "    .dataframe thead th {\n",
       "        text-align: right;\n",
       "    }\n",
       "</style>\n",
       "<table border=\"1\" class=\"dataframe\">\n",
       "  <thead>\n",
       "    <tr style=\"text-align: right;\">\n",
       "      <th></th>\n",
       "      <th>Year</th>\n",
       "      <th>GHG Intensity (Sales)</th>\n",
       "      <th>GHG Intensity (Op Income)</th>\n",
       "      <th>Total GHG Environmental Impact (Scope 1, 2, 3)</th>\n",
       "      <th>Scope 1</th>\n",
       "      <th>Scope 2</th>\n",
       "      <th>Scope 3</th>\n",
       "      <th>Business Travel</th>\n",
       "      <th>Business Travel Imputed</th>\n",
       "      <th>Capital Goods</th>\n",
       "      <th>...</th>\n",
       "      <th>Purchased Goods and Services</th>\n",
       "      <th>Purchased Goods and Services Imputed</th>\n",
       "      <th>Upstream Leased Assets</th>\n",
       "      <th>Upstream Leased Assets Imputed</th>\n",
       "      <th>Upstream Transportation and Distribution</th>\n",
       "      <th>Upstream Transportation and Distribution Imputed</th>\n",
       "      <th>Use of Sold Products</th>\n",
       "      <th>Use of Sold Products Imputed</th>\n",
       "      <th>Waste Generated in Operations</th>\n",
       "      <th>Waste Generated in Operations Imputed</th>\n",
       "    </tr>\n",
       "  </thead>\n",
       "  <tbody>\n",
       "    <tr>\n",
       "      <th>count</th>\n",
       "      <td>8672.000000</td>\n",
       "      <td>8672.000000</td>\n",
       "      <td>8672.000000</td>\n",
       "      <td>8.672000e+03</td>\n",
       "      <td>8.672000e+03</td>\n",
       "      <td>8.672000e+03</td>\n",
       "      <td>8.672000e+03</td>\n",
       "      <td>8.672000e+03</td>\n",
       "      <td>8672.000000</td>\n",
       "      <td>8.672000e+03</td>\n",
       "      <td>...</td>\n",
       "      <td>8.672000e+03</td>\n",
       "      <td>8672.000000</td>\n",
       "      <td>8.672000e+03</td>\n",
       "      <td>8672.000000</td>\n",
       "      <td>8.672000e+03</td>\n",
       "      <td>8672.000000</td>\n",
       "      <td>8.672000e+03</td>\n",
       "      <td>8672.000000</td>\n",
       "      <td>8.672000e+03</td>\n",
       "      <td>8672.000000</td>\n",
       "    </tr>\n",
       "    <tr>\n",
       "      <th>mean</th>\n",
       "      <td>2015.801891</td>\n",
       "      <td>-0.588776</td>\n",
       "      <td>-11.402280</td>\n",
       "      <td>-7.710142e+09</td>\n",
       "      <td>-1.092805e+09</td>\n",
       "      <td>-2.289068e+08</td>\n",
       "      <td>-6.388430e+09</td>\n",
       "      <td>-7.965346e+06</td>\n",
       "      <td>0.150484</td>\n",
       "      <td>-6.974595e+07</td>\n",
       "      <td>...</td>\n",
       "      <td>-8.827874e+08</td>\n",
       "      <td>0.427122</td>\n",
       "      <td>-7.079084e+06</td>\n",
       "      <td>0.874885</td>\n",
       "      <td>-9.595450e+07</td>\n",
       "      <td>0.519949</td>\n",
       "      <td>-4.124770e+09</td>\n",
       "      <td>0.700415</td>\n",
       "      <td>-1.082024e+07</td>\n",
       "      <td>0.448109</td>\n",
       "    </tr>\n",
       "    <tr>\n",
       "      <th>std</th>\n",
       "      <td>2.276971</td>\n",
       "      <td>2.100577</td>\n",
       "      <td>142.246921</td>\n",
       "      <td>2.377177e+10</td>\n",
       "      <td>4.171874e+09</td>\n",
       "      <td>9.828335e+08</td>\n",
       "      <td>2.189212e+10</td>\n",
       "      <td>2.052009e+07</td>\n",
       "      <td>0.357566</td>\n",
       "      <td>2.422768e+08</td>\n",
       "      <td>...</td>\n",
       "      <td>4.040470e+09</td>\n",
       "      <td>0.494689</td>\n",
       "      <td>7.063381e+07</td>\n",
       "      <td>0.330869</td>\n",
       "      <td>6.692221e+08</td>\n",
       "      <td>0.499631</td>\n",
       "      <td>1.752739e+10</td>\n",
       "      <td>0.458103</td>\n",
       "      <td>4.803965e+07</td>\n",
       "      <td>0.497329</td>\n",
       "    </tr>\n",
       "    <tr>\n",
       "      <th>min</th>\n",
       "      <td>2012.000000</td>\n",
       "      <td>-78.088543</td>\n",
       "      <td>-10592.403045</td>\n",
       "      <td>-3.282679e+11</td>\n",
       "      <td>-8.111019e+10</td>\n",
       "      <td>-5.452905e+10</td>\n",
       "      <td>-3.167183e+11</td>\n",
       "      <td>-5.611047e+08</td>\n",
       "      <td>0.000000</td>\n",
       "      <td>-1.086743e+10</td>\n",
       "      <td>...</td>\n",
       "      <td>-1.379600e+11</td>\n",
       "      <td>0.000000</td>\n",
       "      <td>-3.817043e+09</td>\n",
       "      <td>0.000000</td>\n",
       "      <td>-2.828235e+10</td>\n",
       "      <td>0.000000</td>\n",
       "      <td>-2.921609e+11</td>\n",
       "      <td>0.000000</td>\n",
       "      <td>-1.269644e+09</td>\n",
       "      <td>0.000000</td>\n",
       "    </tr>\n",
       "    <tr>\n",
       "      <th>25%</th>\n",
       "      <td>2014.000000</td>\n",
       "      <td>-0.481228</td>\n",
       "      <td>-6.210165</td>\n",
       "      <td>-4.837028e+09</td>\n",
       "      <td>-2.253072e+08</td>\n",
       "      <td>-1.708296e+08</td>\n",
       "      <td>-3.285585e+09</td>\n",
       "      <td>-6.139012e+06</td>\n",
       "      <td>0.000000</td>\n",
       "      <td>-5.763972e+07</td>\n",
       "      <td>...</td>\n",
       "      <td>-5.524829e+08</td>\n",
       "      <td>0.000000</td>\n",
       "      <td>-3.158497e+06</td>\n",
       "      <td>1.000000</td>\n",
       "      <td>-4.472684e+07</td>\n",
       "      <td>0.000000</td>\n",
       "      <td>-1.255365e+09</td>\n",
       "      <td>0.000000</td>\n",
       "      <td>-4.738771e+06</td>\n",
       "      <td>0.000000</td>\n",
       "    </tr>\n",
       "    <tr>\n",
       "      <th>50%</th>\n",
       "      <td>2016.000000</td>\n",
       "      <td>-0.167914</td>\n",
       "      <td>-1.834792</td>\n",
       "      <td>-1.045216e+09</td>\n",
       "      <td>-3.182221e+07</td>\n",
       "      <td>-4.743479e+07</td>\n",
       "      <td>-8.193584e+08</td>\n",
       "      <td>-1.750019e+06</td>\n",
       "      <td>0.000000</td>\n",
       "      <td>-1.740900e+07</td>\n",
       "      <td>...</td>\n",
       "      <td>-9.904682e+07</td>\n",
       "      <td>0.000000</td>\n",
       "      <td>-8.835894e+05</td>\n",
       "      <td>1.000000</td>\n",
       "      <td>-8.524466e+06</td>\n",
       "      <td>1.000000</td>\n",
       "      <td>-2.398979e+08</td>\n",
       "      <td>1.000000</td>\n",
       "      <td>-1.178435e+06</td>\n",
       "      <td>0.000000</td>\n",
       "    </tr>\n",
       "    <tr>\n",
       "      <th>75%</th>\n",
       "      <td>2018.000000</td>\n",
       "      <td>-0.064248</td>\n",
       "      <td>-0.593180</td>\n",
       "      <td>-2.427676e+08</td>\n",
       "      <td>-4.838896e+06</td>\n",
       "      <td>-1.103823e+07</td>\n",
       "      <td>-1.886043e+08</td>\n",
       "      <td>-5.117396e+05</td>\n",
       "      <td>0.000000</td>\n",
       "      <td>-5.623817e+06</td>\n",
       "      <td>...</td>\n",
       "      <td>-1.115581e+07</td>\n",
       "      <td>1.000000</td>\n",
       "      <td>-3.429338e+05</td>\n",
       "      <td>1.000000</td>\n",
       "      <td>-2.517195e+06</td>\n",
       "      <td>1.000000</td>\n",
       "      <td>-3.613705e+07</td>\n",
       "      <td>1.000000</td>\n",
       "      <td>-2.185680e+05</td>\n",
       "      <td>1.000000</td>\n",
       "    </tr>\n",
       "    <tr>\n",
       "      <th>max</th>\n",
       "      <td>2020.000000</td>\n",
       "      <td>-0.001264</td>\n",
       "      <td>-0.013839</td>\n",
       "      <td>-4.638598e+06</td>\n",
       "      <td>-2.210948e+02</td>\n",
       "      <td>-8.022581e+02</td>\n",
       "      <td>-4.123901e+06</td>\n",
       "      <td>-2.210948e+00</td>\n",
       "      <td>1.000000</td>\n",
       "      <td>-5.085179e+01</td>\n",
       "      <td>...</td>\n",
       "      <td>-7.896241e+01</td>\n",
       "      <td>1.000000</td>\n",
       "      <td>-9.791339e+00</td>\n",
       "      <td>1.000000</td>\n",
       "      <td>-4.106046e+01</td>\n",
       "      <td>1.000000</td>\n",
       "      <td>-3.158497e+00</td>\n",
       "      <td>1.000000</td>\n",
       "      <td>-8.212091e+00</td>\n",
       "      <td>1.000000</td>\n",
       "    </tr>\n",
       "  </tbody>\n",
       "</table>\n",
       "<p>8 rows × 37 columns</p>\n",
       "</div>"
      ],
      "text/plain": [
       "              Year  GHG Intensity (Sales)  GHG Intensity (Op Income)  \\\n",
       "count  8672.000000            8672.000000                8672.000000   \n",
       "mean   2015.801891              -0.588776                 -11.402280   \n",
       "std       2.276971               2.100577                 142.246921   \n",
       "min    2012.000000             -78.088543              -10592.403045   \n",
       "25%    2014.000000              -0.481228                  -6.210165   \n",
       "50%    2016.000000              -0.167914                  -1.834792   \n",
       "75%    2018.000000              -0.064248                  -0.593180   \n",
       "max    2020.000000              -0.001264                  -0.013839   \n",
       "\n",
       "       Total GHG Environmental Impact (Scope 1, 2, 3)       Scope 1  \\\n",
       "count                                    8.672000e+03  8.672000e+03   \n",
       "mean                                    -7.710142e+09 -1.092805e+09   \n",
       "std                                      2.377177e+10  4.171874e+09   \n",
       "min                                     -3.282679e+11 -8.111019e+10   \n",
       "25%                                     -4.837028e+09 -2.253072e+08   \n",
       "50%                                     -1.045216e+09 -3.182221e+07   \n",
       "75%                                     -2.427676e+08 -4.838896e+06   \n",
       "max                                     -4.638598e+06 -2.210948e+02   \n",
       "\n",
       "            Scope 2      Scope 3   Business Travel  Business Travel Imputed  \\\n",
       "count  8.672000e+03  8.672000e+03     8.672000e+03              8672.000000   \n",
       "mean  -2.289068e+08 -6.388430e+09    -7.965346e+06                 0.150484   \n",
       "std    9.828335e+08  2.189212e+10     2.052009e+07                 0.357566   \n",
       "min   -5.452905e+10 -3.167183e+11    -5.611047e+08                 0.000000   \n",
       "25%   -1.708296e+08 -3.285585e+09    -6.139012e+06                 0.000000   \n",
       "50%   -4.743479e+07 -8.193584e+08    -1.750019e+06                 0.000000   \n",
       "75%   -1.103823e+07 -1.886043e+08    -5.117396e+05                 0.000000   \n",
       "max   -8.022581e+02 -4.123901e+06    -2.210948e+00                 1.000000   \n",
       "\n",
       "       Capital Goods  ...  Purchased Goods and Services  \\\n",
       "count   8.672000e+03  ...                  8.672000e+03   \n",
       "mean   -6.974595e+07  ...                 -8.827874e+08   \n",
       "std     2.422768e+08  ...                  4.040470e+09   \n",
       "min    -1.086743e+10  ...                 -1.379600e+11   \n",
       "25%    -5.763972e+07  ...                 -5.524829e+08   \n",
       "50%    -1.740900e+07  ...                 -9.904682e+07   \n",
       "75%    -5.623817e+06  ...                 -1.115581e+07   \n",
       "max    -5.085179e+01  ...                 -7.896241e+01   \n",
       "\n",
       "       Purchased Goods and Services Imputed  Upstream Leased Assets  \\\n",
       "count                           8672.000000            8.672000e+03   \n",
       "mean                               0.427122           -7.079084e+06   \n",
       "std                                0.494689            7.063381e+07   \n",
       "min                                0.000000           -3.817043e+09   \n",
       "25%                                0.000000           -3.158497e+06   \n",
       "50%                                0.000000           -8.835894e+05   \n",
       "75%                                1.000000           -3.429338e+05   \n",
       "max                                1.000000           -9.791339e+00   \n",
       "\n",
       "       Upstream Leased Assets Imputed  \\\n",
       "count                     8672.000000   \n",
       "mean                         0.874885   \n",
       "std                          0.330869   \n",
       "min                          0.000000   \n",
       "25%                          1.000000   \n",
       "50%                          1.000000   \n",
       "75%                          1.000000   \n",
       "max                          1.000000   \n",
       "\n",
       "       Upstream Transportation and Distribution  \\\n",
       "count                              8.672000e+03   \n",
       "mean                              -9.595450e+07   \n",
       "std                                6.692221e+08   \n",
       "min                               -2.828235e+10   \n",
       "25%                               -4.472684e+07   \n",
       "50%                               -8.524466e+06   \n",
       "75%                               -2.517195e+06   \n",
       "max                               -4.106046e+01   \n",
       "\n",
       "       Upstream Transportation and Distribution Imputed  Use of Sold Products  \\\n",
       "count                                       8672.000000          8.672000e+03   \n",
       "mean                                           0.519949         -4.124770e+09   \n",
       "std                                            0.499631          1.752739e+10   \n",
       "min                                            0.000000         -2.921609e+11   \n",
       "25%                                            0.000000         -1.255365e+09   \n",
       "50%                                            1.000000         -2.398979e+08   \n",
       "75%                                            1.000000         -3.613705e+07   \n",
       "max                                            1.000000         -3.158497e+00   \n",
       "\n",
       "       Use of Sold Products Imputed  Waste Generated in Operations  \\\n",
       "count                   8672.000000                   8.672000e+03   \n",
       "mean                       0.700415                  -1.082024e+07   \n",
       "std                        0.458103                   4.803965e+07   \n",
       "min                        0.000000                  -1.269644e+09   \n",
       "25%                        0.000000                  -4.738771e+06   \n",
       "50%                        1.000000                  -1.178435e+06   \n",
       "75%                        1.000000                  -2.185680e+05   \n",
       "max                        1.000000                  -8.212091e+00   \n",
       "\n",
       "       Waste Generated in Operations Imputed  \n",
       "count                            8672.000000  \n",
       "mean                                0.448109  \n",
       "std                                 0.497329  \n",
       "min                                 0.000000  \n",
       "25%                                 0.000000  \n",
       "50%                                 0.000000  \n",
       "75%                                 1.000000  \n",
       "max                                 1.000000  \n",
       "\n",
       "[8 rows x 37 columns]"
      ]
     },
     "execution_count": 2,
     "metadata": {},
     "output_type": "execute_result"
    }
   ],
   "source": [
    "import pandas as pd\n",
    "import matplotlib.pyplot as plt\n",
    "\n",
    "\n",
    "file_path = r\"C:\\Users\\chris\\Corporate_Environmental_Impact\\data\\raw\\Scope-3-Environmental-Impact-Data-2022.xlsx\"\n",
    "\n",
    "df = pd.read_excel(file_path, sheet_name=\"0%\")\n",
    "\n",
    "# Drop rows with missing values\n",
    "df=df.dropna()\n",
    "\n",
    "print(df.isnull().sum())\n",
    "\n",
    "# Examine for anomalies in the numerical values\n",
    "df.describe()"
   ]
  },
  {
   "cell_type": "code",
   "execution_count": 3,
   "id": "778277cc",
   "metadata": {},
   "outputs": [
    {
     "name": "stdout",
     "output_type": "stream",
     "text": [
      "-328,267,922,499.31\n",
      "-4,638,597.67\n"
     ]
    },
    {
     "data": {
      "text/html": [
       "<div>\n",
       "<style scoped>\n",
       "    .dataframe tbody tr th:only-of-type {\n",
       "        vertical-align: middle;\n",
       "    }\n",
       "\n",
       "    .dataframe tbody tr th {\n",
       "        vertical-align: top;\n",
       "    }\n",
       "\n",
       "    .dataframe thead th {\n",
       "        text-align: right;\n",
       "    }\n",
       "</style>\n",
       "<table border=\"1\" class=\"dataframe\">\n",
       "  <thead>\n",
       "    <tr style=\"text-align: right;\">\n",
       "      <th></th>\n",
       "      <th>Year</th>\n",
       "      <th>Company Name</th>\n",
       "      <th>Country</th>\n",
       "      <th>Industry (Exiobase)</th>\n",
       "      <th>GHG Intensity (Sales)</th>\n",
       "      <th>GHG Intensity (Op Income)</th>\n",
       "      <th>Total GHG Environmental Impact (Scope 1, 2, 3)</th>\n",
       "      <th>Scope 1</th>\n",
       "      <th>Scope 2</th>\n",
       "      <th>Scope 3</th>\n",
       "      <th>...</th>\n",
       "      <th>Upstream Leased Assets Imputed</th>\n",
       "      <th>Upstream Transportation and Distribution</th>\n",
       "      <th>Upstream Transportation and Distribution Set</th>\n",
       "      <th>Upstream Transportation and Distribution Imputed</th>\n",
       "      <th>Use of Sold Products</th>\n",
       "      <th>Use of Sold Products Set</th>\n",
       "      <th>Use of Sold Products Imputed</th>\n",
       "      <th>Waste Generated in Operations</th>\n",
       "      <th>Waste Generated in Operations Set</th>\n",
       "      <th>Waste Generated in Operations Imputed</th>\n",
       "    </tr>\n",
       "  </thead>\n",
       "  <tbody>\n",
       "    <tr>\n",
       "      <th>7194</th>\n",
       "      <td>2013</td>\n",
       "      <td>ODONTOPREV SA</td>\n",
       "      <td>BRAZIL</td>\n",
       "      <td>Health and social work (85)</td>\n",
       "      <td>-0.010243</td>\n",
       "      <td>-0.041662</td>\n",
       "      <td>-4.638598e+06</td>\n",
       "      <td>-366973.647412</td>\n",
       "      <td>-147722.884064</td>\n",
       "      <td>-4.123901e+06</td>\n",
       "      <td>...</td>\n",
       "      <td>1</td>\n",
       "      <td>-103598.687135</td>\n",
       "      <td>predicted</td>\n",
       "      <td>1</td>\n",
       "      <td>-364522.087874</td>\n",
       "      <td>predicted</td>\n",
       "      <td>1</td>\n",
       "      <td>-4106.045527</td>\n",
       "      <td>predicted</td>\n",
       "      <td>1</td>\n",
       "    </tr>\n",
       "  </tbody>\n",
       "</table>\n",
       "<p>1 rows × 55 columns</p>\n",
       "</div>"
      ],
      "text/plain": [
       "      Year   Company Name Country          Industry (Exiobase)  \\\n",
       "7194  2013  ODONTOPREV SA  BRAZIL  Health and social work (85)   \n",
       "\n",
       "      GHG Intensity (Sales)  GHG Intensity (Op Income)  \\\n",
       "7194              -0.010243                  -0.041662   \n",
       "\n",
       "      Total GHG Environmental Impact (Scope 1, 2, 3)        Scope 1  \\\n",
       "7194                                   -4.638598e+06 -366973.647412   \n",
       "\n",
       "            Scope 2      Scope 3   ...  Upstream Leased Assets Imputed  \\\n",
       "7194 -147722.884064 -4.123901e+06  ...                               1   \n",
       "\n",
       "     Upstream Transportation and Distribution  \\\n",
       "7194                           -103598.687135   \n",
       "\n",
       "      Upstream Transportation and Distribution Set  \\\n",
       "7194                                     predicted   \n",
       "\n",
       "      Upstream Transportation and Distribution Imputed Use of Sold Products  \\\n",
       "7194                                                 1       -364522.087874   \n",
       "\n",
       "      Use of Sold Products Set  Use of Sold Products Imputed  \\\n",
       "7194                 predicted                             1   \n",
       "\n",
       "     Waste Generated in Operations  Waste Generated in Operations Set  \\\n",
       "7194                  -4106.045527                          predicted   \n",
       "\n",
       "      Waste Generated in Operations Imputed  \n",
       "7194                                      1  \n",
       "\n",
       "[1 rows x 55 columns]"
      ]
     },
     "execution_count": 3,
     "metadata": {},
     "output_type": "execute_result"
    }
   ],
   "source": [
    "min_emission=df['Total GHG Environmental Impact (Scope 1, 2, 3)'].min()\n",
    "print(f\"{min_emission:,.2f}\")\n",
    "\n",
    "max_emission=df['Total GHG Environmental Impact (Scope 1, 2, 3)'].max()\n",
    "print(f\"{max_emission:,.2f}\")\n",
    "\n",
    "# Zeile(n) mit größtem GHG Impact\n",
    "min_row = df[df['Total GHG Environmental Impact (Scope 1, 2, 3)'] == min_emission]\n",
    "\n",
    "# Zeile(n) mit niedrigstem GHG Impact\n",
    "max_row = df[df['Total GHG Environmental Impact (Scope 1, 2, 3)'] == max_emission]\n",
    "\n",
    "min_row\n",
    "max_row\n"
   ]
  },
  {
   "cell_type": "code",
   "execution_count": 4,
   "id": "33246586",
   "metadata": {},
   "outputs": [
    {
     "data": {
      "image/png": "[encoded data removed]",
      "text/plain": [
       "<Figure size 1300x800 with 1 Axes>"
      ]
     },
     "metadata": {},
     "output_type": "display_data"
    }
   ],
   "source": [
    "# Umwandlung in positive GHG-Werte, Gruppiert nach Industry/Branche\n",
    "top_10_industries = df.groupby('Industry (Exiobase)')['Total GHG Environmental Impact (Scope 1, 2, 3)'].mean().abs().sort_values(ascending=False).head(10)\n",
    "\n",
    "# Balkendiagramm erstellen\n",
    "plt.figure(figsize=(13, 8)) \n",
    "plt.style.use('seaborn-v0_8')\n",
    "\n",
    "bars = plt.barh(\n",
    "    top_10_industries.index, \n",
    "    top_10_industries, \n",
    ")\n",
    "# Werte im Balken anzeigen\n",
    "for bar in bars:\n",
    "    width = bar.get_width()\n",
    "    formatted_value = f'{width:,.0f}'\n",
    "    plt.text(width / 2, bar.get_y() + bar.get_height()/2, formatted_value, va='center', ha='center', fontsize=10, color='black')\n",
    "\n",
    "plt.xlabel('Durchschnittlicher GHG Impact (Scope 1, 2, 3) in USD')\n",
    "plt.title('Top 10 Branchen mit dem höchsten durchschnittlichen GHG Impact 2012-2020', fontsize=12)\n",
    "plt.grid(axis='x', linestyle='--', alpha=0.7)\n",
    "plt.gca().invert_yaxis()\n",
    "plt.tight_layout()\n",
    "plt.savefig('top_10_indrusties_emissions.png')\n",
    "plt.show()\n",
    "\n"
   ]
  },
  {
   "cell_type": "code",
   "execution_count": 5,
   "id": "fbeffb33",
   "metadata": {},
   "outputs": [
    {
     "name": "stdout",
     "output_type": "stream",
     "text": [
      "Industry (Exiobase)\n",
      "Manufacture of basic iron and steel and of ferro-alloys and first products thereof                 3.828568e+10\n",
      "Extraction of crude petroleum and services related to crude oil extraction, excluding surveying    3.623530e+10\n",
      "Manufacture of motor vehicles, trailers and semi-trailers (34)                                     3.479102e+10\n",
      "Mining of coal and lignite; extraction of peat (10)                                                3.371645e+10\n",
      "Quarrying of sand and clay                                                                         2.686185e+10\n",
      "Extraction of natural gas and services related to natural gas extraction, excluding surveying      2.129194e+10\n",
      "Production of electricity nec                                                                      2.106638e+10\n",
      "Production of electricity by nuclear                                                               2.063166e+10\n",
      "Petroleum Refinery                                                                                 1.643262e+10\n",
      "Production of electricity by petroleum and other oil derivatives                                   1.263362e+10\n",
      "Name: Total GHG Environmental Impact (Scope 1, 2, 3), dtype: float64\n"
     ]
    }
   ],
   "source": [
    "print(top_10_industries)"
   ]
  },
  {
   "cell_type": "code",
   "execution_count": 6,
   "id": "220dc190",
   "metadata": {},
   "outputs": [
    {
     "data": {
      "image/png": "[encoded data removed]",
      "text/plain": [
       "<Figure size 1500x800 with 1 Axes>"
      ]
     },
     "metadata": {},
     "output_type": "display_data"
    }
   ],
   "source": [
    "# Umwandlung in positive GHG-Werte, Gruppiert nach Industry/Branche\n",
    "top_10_low_emissions = df.groupby('Industry (Exiobase)')['Total GHG Environmental Impact (Scope 1, 2, 3)'].mean().abs().sort_values(ascending=True).head(10)\n",
    "\n",
    "# Balkendiagramm erstellen\n",
    "plt.figure(figsize=(15, 8)) \n",
    "plt.style.use('seaborn-v0_8')\n",
    "\n",
    "bars = plt.barh(\n",
    "    top_10_low_emissions.index, \n",
    "    top_10_low_emissions, \n",
    ")\n",
    "# Werte im Balken anzeigen\n",
    "for bar in bars:\n",
    "    width = bar.get_width()\n",
    "    formatted_value = f'{width:,.0f}'\n",
    "    plt.text(width / 2, bar.get_y() + bar.get_height()/2, formatted_value, va='center', ha='center', fontsize=10, color='black')\n",
    "\n",
    "plt.xlabel('Durchschnittlicher GHG Impact (Scope 1, 2, 3) in USD')\n",
    "plt.title('Top 10 Branchen mit dem niedrigsten durchschnittlichen GHG Impact 2012-2020', fontsize=12)\n",
    "plt.grid(axis='x', linestyle='--', alpha=0.7)\n",
    "plt.gca().invert_yaxis()\n",
    "plt.tight_layout()\n",
    "plt.savefig('top_10_low_emission_industries.png')\n",
    "plt.show()\n"
   ]
  },
  {
   "cell_type": "code",
   "execution_count": 7,
   "id": "f00e76d5",
   "metadata": {},
   "outputs": [
    {
     "name": "stdout",
     "output_type": "stream",
     "text": [
      "Industry (Exiobase)\n",
      "Publishing, printing and reproduction of recorded media (22)                                                                            2.534639e+08\n",
      "Manufacture of furniture; manufacturing n.e.c. (36)                                                                                     3.679723e+08\n",
      "Research and development (73)                                                                                                           4.084997e+08\n",
      "Financial intermediation, except insurance and pension funding (65)                                                                     4.180099e+08\n",
      "Activities auxiliary to financial intermediation (67)                                                                                   4.272380e+08\n",
      "Manufacture of textiles (17)                                                                                                            4.820821e+08\n",
      "Manufacture of wood and of products of wood and cork, except furniture; manufacture of articles of straw and plaiting materials (20)    5.156013e+08\n",
      "Production of electricity by solar photovoltaic                                                                                         7.850503e+08\n",
      "Manufacture of wearing apparel; dressing and dyeing of fur (18)                                                                         8.982339e+08\n",
      "Recreational, cultural and sporting activities (92)                                                                                     1.188210e+09\n",
      "Name: Total GHG Environmental Impact (Scope 1, 2, 3), dtype: float64\n"
     ]
    }
   ],
   "source": [
    "print(top_10_low_emissions)"
   ]
  },
  {
   "cell_type": "code",
   "execution_count": 10,
   "id": "09bd39a9",
   "metadata": {},
   "outputs": [
    {
     "data": {
      "image/png": "[encoded data removed]",
      "text/plain": [
       "<Figure size 1500x800 with 1 Axes>"
      ]
     },
     "metadata": {},
     "output_type": "display_data"
    }
   ],
   "source": [
    "# Series in Liste umwandeln\n",
    "top_10_low_emission_industries = top_10_low_emissions.index.tolist()\n",
    "\n",
    "# Nur die Top 10 Branchen mit niedrigem Impact auswählen\n",
    "df_filtered = df[df['Industry (Exiobase)'].isin(top_10_low_emission_industries)]\n",
    "\n",
    "# Gruppieren nach Jahr und Branche, dann Mittelwert berechnen\n",
    "ghg_by_year = df_filtered.groupby(['Year', 'Industry (Exiobase)'])['Total GHG Environmental Impact (Scope 1, 2, 3)'].mean().abs().reset_index()\n",
    "\n",
    "plt.figure(figsize=(15, 8))\n",
    "plt.style.use('seaborn-v0_8')\n",
    "\n",
    "for industry in top_10_low_emission_industries:\n",
    "    data = ghg_by_year[ghg_by_year['Industry (Exiobase)'] == industry]\n",
    "    plt.plot(data['Year'], data['Total GHG Environmental Impact (Scope 1, 2, 3)'], label=industry)\n",
    "\n",
    "plt.xlabel('Jahr')\n",
    "plt.ylabel('Durchschnittlicher GHG Impact in USD')\n",
    "plt.title('Zeitlicher Verlauf des durchschnittlichen GHG Impacts (2012–2020) – Top 10 Branchen mit niedrigstem Impact')\n",
    "plt.legend(loc='upper right', bbox_to_anchor=(1.25, 1))\n",
    "plt.grid(True, linestyle='--', alpha=0.7)\n",
    "plt.tight_layout()\n",
    "plt.savefig('ghg_trend_top_10_low_impact.png')\n",
    "plt.show()\n"
   ]
  },
  {
   "cell_type": "code",
   "execution_count": 18,
   "id": "c73dba3b",
   "metadata": {},
   "outputs": [
    {
     "data": {
      "application/vnd.plotly.v1+json": {
       "config": {
        "plotlyServerURL": "https://plot.ly"
       },
       "data": [
        {
         "line": {
          "width": 2
         },
         "mode": "lines",
         "name": "Publishing, printing and reproduction of recorded media (22)",
         "type": "scatter",
         "x": {
          "bdata": "3AfdB94H3wfgB+EH4gfjB+QH",
          "dtype": "i2"
         },
         "y": {
          "bdata": "hl85WxsRskGYqlZv2AixQRRL8toHBrFBRITcr4/tsEESOdL/f5eqQemsM+5H5KxBtW6A2FZ2p0GdXkkBotyoQYHGHEbqx4VB",
          "dtype": "f8"
         }
        },
        {
         "line": {
          "width": 2
         },
         "mode": "lines",
         "name": "Manufacture of furniture; manufacturing n.e.c. (36)",
         "type": "scatter",
         "x": {
          "bdata": "3AfdB94H3wfgB+EH4gfjBw==",
          "dtype": "i2"
         },
         "y": {
          "bdata": "lLMX1H8qlUGwHRMcrf+SQdBEAGShgZJBJHwY1l3vkkHUOy7NDFCQQRLRDpu1dp1BYztJctFOrUFJ5kSQlcLdQQ==",
          "dtype": "f8"
         }
        },
        {
         "line": {
          "width": 2
         },
         "mode": "lines",
         "name": "Research and development (73)",
         "type": "scatter",
         "x": {
          "bdata": "3AfdB94H3wfgB+EH4gfjBw==",
          "dtype": "i2"
         },
         "y": {
          "bdata": "zsEIp9QRsEEZCbKZ1JCqQW36hoESXrZBAaKML0IJtkEytiiCcdu7Qc/C/6rqbbtBI55vfZvTvkGwVCw2BGe+QQ==",
          "dtype": "f8"
         }
        },
        {
         "line": {
          "width": 2
         },
         "mode": "lines",
         "name": "Financial intermediation, except insurance and pension funding (65)",
         "type": "scatter",
         "x": {
          "bdata": "3AfdB94H3wfgB+EH4gfjBw==",
          "dtype": "i2"
         },
         "y": {
          "bdata": "kC8e8hoMrkGJJYHiHt+yQUgvoyOn5LNBZa2Pxe23skG0wt8fLfCzQZ42jH1lBLVBev0N/kpuu0E0m3ClIwbIQQ==",
          "dtype": "f8"
         }
        },
        {
         "line": {
          "width": 2
         },
         "mode": "lines",
         "name": "Activities auxiliary to financial intermediation (67)",
         "type": "scatter",
         "x": {
          "bdata": "3AfdB94H3wfgB+EH4gfjBw==",
          "dtype": "i2"
         },
         "y": {
          "bdata": "51LHZYPjuEGdqxMTwVy5QdPfQqAwu7lB8dXvDeuBt0GX5VZwE4y0Qb0M7LG3lrNBE7VY+q2BvkHoR1FxibS9QQ==",
          "dtype": "f8"
         }
        },
        {
         "line": {
          "width": 2
         },
         "mode": "lines",
         "name": "Manufacture of textiles (17)",
         "type": "scatter",
         "x": {
          "bdata": "3AfdB94H3wfgB+EH4gfjBw==",
          "dtype": "i2"
         },
         "y": {
          "bdata": "MMqeMEZMm0FNMGj+8iGaQfwdVwxkoYpBSnu/8ygGj0EGjOvs5I7WQchqPSd1FcxB1RlVyTV4pkGwQ6RMb2XSQQ==",
          "dtype": "f8"
         }
        },
        {
         "line": {
          "width": 2
         },
         "mode": "lines",
         "name": "Manufacture of wood and of products of wood and cork, except furniture; manufacture of articles of straw and plaiting materials (20)",
         "type": "scatter",
         "x": {
          "bdata": "3QfeB+IH4wc=",
          "dtype": "i2"
         },
         "y": {
          "bdata": "U0N1E6Aox0GOpAFtdTTBQUbmWbmu5LpBciXwx7kls0E=",
          "dtype": "f8"
         }
        },
        {
         "line": {
          "width": 2
         },
         "mode": "lines",
         "name": "Production of electricity by solar photovoltaic",
         "type": "scatter",
         "x": {
          "bdata": "3AfdB94H3wfgB+IH4wc=",
          "dtype": "i2"
         },
         "y": {
          "bdata": "gblgOJm+gEFb5z/7fQ+AQT/PvSI8zGRBkOik1wtWf0GiTW8eQNjMQSVrA+RtYtFBq/DN223V1UE=",
          "dtype": "f8"
         }
        },
        {
         "line": {
          "width": 2
         },
         "mode": "lines",
         "name": "Manufacture of wearing apparel; dressing and dyeing of fur (18)",
         "type": "scatter",
         "x": {
          "bdata": "3AfdB94H3wfgB+EH4gfjBw==",
          "dtype": "i2"
         },
         "y": {
          "bdata": "TrmGNGtowkGIM/Y/vKHDQbtSfblfYchBKwLpxtc2yEFPPr2XljrOQZnGDw5AKNFBIsml625N0kHMHWxQInLGQQ==",
          "dtype": "f8"
         }
        },
        {
         "line": {
          "width": 2
         },
         "mode": "lines",
         "name": "Recreational, cultural and sporting activities (92)",
         "type": "scatter",
         "x": {
          "bdata": "3AfdB94H3wfgB+EH4gfjB+QH",
          "dtype": "i2"
         },
         "y": {
          "bdata": "9ZyDB8nJ2EEnsCc7y83XQbLhSexnxdZBSQVt6SPV1EFYra/5ny+4QXydOoTI88dBa5iVRsvB2UGqoMaq52/FQXDKMypSlXBB",
          "dtype": "f8"
         }
        }
       ],
       "layout": {
        "legend": {
         "bgcolor": "rgba(255, 255, 255, 0)",
         "borderwidth": 0,
         "title": {
          "text": "Branche"
         },
         "traceorder": "normal",
         "x": 1.05,
         "y": 1
        },
        "showlegend": true,
        "template": {
         "data": {
          "bar": [
           {
            "error_x": {
             "color": "rgb(36,36,36)"
            },
            "error_y": {
             "color": "rgb(36,36,36)"
            },
            "marker": {
             "line": {
              "color": "rgb(234,234,242)",
              "width": 0.5
             },
             "pattern": {
              "fillmode": "overlay",
              "size": 10,
              "solidity": 0.2
             }
            },
            "type": "bar"
           }
          ],
          "barpolar": [
           {
            "marker": {
             "line": {
              "color": "rgb(234,234,242)",
              "width": 0.5
             },
             "pattern": {
              "fillmode": "overlay",
              "size": 10,
              "solidity": 0.2
             }
            },
            "type": "barpolar"
           }
          ],
          "carpet": [
           {
            "aaxis": {
             "endlinecolor": "rgb(36,36,36)",
             "gridcolor": "white",
             "linecolor": "white",
             "minorgridcolor": "white",
             "startlinecolor": "rgb(36,36,36)"
            },
            "baxis": {
             "endlinecolor": "rgb(36,36,36)",
             "gridcolor": "white",
             "linecolor": "white",
             "minorgridcolor": "white",
             "startlinecolor": "rgb(36,36,36)"
            },
            "type": "carpet"
           }
          ],
          "choropleth": [
           {
            "colorbar": {
             "outlinewidth": 0,
             "tickcolor": "rgb(36,36,36)",
             "ticklen": 8,
             "ticks": "outside",
             "tickwidth": 2
            },
            "type": "choropleth"
           }
          ],
          "contour": [
           {
            "colorbar": {
             "outlinewidth": 0,
             "tickcolor": "rgb(36,36,36)",
             "ticklen": 8,
             "ticks": "outside",
             "tickwidth": 2
            },
            "colorscale": [
             [
              0,
              "rgb(2,4,25)"
             ],
             [
              0.06274509803921569,
              "rgb(24,15,41)"
             ],
             [
              0.12549019607843137,
              "rgb(47,23,57)"
             ],
             [
              0.18823529411764706,
              "rgb(71,28,72)"
             ],
             [
              0.25098039215686274,
              "rgb(97,30,82)"
             ],
             [
              0.3137254901960784,
              "rgb(123,30,89)"
             ],
             [
              0.3764705882352941,
              "rgb(150,27,91)"
             ],
             [
              0.4392156862745098,
              "rgb(177,22,88)"
             ],
             [
              0.5019607843137255,
              "rgb(203,26,79)"
             ],
             [
              0.5647058823529412,
              "rgb(223,47,67)"
             ],
             [
              0.6274509803921569,
              "rgb(236,76,61)"
             ],
             [
              0.6901960784313725,
              "rgb(242,107,73)"
             ],
             [
              0.7529411764705882,
              "rgb(244,135,95)"
             ],
             [
              0.8156862745098039,
              "rgb(245,162,122)"
             ],
             [
              0.8784313725490196,
              "rgb(246,188,153)"
             ],
             [
              0.9411764705882353,
              "rgb(247,212,187)"
             ],
             [
              1,
              "rgb(250,234,220)"
             ]
            ],
            "type": "contour"
           }
          ],
          "contourcarpet": [
           {
            "colorbar": {
             "outlinewidth": 0,
             "tickcolor": "rgb(36,36,36)",
             "ticklen": 8,
             "ticks": "outside",
             "tickwidth": 2
            },
            "type": "contourcarpet"
           }
          ],
          "heatmap": [
           {
            "colorbar": {
             "outlinewidth": 0,
             "tickcolor": "rgb(36,36,36)",
             "ticklen": 8,
             "ticks": "outside",
             "tickwidth": 2
            },
            "colorscale": [
             [
              0,
              "rgb(2,4,25)"
             ],
             [
              0.06274509803921569,
              "rgb(24,15,41)"
             ],
             [
              0.12549019607843137,
              "rgb(47,23,57)"
             ],
             [
              0.18823529411764706,
              "rgb(71,28,72)"
             ],
             [
              0.25098039215686274,
              "rgb(97,30,82)"
             ],
             [
              0.3137254901960784,
              "rgb(123,30,89)"
             ],
             [
              0.3764705882352941,
              "rgb(150,27,91)"
             ],
             [
              0.4392156862745098,
              "rgb(177,22,88)"
             ],
             [
              0.5019607843137255,
              "rgb(203,26,79)"
             ],
             [
              0.5647058823529412,
              "rgb(223,47,67)"
             ],
             [
              0.6274509803921569,
              "rgb(236,76,61)"
             ],
             [
              0.6901960784313725,
              "rgb(242,107,73)"
             ],
             [
              0.7529411764705882,
              "rgb(244,135,95)"
             ],
             [
              0.8156862745098039,
              "rgb(245,162,122)"
             ],
             [
              0.8784313725490196,
              "rgb(246,188,153)"
             ],
             [
              0.9411764705882353,
              "rgb(247,212,187)"
             ],
             [
              1,
              "rgb(250,234,220)"
             ]
            ],
            "type": "heatmap"
           }
          ],
          "histogram": [
           {
            "marker": {
             "pattern": {
              "fillmode": "overlay",
              "size": 10,
              "solidity": 0.2
             }
            },
            "type": "histogram"
           }
          ],
          "histogram2d": [
           {
            "colorbar": {
             "outlinewidth": 0,
             "tickcolor": "rgb(36,36,36)",
             "ticklen": 8,
             "ticks": "outside",
             "tickwidth": 2
            },
            "colorscale": [
             [
              0,
              "rgb(2,4,25)"
             ],
             [
              0.06274509803921569,
              "rgb(24,15,41)"
             ],
             [
              0.12549019607843137,
              "rgb(47,23,57)"
             ],
             [
              0.18823529411764706,
              "rgb(71,28,72)"
             ],
             [
              0.25098039215686274,
              "rgb(97,30,82)"
             ],
             [
              0.3137254901960784,
              "rgb(123,30,89)"
             ],
             [
              0.3764705882352941,
              "rgb(150,27,91)"
             ],
             [
              0.4392156862745098,
              "rgb(177,22,88)"
             ],
             [
              0.5019607843137255,
              "rgb(203,26,79)"
             ],
             [
              0.5647058823529412,
              "rgb(223,47,67)"
             ],
             [
              0.6274509803921569,
              "rgb(236,76,61)"
             ],
             [
              0.6901960784313725,
              "rgb(242,107,73)"
             ],
             [
              0.7529411764705882,
              "rgb(244,135,95)"
             ],
             [
              0.8156862745098039,
              "rgb(245,162,122)"
             ],
             [
              0.8784313725490196,
              "rgb(246,188,153)"
             ],
             [
              0.9411764705882353,
              "rgb(247,212,187)"
             ],
             [
              1,
              "rgb(250,234,220)"
             ]
            ],
            "type": "histogram2d"
           }
          ],
          "histogram2dcontour": [
           {
            "colorbar": {
             "outlinewidth": 0,
             "tickcolor": "rgb(36,36,36)",
             "ticklen": 8,
             "ticks": "outside",
             "tickwidth": 2
            },
            "colorscale": [
             [
              0,
              "rgb(2,4,25)"
             ],
             [
              0.06274509803921569,
              "rgb(24,15,41)"
             ],
             [
              0.12549019607843137,
              "rgb(47,23,57)"
             ],
             [
              0.18823529411764706,
              "rgb(71,28,72)"
             ],
             [
              0.25098039215686274,
              "rgb(97,30,82)"
             ],
             [
              0.3137254901960784,
              "rgb(123,30,89)"
             ],
             [
              0.3764705882352941,
              "rgb(150,27,91)"
             ],
             [
              0.4392156862745098,
              "rgb(177,22,88)"
             ],
             [
              0.5019607843137255,
              "rgb(203,26,79)"
             ],
             [
              0.5647058823529412,
              "rgb(223,47,67)"
             ],
             [
              0.6274509803921569,
              "rgb(236,76,61)"
             ],
             [
              0.6901960784313725,
              "rgb(242,107,73)"
             ],
             [
              0.7529411764705882,
              "rgb(244,135,95)"
             ],
             [
              0.8156862745098039,
              "rgb(245,162,122)"
             ],
             [
              0.8784313725490196,
              "rgb(246,188,153)"
             ],
             [
              0.9411764705882353,
              "rgb(247,212,187)"
             ],
             [
              1,
              "rgb(250,234,220)"
             ]
            ],
            "type": "histogram2dcontour"
           }
          ],
          "mesh3d": [
           {
            "colorbar": {
             "outlinewidth": 0,
             "tickcolor": "rgb(36,36,36)",
             "ticklen": 8,
             "ticks": "outside",
             "tickwidth": 2
            },
            "type": "mesh3d"
           }
          ],
          "parcoords": [
           {
            "line": {
             "colorbar": {
              "outlinewidth": 0,
              "tickcolor": "rgb(36,36,36)",
              "ticklen": 8,
              "ticks": "outside",
              "tickwidth": 2
             }
            },
            "type": "parcoords"
           }
          ],
          "pie": [
           {
            "automargin": true,
            "type": "pie"
           }
          ],
          "scatter": [
           {
            "fillpattern": {
             "fillmode": "overlay",
             "size": 10,
             "solidity": 0.2
            },
            "type": "scatter"
           }
          ],
          "scatter3d": [
           {
            "line": {
             "colorbar": {
              "outlinewidth": 0,
              "tickcolor": "rgb(36,36,36)",
              "ticklen": 8,
              "ticks": "outside",
              "tickwidth": 2
             }
            },
            "marker": {
             "colorbar": {
              "outlinewidth": 0,
              "tickcolor": "rgb(36,36,36)",
              "ticklen": 8,
              "ticks": "outside",
              "tickwidth": 2
             }
            },
            "type": "scatter3d"
           }
          ],
          "scattercarpet": [
           {
            "marker": {
             "colorbar": {
              "outlinewidth": 0,
              "tickcolor": "rgb(36,36,36)",
              "ticklen": 8,
              "ticks": "outside",
              "tickwidth": 2
             }
            },
            "type": "scattercarpet"
           }
          ],
          "scattergeo": [
           {
            "marker": {
             "colorbar": {
              "outlinewidth": 0,
              "tickcolor": "rgb(36,36,36)",
              "ticklen": 8,
              "ticks": "outside",
              "tickwidth": 2
             }
            },
            "type": "scattergeo"
           }
          ],
          "scattergl": [
           {
            "marker": {
             "colorbar": {
              "outlinewidth": 0,
              "tickcolor": "rgb(36,36,36)",
              "ticklen": 8,
              "ticks": "outside",
              "tickwidth": 2
             }
            },
            "type": "scattergl"
           }
          ],
          "scattermap": [
           {
            "marker": {
             "colorbar": {
              "outlinewidth": 0,
              "tickcolor": "rgb(36,36,36)",
              "ticklen": 8,
              "ticks": "outside",
              "tickwidth": 2
             }
            },
            "type": "scattermap"
           }
          ],
          "scattermapbox": [
           {
            "marker": {
             "colorbar": {
              "outlinewidth": 0,
              "tickcolor": "rgb(36,36,36)",
              "ticklen": 8,
              "ticks": "outside",
              "tickwidth": 2
             }
            },
            "type": "scattermapbox"
           }
          ],
          "scatterpolar": [
           {
            "marker": {
             "colorbar": {
              "outlinewidth": 0,
              "tickcolor": "rgb(36,36,36)",
              "ticklen": 8,
              "ticks": "outside",
              "tickwidth": 2
             }
            },
            "type": "scatterpolar"
           }
          ],
          "scatterpolargl": [
           {
            "marker": {
             "colorbar": {
              "outlinewidth": 0,
              "tickcolor": "rgb(36,36,36)",
              "ticklen": 8,
              "ticks": "outside",
              "tickwidth": 2
             }
            },
            "type": "scatterpolargl"
           }
          ],
          "scatterternary": [
           {
            "marker": {
             "colorbar": {
              "outlinewidth": 0,
              "tickcolor": "rgb(36,36,36)",
              "ticklen": 8,
              "ticks": "outside",
              "tickwidth": 2
             }
            },
            "type": "scatterternary"
           }
          ],
          "surface": [
           {
            "colorbar": {
             "outlinewidth": 0,
             "tickcolor": "rgb(36,36,36)",
             "ticklen": 8,
             "ticks": "outside",
             "tickwidth": 2
            },
            "colorscale": [
             [
              0,
              "rgb(2,4,25)"
             ],
             [
              0.06274509803921569,
              "rgb(24,15,41)"
             ],
             [
              0.12549019607843137,
              "rgb(47,23,57)"
             ],
             [
              0.18823529411764706,
              "rgb(71,28,72)"
             ],
             [
              0.25098039215686274,
              "rgb(97,30,82)"
             ],
             [
              0.3137254901960784,
              "rgb(123,30,89)"
             ],
             [
              0.3764705882352941,
              "rgb(150,27,91)"
             ],
             [
              0.4392156862745098,
              "rgb(177,22,88)"
             ],
             [
              0.5019607843137255,
              "rgb(203,26,79)"
             ],
             [
              0.5647058823529412,
              "rgb(223,47,67)"
             ],
             [
              0.6274509803921569,
              "rgb(236,76,61)"
             ],
             [
              0.6901960784313725,
              "rgb(242,107,73)"
             ],
             [
              0.7529411764705882,
              "rgb(244,135,95)"
             ],
             [
              0.8156862745098039,
              "rgb(245,162,122)"
             ],
             [
              0.8784313725490196,
              "rgb(246,188,153)"
             ],
             [
              0.9411764705882353,
              "rgb(247,212,187)"
             ],
             [
              1,
              "rgb(250,234,220)"
             ]
            ],
            "type": "surface"
           }
          ],
          "table": [
           {
            "cells": {
             "fill": {
              "color": "rgb(231,231,240)"
             },
             "line": {
              "color": "white"
             }
            },
            "header": {
             "fill": {
              "color": "rgb(183,183,191)"
             },
             "line": {
              "color": "white"
             }
            },
            "type": "table"
           }
          ]
         },
         "layout": {
          "annotationdefaults": {
           "arrowcolor": "rgb(67,103,167)"
          },
          "autotypenumbers": "strict",
          "coloraxis": {
           "colorbar": {
            "outlinewidth": 0,
            "tickcolor": "rgb(36,36,36)",
            "ticklen": 8,
            "ticks": "outside",
            "tickwidth": 2
           }
          },
          "colorscale": {
           "sequential": [
            [
             0,
             "rgb(2,4,25)"
            ],
            [
             0.06274509803921569,
             "rgb(24,15,41)"
            ],
            [
             0.12549019607843137,
             "rgb(47,23,57)"
            ],
            [
             0.18823529411764706,
             "rgb(71,28,72)"
            ],
            [
             0.25098039215686274,
             "rgb(97,30,82)"
            ],
            [
             0.3137254901960784,
             "rgb(123,30,89)"
            ],
            [
             0.3764705882352941,
             "rgb(150,27,91)"
            ],
            [
             0.4392156862745098,
             "rgb(177,22,88)"
            ],
            [
             0.5019607843137255,
             "rgb(203,26,79)"
            ],
            [
             0.5647058823529412,
             "rgb(223,47,67)"
            ],
            [
             0.6274509803921569,
             "rgb(236,76,61)"
            ],
            [
             0.6901960784313725,
             "rgb(242,107,73)"
            ],
            [
             0.7529411764705882,
             "rgb(244,135,95)"
            ],
            [
             0.8156862745098039,
             "rgb(245,162,122)"
            ],
            [
             0.8784313725490196,
             "rgb(246,188,153)"
            ],
            [
             0.9411764705882353,
             "rgb(247,212,187)"
            ],
            [
             1,
             "rgb(250,234,220)"
            ]
           ],
           "sequentialminus": [
            [
             0,
             "rgb(2,4,25)"
            ],
            [
             0.06274509803921569,
             "rgb(24,15,41)"
            ],
            [
             0.12549019607843137,
             "rgb(47,23,57)"
            ],
            [
             0.18823529411764706,
             "rgb(71,28,72)"
            ],
            [
             0.25098039215686274,
             "rgb(97,30,82)"
            ],
            [
             0.3137254901960784,
             "rgb(123,30,89)"
            ],
            [
             0.3764705882352941,
             "rgb(150,27,91)"
            ],
            [
             0.4392156862745098,
             "rgb(177,22,88)"
            ],
            [
             0.5019607843137255,
             "rgb(203,26,79)"
            ],
            [
             0.5647058823529412,
             "rgb(223,47,67)"
            ],
            [
             0.6274509803921569,
             "rgb(236,76,61)"
            ],
            [
             0.6901960784313725,
             "rgb(242,107,73)"
            ],
            [
             0.7529411764705882,
             "rgb(244,135,95)"
            ],
            [
             0.8156862745098039,
             "rgb(245,162,122)"
            ],
            [
             0.8784313725490196,
             "rgb(246,188,153)"
            ],
            [
             0.9411764705882353,
             "rgb(247,212,187)"
            ],
            [
             1,
             "rgb(250,234,220)"
            ]
           ]
          },
          "colorway": [
           "rgb(76,114,176)",
           "rgb(221,132,82)",
           "rgb(85,168,104)",
           "rgb(196,78,82)",
           "rgb(129,114,179)",
           "rgb(147,120,96)",
           "rgb(218,139,195)",
           "rgb(140,140,140)",
           "rgb(204,185,116)",
           "rgb(100,181,205)"
          ],
          "font": {
           "color": "rgb(36,36,36)"
          },
          "geo": {
           "bgcolor": "white",
           "lakecolor": "white",
           "landcolor": "rgb(234,234,242)",
           "showlakes": true,
           "showland": true,
           "subunitcolor": "white"
          },
          "hoverlabel": {
           "align": "left"
          },
          "hovermode": "closest",
          "paper_bgcolor": "white",
          "plot_bgcolor": "rgb(234,234,242)",
          "polar": {
           "angularaxis": {
            "gridcolor": "white",
            "linecolor": "white",
            "showgrid": true,
            "ticks": ""
           },
           "bgcolor": "rgb(234,234,242)",
           "radialaxis": {
            "gridcolor": "white",
            "linecolor": "white",
            "showgrid": true,
            "ticks": ""
           }
          },
          "scene": {
           "xaxis": {
            "backgroundcolor": "rgb(234,234,242)",
            "gridcolor": "white",
            "gridwidth": 2,
            "linecolor": "white",
            "showbackground": true,
            "showgrid": true,
            "ticks": "",
            "zerolinecolor": "white"
           },
           "yaxis": {
            "backgroundcolor": "rgb(234,234,242)",
            "gridcolor": "white",
            "gridwidth": 2,
            "linecolor": "white",
            "showbackground": true,
            "showgrid": true,
            "ticks": "",
            "zerolinecolor": "white"
           },
           "zaxis": {
            "backgroundcolor": "rgb(234,234,242)",
            "gridcolor": "white",
            "gridwidth": 2,
            "linecolor": "white",
            "showbackground": true,
            "showgrid": true,
            "ticks": "",
            "zerolinecolor": "white"
           }
          },
          "shapedefaults": {
           "fillcolor": "rgb(67,103,167)",
           "line": {
            "width": 0
           },
           "opacity": 0.5
          },
          "ternary": {
           "aaxis": {
            "gridcolor": "white",
            "linecolor": "white",
            "showgrid": true,
            "ticks": ""
           },
           "baxis": {
            "gridcolor": "white",
            "linecolor": "white",
            "showgrid": true,
            "ticks": ""
           },
           "bgcolor": "rgb(234,234,242)",
           "caxis": {
            "gridcolor": "white",
            "linecolor": "white",
            "showgrid": true,
            "ticks": ""
           }
          },
          "xaxis": {
           "automargin": true,
           "gridcolor": "white",
           "linecolor": "white",
           "showgrid": true,
           "ticks": "",
           "title": {
            "standoff": 15
           },
           "zerolinecolor": "white"
          },
          "yaxis": {
           "automargin": true,
           "gridcolor": "white",
           "linecolor": "white",
           "showgrid": true,
           "ticks": "",
           "title": {
            "standoff": 15
           },
           "zerolinecolor": "white"
          }
         }
        },
        "title": {
         "text": "Zeitlicher Verlauf des durchschnittlichen GHG Impacts (2012–2020) – Top 10 Branchen mit niedrigstem Impact"
        },
        "xaxis": {
         "title": {
          "text": "Jahr"
         }
        },
        "yaxis": {
         "title": {
          "text": "Durchschnittlicher GHG Impact in USD"
         }
        }
       }
      }
     },
     "metadata": {},
     "output_type": "display_data"
    }
   ],
   "source": [
    "import plotly.graph_objects as go\n",
    "\n",
    "# Nur die Top 10 Branchen mit niedrigem Impact auswählen\n",
    "df_filtered = df[df['Industry (Exiobase)'].isin(top_10_low_emission_industries)]\n",
    "\n",
    "# Gruppieren nach Jahr und Branche, dann Mittelwert berechnen\n",
    "ghg_by_year = df_filtered.groupby(['Year', 'Industry (Exiobase)'])['Total GHG Environmental Impact (Scope 1, 2, 3)'].mean().abs().reset_index()\n",
    "\n",
    "# Erstelle eine leere Figur für Plotly\n",
    "fig = go.Figure()\n",
    "\n",
    "# Für jede Branche eine Linie hinzufügen\n",
    "for industry in top_10_low_emission_industries:\n",
    "    data = ghg_by_year[ghg_by_year['Industry (Exiobase)'] == industry]\n",
    "    fig.add_trace(go.Scatter(\n",
    "        x=data['Year'], \n",
    "        y=data['Total GHG Environmental Impact (Scope 1, 2, 3)'],\n",
    "        mode='lines',\n",
    "        name=industry,  # Name für die Legende\n",
    "        line=dict(width=2),  # Breite der Linie\n",
    "    ))\n",
    "\n",
    "# Layout anpassen\n",
    "fig.update_layout(\n",
    "    title='Zeitlicher Verlauf des durchschnittlichen GHG Impacts (2012–2020) – Top 10 Branchen mit niedrigstem Impact',\n",
    "    xaxis_title='Jahr',\n",
    "    yaxis_title='Durchschnittlicher GHG Impact in USD',\n",
    "    template='seaborn',  # Optional: Ein Plotly-Template verwenden\n",
    "    legend_title='Branche',\n",
    "    legend=dict(\n",
    "        x=1.05,  # Position der Legende\n",
    "        y=1,\n",
    "        traceorder='normal',\n",
    "        bgcolor='rgba(255, 255, 255, 0)',  # Hintergrundfarbe der Legende\n",
    "        borderwidth=0,\n",
    "    ),\n",
    "    showlegend=True \n",
    ")\n",
    "fig.write_html(\"ghg_trend_top_10_low_impact.html\")\n",
    "fig.show()\n"
   ]
  },
  {
   "cell_type": "code",
   "execution_count": null,
   "id": "7f837a66",
   "metadata": {},
   "outputs": [
    {
     "data": {
      "application/vnd.plotly.v1+json": {
       "config": {
        "plotlyServerURL": "https://plot.ly"
       },
       "data": [
        {
         "line": {
          "width": 2
         },
         "mode": "lines",
         "name": "Manufacture of basic iron and steel and of ferro-alloys and first products thereof",
         "type": "scatter",
         "x": {
          "bdata": "3AfdB94H3wfgB+EH4gfjBw==",
          "dtype": "i2"
         },
         "y": {
          "bdata": "DsW88mpJFEKcbjD0txQSQk5jfkVZcyJCu4wuDMEWJUKr2E6ZypwkQm7/vrsIfyVCYJCCG1bwJkLDLaDXeU8gQg==",
          "dtype": "f8"
         }
        },
        {
         "line": {
          "width": 2
         },
         "mode": "lines",
         "name": "Extraction of crude petroleum and services related to crude oil extraction, excluding surveying",
         "type": "scatter",
         "x": {
          "bdata": "3AfdB94H3wfgB+EH4gfjB+QH",
          "dtype": "i2"
         },
         "y": {
          "bdata": "2HAKVj2WJULEwZ1/QcciQrB7LqwxjCBCP+ygaaraJEKeEMNN9AMkQhD+oZmOwBpC5GV+zOn5F0J9XYc4qeMcQsgNXvhHrq5B",
          "dtype": "f8"
         }
        },
        {
         "line": {
          "width": 2
         },
         "mode": "lines",
         "name": "Manufacture of motor vehicles, trailers and semi-trailers (34)",
         "type": "scatter",
         "x": {
          "bdata": "3AfdB94H3wfgB+EH4gfjBw==",
          "dtype": "i2"
         },
         "y": {
          "bdata": "2dUNKmNDI0ICxEqqeTAkQhsrASLZziJC/BFX3hXmIEKS/mjQXswhQuBdEYtMdhlCdxkp4kc5G0LFgnmGxTEcQg==",
          "dtype": "f8"
         }
        },
        {
         "line": {
          "width": 2
         },
         "mode": "lines",
         "name": "Mining of coal and lignite; extraction of peat (10)",
         "type": "scatter",
         "x": {
          "bdata": "3AfdB94H3wfgB+EH4gfjBw==",
          "dtype": "i2"
         },
         "y": {
          "bdata": "5usV6bnTFUJLVo7xxLAVQm8XaOg2ExdCXFBLHpWLF0LsyChH0GsSQmBOxmSkMhZCH3f4PEH5MkKP8mjcrD4WQg==",
          "dtype": "f8"
         }
        },
        {
         "line": {
          "width": 2
         },
         "mode": "lines",
         "name": "Quarrying of sand and clay",
         "type": "scatter",
         "x": {
          "bdata": "3AfdB94H3wfgB+EH4gfjBw==",
          "dtype": "i2"
         },
         "y": {
          "bdata": "jMoqMq4FFkISYLcdFRAeQrejniXIjR5C/bzRYrwDGUIz750m8/IZQsH4DzmlChRCuOhrJS40F0LGrDUz1iMVQg==",
          "dtype": "f8"
         }
        },
        {
         "line": {
          "width": 2
         },
         "mode": "lines",
         "name": "Extraction of natural gas and services related to natural gas extraction, excluding surveying",
         "type": "scatter",
         "x": {
          "bdata": "3AfdB94H3wfgB+EH4gfjBw==",
          "dtype": "i2"
         },
         "y": {
          "bdata": "IF1uA59zDkLZMklT2vwUQh01Su4GSxNCSL9C8D8KEEJr1v+VVAYDQuDXhUAxRSBCYMXA7rAGGkK28i14/zUNQg==",
          "dtype": "f8"
         }
        },
        {
         "line": {
          "width": 2
         },
         "mode": "lines",
         "name": "Production of electricity nec",
         "type": "scatter",
         "x": {
          "bdata": "3AfdB94H3wfgB+EH4gfjBw==",
          "dtype": "i2"
         },
         "y": {
          "bdata": "5KKGcLK8GEJy5aCFXJ4ZQiiQv+W6BxZCJTaXgSB6EkJftx0lZTcRQjTZ6+xAtBJCSH03h61NEEIDnw8pBNINQg==",
          "dtype": "f8"
         }
        },
        {
         "line": {
          "width": 2
         },
         "mode": "lines",
         "name": "Production of electricity by nuclear",
         "type": "scatter",
         "x": {
          "bdata": "3AfdB94H3wfgB+EH4gfjB+QH",
          "dtype": "i2"
         },
         "y": {
          "bdata": "r6omzS03D0JyBf+OYMMaQuTZ0ePeRhxCeSIXG5LqE0Kboprb5lIUQmZQEBRQnhVC0YzqAUu9C0Jh+HOQLHgKQvT8z8x787tB",
          "dtype": "f8"
         }
        },
        {
         "line": {
          "width": 2
         },
         "mode": "lines",
         "name": "Petroleum Refinery",
         "type": "scatter",
         "x": {
          "bdata": "3AfdB94H3wfgB+EH4gfjBw==",
          "dtype": "i2"
         },
         "y": {
          "bdata": "TOvR7uwRGkKO0plFMuATQr6ExzVOMBBCsWt/bc7qD0KZ2GwRs/QKQvW4XV6mXghCich0U8YpCUJtixO2yQcFQg==",
          "dtype": "f8"
         }
        },
        {
         "line": {
          "width": 2
         },
         "mode": "lines",
         "name": "Production of electricity by petroleum and other oil derivatives",
         "type": "scatter",
         "x": {
          "bdata": "3AfdB94H3wfgB+EH4gfjBw==",
          "dtype": "i2"
         },
         "y": {
          "bdata": "aGKf8CQbCELYvh9tMdQHQgDhy+0m3AdCYJ/AZUk7CEK8ZxpeF18EQlZQaEGf5AhCPrnrfLVOD0KuTE6dFUgBQg==",
          "dtype": "f8"
         }
        }
       ],
       "layout": {
        "legend": {
         "bgcolor": "rgba(255, 255, 255, 0)",
         "borderwidth": 0,
         "title": {
          "text": "Branche"
         },
         "traceorder": "normal",
         "x": 1.05,
         "y": 1
        },
        "showlegend": true,
        "template": {
         "data": {
          "bar": [
           {
            "error_x": {
             "color": "rgb(36,36,36)"
            },
            "error_y": {
             "color": "rgb(36,36,36)"
            },
            "marker": {
             "line": {
              "color": "rgb(234,234,242)",
              "width": 0.5
             },
             "pattern": {
              "fillmode": "overlay",
              "size": 10,
              "solidity": 0.2
             }
            },
            "type": "bar"
           }
          ],
          "barpolar": [
           {
            "marker": {
             "line": {
              "color": "rgb(234,234,242)",
              "width": 0.5
             },
             "pattern": {
              "fillmode": "overlay",
              "size": 10,
              "solidity": 0.2
             }
            },
            "type": "barpolar"
           }
          ],
          "carpet": [
           {
            "aaxis": {
             "endlinecolor": "rgb(36,36,36)",
             "gridcolor": "white",
             "linecolor": "white",
             "minorgridcolor": "white",
             "startlinecolor": "rgb(36,36,36)"
            },
            "baxis": {
             "endlinecolor": "rgb(36,36,36)",
             "gridcolor": "white",
             "linecolor": "white",
             "minorgridcolor": "white",
             "startlinecolor": "rgb(36,36,36)"
            },
            "type": "carpet"
           }
          ],
          "choropleth": [
           {
            "colorbar": {
             "outlinewidth": 0,
             "tickcolor": "rgb(36,36,36)",
             "ticklen": 8,
             "ticks": "outside",
             "tickwidth": 2
            },
            "type": "choropleth"
           }
          ],
          "contour": [
           {
            "colorbar": {
             "outlinewidth": 0,
             "tickcolor": "rgb(36,36,36)",
             "ticklen": 8,
             "ticks": "outside",
             "tickwidth": 2
            },
            "colorscale": [
             [
              0,
              "rgb(2,4,25)"
             ],
             [
              0.06274509803921569,
              "rgb(24,15,41)"
             ],
             [
              0.12549019607843137,
              "rgb(47,23,57)"
             ],
             [
              0.18823529411764706,
              "rgb(71,28,72)"
             ],
             [
              0.25098039215686274,
              "rgb(97,30,82)"
             ],
             [
              0.3137254901960784,
              "rgb(123,30,89)"
             ],
             [
              0.3764705882352941,
              "rgb(150,27,91)"
             ],
             [
              0.4392156862745098,
              "rgb(177,22,88)"
             ],
             [
              0.5019607843137255,
              "rgb(203,26,79)"
             ],
             [
              0.5647058823529412,
              "rgb(223,47,67)"
             ],
             [
              0.6274509803921569,
              "rgb(236,76,61)"
             ],
             [
              0.6901960784313725,
              "rgb(242,107,73)"
             ],
             [
              0.7529411764705882,
              "rgb(244,135,95)"
             ],
             [
              0.8156862745098039,
              "rgb(245,162,122)"
             ],
             [
              0.8784313725490196,
              "rgb(246,188,153)"
             ],
             [
              0.9411764705882353,
              "rgb(247,212,187)"
             ],
             [
              1,
              "rgb(250,234,220)"
             ]
            ],
            "type": "contour"
           }
          ],
          "contourcarpet": [
           {
            "colorbar": {
             "outlinewidth": 0,
             "tickcolor": "rgb(36,36,36)",
             "ticklen": 8,
             "ticks": "outside",
             "tickwidth": 2
            },
            "type": "contourcarpet"
           }
          ],
          "heatmap": [
           {
            "colorbar": {
             "outlinewidth": 0,
             "tickcolor": "rgb(36,36,36)",
             "ticklen": 8,
             "ticks": "outside",
             "tickwidth": 2
            },
            "colorscale": [
             [
              0,
              "rgb(2,4,25)"
             ],
             [
              0.06274509803921569,
              "rgb(24,15,41)"
             ],
             [
              0.12549019607843137,
              "rgb(47,23,57)"
             ],
             [
              0.18823529411764706,
              "rgb(71,28,72)"
             ],
             [
              0.25098039215686274,
              "rgb(97,30,82)"
             ],
             [
              0.3137254901960784,
              "rgb(123,30,89)"
             ],
             [
              0.3764705882352941,
              "rgb(150,27,91)"
             ],
             [
              0.4392156862745098,
              "rgb(177,22,88)"
             ],
             [
              0.5019607843137255,
              "rgb(203,26,79)"
             ],
             [
              0.5647058823529412,
              "rgb(223,47,67)"
             ],
             [
              0.6274509803921569,
              "rgb(236,76,61)"
             ],
             [
              0.6901960784313725,
              "rgb(242,107,73)"
             ],
             [
              0.7529411764705882,
              "rgb(244,135,95)"
             ],
             [
              0.8156862745098039,
              "rgb(245,162,122)"
             ],
             [
              0.8784313725490196,
              "rgb(246,188,153)"
             ],
             [
              0.9411764705882353,
              "rgb(247,212,187)"
             ],
             [
              1,
              "rgb(250,234,220)"
             ]
            ],
            "type": "heatmap"
           }
          ],
          "histogram": [
           {
            "marker": {
             "pattern": {
              "fillmode": "overlay",
              "size": 10,
              "solidity": 0.2
             }
            },
            "type": "histogram"
           }
          ],
          "histogram2d": [
           {
            "colorbar": {
             "outlinewidth": 0,
             "tickcolor": "rgb(36,36,36)",
             "ticklen": 8,
             "ticks": "outside",
             "tickwidth": 2
            },
            "colorscale": [
             [
              0,
              "rgb(2,4,25)"
             ],
             [
              0.06274509803921569,
              "rgb(24,15,41)"
             ],
             [
              0.12549019607843137,
              "rgb(47,23,57)"
             ],
             [
              0.18823529411764706,
              "rgb(71,28,72)"
             ],
             [
              0.25098039215686274,
              "rgb(97,30,82)"
             ],
             [
              0.3137254901960784,
              "rgb(123,30,89)"
             ],
             [
              0.3764705882352941,
              "rgb(150,27,91)"
             ],
             [
              0.4392156862745098,
              "rgb(177,22,88)"
             ],
             [
              0.5019607843137255,
              "rgb(203,26,79)"
             ],
             [
              0.5647058823529412,
              "rgb(223,47,67)"
             ],
             [
              0.6274509803921569,
              "rgb(236,76,61)"
             ],
             [
              0.6901960784313725,
              "rgb(242,107,73)"
             ],
             [
              0.7529411764705882,
              "rgb(244,135,95)"
             ],
             [
              0.8156862745098039,
              "rgb(245,162,122)"
             ],
             [
              0.8784313725490196,
              "rgb(246,188,153)"
             ],
             [
              0.9411764705882353,
              "rgb(247,212,187)"
             ],
             [
              1,
              "rgb(250,234,220)"
             ]
            ],
            "type": "histogram2d"
           }
          ],
          "histogram2dcontour": [
           {
            "colorbar": {
             "outlinewidth": 0,
             "tickcolor": "rgb(36,36,36)",
             "ticklen": 8,
             "ticks": "outside",
             "tickwidth": 2
            },
            "colorscale": [
             [
              0,
              "rgb(2,4,25)"
             ],
             [
              0.06274509803921569,
              "rgb(24,15,41)"
             ],
             [
              0.12549019607843137,
              "rgb(47,23,57)"
             ],
             [
              0.18823529411764706,
              "rgb(71,28,72)"
             ],
             [
              0.25098039215686274,
              "rgb(97,30,82)"
             ],
             [
              0.3137254901960784,
              "rgb(123,30,89)"
             ],
             [
              0.3764705882352941,
              "rgb(150,27,91)"
             ],
             [
              0.4392156862745098,
              "rgb(177,22,88)"
             ],
             [
              0.5019607843137255,
              "rgb(203,26,79)"
             ],
             [
              0.5647058823529412,
              "rgb(223,47,67)"
             ],
             [
              0.6274509803921569,
              "rgb(236,76,61)"
             ],
             [
              0.6901960784313725,
              "rgb(242,107,73)"
             ],
             [
              0.7529411764705882,
              "rgb(244,135,95)"
             ],
             [
              0.8156862745098039,
              "rgb(245,162,122)"
             ],
             [
              0.8784313725490196,
              "rgb(246,188,153)"
             ],
             [
              0.9411764705882353,
              "rgb(247,212,187)"
             ],
             [
              1,
              "rgb(250,234,220)"
             ]
            ],
            "type": "histogram2dcontour"
           }
          ],
          "mesh3d": [
           {
            "colorbar": {
             "outlinewidth": 0,
             "tickcolor": "rgb(36,36,36)",
             "ticklen": 8,
             "ticks": "outside",
             "tickwidth": 2
            },
            "type": "mesh3d"
           }
          ],
          "parcoords": [
           {
            "line": {
             "colorbar": {
              "outlinewidth": 0,
              "tickcolor": "rgb(36,36,36)",
              "ticklen": 8,
              "ticks": "outside",
              "tickwidth": 2
             }
            },
            "type": "parcoords"
           }
          ],
          "pie": [
           {
            "automargin": true,
            "type": "pie"
           }
          ],
          "scatter": [
           {
            "fillpattern": {
             "fillmode": "overlay",
             "size": 10,
             "solidity": 0.2
            },
            "type": "scatter"
           }
          ],
          "scatter3d": [
           {
            "line": {
             "colorbar": {
              "outlinewidth": 0,
              "tickcolor": "rgb(36,36,36)",
              "ticklen": 8,
              "ticks": "outside",
              "tickwidth": 2
             }
            },
            "marker": {
             "colorbar": {
              "outlinewidth": 0,
              "tickcolor": "rgb(36,36,36)",
              "ticklen": 8,
              "ticks": "outside",
              "tickwidth": 2
             }
            },
            "type": "scatter3d"
           }
          ],
          "scattercarpet": [
           {
            "marker": {
             "colorbar": {
              "outlinewidth": 0,
              "tickcolor": "rgb(36,36,36)",
              "ticklen": 8,
              "ticks": "outside",
              "tickwidth": 2
             }
            },
            "type": "scattercarpet"
           }
          ],
          "scattergeo": [
           {
            "marker": {
             "colorbar": {
              "outlinewidth": 0,
              "tickcolor": "rgb(36,36,36)",
              "ticklen": 8,
              "ticks": "outside",
              "tickwidth": 2
             }
            },
            "type": "scattergeo"
           }
          ],
          "scattergl": [
           {
            "marker": {
             "colorbar": {
              "outlinewidth": 0,
              "tickcolor": "rgb(36,36,36)",
              "ticklen": 8,
              "ticks": "outside",
              "tickwidth": 2
             }
            },
            "type": "scattergl"
           }
          ],
          "scattermap": [
           {
            "marker": {
             "colorbar": {
              "outlinewidth": 0,
              "tickcolor": "rgb(36,36,36)",
              "ticklen": 8,
              "ticks": "outside",
              "tickwidth": 2
             }
            },
            "type": "scattermap"
           }
          ],
          "scattermapbox": [
           {
            "marker": {
             "colorbar": {
              "outlinewidth": 0,
              "tickcolor": "rgb(36,36,36)",
              "ticklen": 8,
              "ticks": "outside",
              "tickwidth": 2
             }
            },
            "type": "scattermapbox"
           }
          ],
          "scatterpolar": [
           {
            "marker": {
             "colorbar": {
              "outlinewidth": 0,
              "tickcolor": "rgb(36,36,36)",
              "ticklen": 8,
              "ticks": "outside",
              "tickwidth": 2
             }
            },
            "type": "scatterpolar"
           }
          ],
          "scatterpolargl": [
           {
            "marker": {
             "colorbar": {
              "outlinewidth": 0,
              "tickcolor": "rgb(36,36,36)",
              "ticklen": 8,
              "ticks": "outside",
              "tickwidth": 2
             }
            },
            "type": "scatterpolargl"
           }
          ],
          "scatterternary": [
           {
            "marker": {
             "colorbar": {
              "outlinewidth": 0,
              "tickcolor": "rgb(36,36,36)",
              "ticklen": 8,
              "ticks": "outside",
              "tickwidth": 2
             }
            },
            "type": "scatterternary"
           }
          ],
          "surface": [
           {
            "colorbar": {
             "outlinewidth": 0,
             "tickcolor": "rgb(36,36,36)",
             "ticklen": 8,
             "ticks": "outside",
             "tickwidth": 2
            },
            "colorscale": [
             [
              0,
              "rgb(2,4,25)"
             ],
             [
              0.06274509803921569,
              "rgb(24,15,41)"
             ],
             [
              0.12549019607843137,
              "rgb(47,23,57)"
             ],
             [
              0.18823529411764706,
              "rgb(71,28,72)"
             ],
             [
              0.25098039215686274,
              "rgb(97,30,82)"
             ],
             [
              0.3137254901960784,
              "rgb(123,30,89)"
             ],
             [
              0.3764705882352941,
              "rgb(150,27,91)"
             ],
             [
              0.4392156862745098,
              "rgb(177,22,88)"
             ],
             [
              0.5019607843137255,
              "rgb(203,26,79)"
             ],
             [
              0.5647058823529412,
              "rgb(223,47,67)"
             ],
             [
              0.6274509803921569,
              "rgb(236,76,61)"
             ],
             [
              0.6901960784313725,
              "rgb(242,107,73)"
             ],
             [
              0.7529411764705882,
              "rgb(244,135,95)"
             ],
             [
              0.8156862745098039,
              "rgb(245,162,122)"
             ],
             [
              0.8784313725490196,
              "rgb(246,188,153)"
             ],
             [
              0.9411764705882353,
              "rgb(247,212,187)"
             ],
             [
              1,
              "rgb(250,234,220)"
             ]
            ],
            "type": "surface"
           }
          ],
          "table": [
           {
            "cells": {
             "fill": {
              "color": "rgb(231,231,240)"
             },
             "line": {
              "color": "white"
             }
            },
            "header": {
             "fill": {
              "color": "rgb(183,183,191)"
             },
             "line": {
              "color": "white"
             }
            },
            "type": "table"
           }
          ]
         },
         "layout": {
          "annotationdefaults": {
           "arrowcolor": "rgb(67,103,167)"
          },
          "autotypenumbers": "strict",
          "coloraxis": {
           "colorbar": {
            "outlinewidth": 0,
            "tickcolor": "rgb(36,36,36)",
            "ticklen": 8,
            "ticks": "outside",
            "tickwidth": 2
           }
          },
          "colorscale": {
           "sequential": [
            [
             0,
             "rgb(2,4,25)"
            ],
            [
             0.06274509803921569,
             "rgb(24,15,41)"
            ],
            [
             0.12549019607843137,
             "rgb(47,23,57)"
            ],
            [
             0.18823529411764706,
             "rgb(71,28,72)"
            ],
            [
             0.25098039215686274,
             "rgb(97,30,82)"
            ],
            [
             0.3137254901960784,
             "rgb(123,30,89)"
            ],
            [
             0.3764705882352941,
             "rgb(150,27,91)"
            ],
            [
             0.4392156862745098,
             "rgb(177,22,88)"
            ],
            [
             0.5019607843137255,
             "rgb(203,26,79)"
            ],
            [
             0.5647058823529412,
             "rgb(223,47,67)"
            ],
            [
             0.6274509803921569,
             "rgb(236,76,61)"
            ],
            [
             0.6901960784313725,
             "rgb(242,107,73)"
            ],
            [
             0.7529411764705882,
             "rgb(244,135,95)"
            ],
            [
             0.8156862745098039,
             "rgb(245,162,122)"
            ],
            [
             0.8784313725490196,
             "rgb(246,188,153)"
            ],
            [
             0.9411764705882353,
             "rgb(247,212,187)"
            ],
            [
             1,
             "rgb(250,234,220)"
            ]
           ],
           "sequentialminus": [
            [
             0,
             "rgb(2,4,25)"
            ],
            [
             0.06274509803921569,
             "rgb(24,15,41)"
            ],
            [
             0.12549019607843137,
             "rgb(47,23,57)"
            ],
            [
             0.18823529411764706,
             "rgb(71,28,72)"
            ],
            [
             0.25098039215686274,
             "rgb(97,30,82)"
            ],
            [
             0.3137254901960784,
             "rgb(123,30,89)"
            ],
            [
             0.3764705882352941,
             "rgb(150,27,91)"
            ],
            [
             0.4392156862745098,
             "rgb(177,22,88)"
            ],
            [
             0.5019607843137255,
             "rgb(203,26,79)"
            ],
            [
             0.5647058823529412,
             "rgb(223,47,67)"
            ],
            [
             0.6274509803921569,
             "rgb(236,76,61)"
            ],
            [
             0.6901960784313725,
             "rgb(242,107,73)"
            ],
            [
             0.7529411764705882,
             "rgb(244,135,95)"
            ],
            [
             0.8156862745098039,
             "rgb(245,162,122)"
            ],
            [
             0.8784313725490196,
             "rgb(246,188,153)"
            ],
            [
             0.9411764705882353,
             "rgb(247,212,187)"
            ],
            [
             1,
             "rgb(250,234,220)"
            ]
           ]
          },
          "colorway": [
           "rgb(76,114,176)",
           "rgb(221,132,82)",
           "rgb(85,168,104)",
           "rgb(196,78,82)",
           "rgb(129,114,179)",
           "rgb(147,120,96)",
           "rgb(218,139,195)",
           "rgb(140,140,140)",
           "rgb(204,185,116)",
           "rgb(100,181,205)"
          ],
          "font": {
           "color": "rgb(36,36,36)"
          },
          "geo": {
           "bgcolor": "white",
           "lakecolor": "white",
           "landcolor": "rgb(234,234,242)",
           "showlakes": true,
           "showland": true,
           "subunitcolor": "white"
          },
          "hoverlabel": {
           "align": "left"
          },
          "hovermode": "closest",
          "paper_bgcolor": "white",
          "plot_bgcolor": "rgb(234,234,242)",
          "polar": {
           "angularaxis": {
            "gridcolor": "white",
            "linecolor": "white",
            "showgrid": true,
            "ticks": ""
           },
           "bgcolor": "rgb(234,234,242)",
           "radialaxis": {
            "gridcolor": "white",
            "linecolor": "white",
            "showgrid": true,
            "ticks": ""
           }
          },
          "scene": {
           "xaxis": {
            "backgroundcolor": "rgb(234,234,242)",
            "gridcolor": "white",
            "gridwidth": 2,
            "linecolor": "white",
            "showbackground": true,
            "showgrid": true,
            "ticks": "",
            "zerolinecolor": "white"
           },
           "yaxis": {
            "backgroundcolor": "rgb(234,234,242)",
            "gridcolor": "white",
            "gridwidth": 2,
            "linecolor": "white",
            "showbackground": true,
            "showgrid": true,
            "ticks": "",
            "zerolinecolor": "white"
           },
           "zaxis": {
            "backgroundcolor": "rgb(234,234,242)",
            "gridcolor": "white",
            "gridwidth": 2,
            "linecolor": "white",
            "showbackground": true,
            "showgrid": true,
            "ticks": "",
            "zerolinecolor": "white"
           }
          },
          "shapedefaults": {
           "fillcolor": "rgb(67,103,167)",
           "line": {
            "width": 0
           },
           "opacity": 0.5
          },
          "ternary": {
           "aaxis": {
            "gridcolor": "white",
            "linecolor": "white",
            "showgrid": true,
            "ticks": ""
           },
           "baxis": {
            "gridcolor": "white",
            "linecolor": "white",
            "showgrid": true,
            "ticks": ""
           },
           "bgcolor": "rgb(234,234,242)",
           "caxis": {
            "gridcolor": "white",
            "linecolor": "white",
            "showgrid": true,
            "ticks": ""
           }
          },
          "xaxis": {
           "automargin": true,
           "gridcolor": "white",
           "linecolor": "white",
           "showgrid": true,
           "ticks": "",
           "title": {
            "standoff": 15
           },
           "zerolinecolor": "white"
          },
          "yaxis": {
           "automargin": true,
           "gridcolor": "white",
           "linecolor": "white",
           "showgrid": true,
           "ticks": "",
           "title": {
            "standoff": 15
           },
           "zerolinecolor": "white"
          }
         }
        },
        "title": {
         "text": "Zeitlicher Verlauf des durchschnittlichen GHG Impacts (2012–2020) – Top 10 Branchen mit höchstem Impact"
        },
        "xaxis": {
         "title": {
          "text": "Jahr"
         }
        },
        "yaxis": {
         "title": {
          "text": "Durchschnittlicher GHG Impact in USD"
         }
        }
       }
      }
     },
     "metadata": {},
     "output_type": "display_data"
    }
   ],
   "source": [
    "# Zeitlicher Verlauf der Emissionen der TOP 10 Branchen mit höchstem Impact\n",
    "\n",
    "# Series in Liste umwandeln\n",
    "top_10_high_emission_industries = top_10_industries.index.tolist()\n",
    "\n",
    "# Nur die Top 10 Branchen mit niedrigem Impact auswählen\n",
    "df_filtered = df[df['Industry (Exiobase)'].isin(top_10_high_emission_industries)]\n",
    "\n",
    "# Gruppieren nach Jahr und Branche, dann Mittelwert berechnen\n",
    "ghg_by_year = df_filtered.groupby(['Year', 'Industry (Exiobase)'])['Total GHG Environmental Impact (Scope 1, 2, 3)'].mean().abs().reset_index()\n",
    "\n",
    "# Erstelle eine leere Figur für Plotly\n",
    "fig = go.Figure()\n",
    "\n",
    "# Für jede Branche eine Linie hinzufügen\n",
    "for industry in top_10_high_emission_industries:\n",
    "    data = ghg_by_year[ghg_by_year['Industry (Exiobase)'] == industry]\n",
    "    fig.add_trace(go.Scatter(\n",
    "        x=data['Year'], \n",
    "        y=data['Total GHG Environmental Impact (Scope 1, 2, 3)'],\n",
    "        mode='lines',\n",
    "        name=industry, \n",
    "        line=dict(width=2), \n",
    "    ))\n",
    "\n",
    "# Layout anpassen\n",
    "fig.update_layout(\n",
    "    title='Zeitlicher Verlauf des durchschnittlichen GHG Impacts (2012–2020) – Top 10 Branchen mit höchstem Impact',\n",
    "    xaxis_title='Jahr',\n",
    "    yaxis_title='Durchschnittlicher GHG Impact in USD',\n",
    "    template='seaborn', \n",
    "    legend_title='Branche',\n",
    "    legend=dict(\n",
    "        x=1.05, \n",
    "        y=1,\n",
    "        traceorder='normal',\n",
    "        bgcolor='rgba(255, 255, 255, 0)',\n",
    "        borderwidth=0,\n",
    "    ),\n",
    "    showlegend=True \n",
    ")\n",
    "\n",
    "fig.write_html(\"ghg_trend_top_10_high_impact.html\")\n",
    "\n",
    "fig.show()"
   ]
  }
 ],
 "metadata": {
  "kernelspec": {
   "display_name": ".venv",
   "language": "python",
   "name": "python3"
  },
  "language_info": {
   "codemirror_mode": {
    "name": "ipython",
    "version": 3
   },
   "file_extension": ".py",
   "mimetype": "text/x-python",
   "name": "python",
   "nbconvert_exporter": "python",
   "pygments_lexer": "ipython3",
   "version": "3.13.3"
  }
 },
 "nbformat": 4,
 "nbformat_minor": 5
}
